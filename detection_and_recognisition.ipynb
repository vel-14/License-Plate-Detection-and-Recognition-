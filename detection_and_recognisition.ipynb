{
 "cells": [
  {
   "cell_type": "code",
   "execution_count": 1,
   "metadata": {},
   "outputs": [],
   "source": [
    "# Importing all the necessary libraries\n",
    "import pandas as pd\n",
    "from PIL import Image\n",
    "import cv2\n",
    "import numpy as np\n",
    "from ultralytics import YOLO\n",
    "import matplotlib.pyplot as plt\n",
    "import os\n",
    "from torchvision import transforms\n",
    "import torch.nn as nn \n",
    "import torch.nn.functional as F\n",
    "from torch.utils.data import Dataset,DataLoader\n",
    "import torch\n",
    "from sklearn.metrics import accuracy_score, precision_score, recall_score, f1_score\n",
    "import re\n",
    "import pickle\n",
    "import csv"
   ]
  },
  {
   "cell_type": "code",
   "execution_count": 3,
   "metadata": {},
   "outputs": [],
   "source": [
    "# Import the co ordinates of bbox\n",
    "\n",
    "data = pd.read_csv('/Users/velmurugan/Desktop/@/python_works/License plate detection/Licplatesdetection_train.csv')"
   ]
  },
  {
   "cell_type": "code",
   "execution_count": 3,
   "metadata": {},
   "outputs": [
    {
     "data": {
      "text/html": [
       "<div>\n",
       "<style scoped>\n",
       "    .dataframe tbody tr th:only-of-type {\n",
       "        vertical-align: middle;\n",
       "    }\n",
       "\n",
       "    .dataframe tbody tr th {\n",
       "        vertical-align: top;\n",
       "    }\n",
       "\n",
       "    .dataframe thead th {\n",
       "        text-align: right;\n",
       "    }\n",
       "</style>\n",
       "<table border=\"1\" class=\"dataframe\">\n",
       "  <thead>\n",
       "    <tr style=\"text-align: right;\">\n",
       "      <th></th>\n",
       "      <th>img_id</th>\n",
       "      <th>ymin</th>\n",
       "      <th>xmin</th>\n",
       "      <th>ymax</th>\n",
       "      <th>xmax</th>\n",
       "    </tr>\n",
       "  </thead>\n",
       "  <tbody>\n",
       "    <tr>\n",
       "      <th>0</th>\n",
       "      <td>1.jpg</td>\n",
       "      <td>276</td>\n",
       "      <td>94</td>\n",
       "      <td>326</td>\n",
       "      <td>169</td>\n",
       "    </tr>\n",
       "    <tr>\n",
       "      <th>1</th>\n",
       "      <td>10.jpg</td>\n",
       "      <td>311</td>\n",
       "      <td>395</td>\n",
       "      <td>344</td>\n",
       "      <td>444</td>\n",
       "    </tr>\n",
       "    <tr>\n",
       "      <th>2</th>\n",
       "      <td>100.jpg</td>\n",
       "      <td>406</td>\n",
       "      <td>263</td>\n",
       "      <td>450</td>\n",
       "      <td>434</td>\n",
       "    </tr>\n",
       "    <tr>\n",
       "      <th>3</th>\n",
       "      <td>101.jpg</td>\n",
       "      <td>283</td>\n",
       "      <td>363</td>\n",
       "      <td>315</td>\n",
       "      <td>494</td>\n",
       "    </tr>\n",
       "    <tr>\n",
       "      <th>4</th>\n",
       "      <td>102.jpg</td>\n",
       "      <td>139</td>\n",
       "      <td>42</td>\n",
       "      <td>280</td>\n",
       "      <td>222</td>\n",
       "    </tr>\n",
       "  </tbody>\n",
       "</table>\n",
       "</div>"
      ],
      "text/plain": [
       "    img_id  ymin  xmin  ymax  xmax\n",
       "0    1.jpg   276    94   326   169\n",
       "1   10.jpg   311   395   344   444\n",
       "2  100.jpg   406   263   450   434\n",
       "3  101.jpg   283   363   315   494\n",
       "4  102.jpg   139    42   280   222"
      ]
     },
     "execution_count": 3,
     "metadata": {},
     "output_type": "execute_result"
    }
   ],
   "source": [
    "data.head()"
   ]
  },
  {
   "cell_type": "code",
   "execution_count": 4,
   "metadata": {},
   "outputs": [],
   "source": [
    "# Settings to show all the rows in the dataframe\n",
    "\n",
    "pd.set_option('display.max_rows', None)"
   ]
  },
  {
   "cell_type": "code",
   "execution_count": 4,
   "metadata": {},
   "outputs": [
    {
     "name": "stdout",
     "output_type": "stream",
     "text": [
      "  img_id  ymin  xmin  ymax  xmax\n",
      "0  1.jpg   276    94   326   169\n",
      "1  2.jpg   297    96   324   209\n",
      "2  3.jpg   525   216   547   397\n"
     ]
    },
    {
     "data": {
      "text/html": [
       "<div>\n",
       "<style scoped>\n",
       "    .dataframe tbody tr th:only-of-type {\n",
       "        vertical-align: middle;\n",
       "    }\n",
       "\n",
       "    .dataframe tbody tr th {\n",
       "        vertical-align: top;\n",
       "    }\n",
       "\n",
       "    .dataframe thead th {\n",
       "        text-align: right;\n",
       "    }\n",
       "</style>\n",
       "<table border=\"1\" class=\"dataframe\">\n",
       "  <thead>\n",
       "    <tr style=\"text-align: right;\">\n",
       "      <th></th>\n",
       "      <th>img_id</th>\n",
       "      <th>ymin</th>\n",
       "      <th>xmin</th>\n",
       "      <th>ymax</th>\n",
       "      <th>xmax</th>\n",
       "    </tr>\n",
       "  </thead>\n",
       "  <tbody>\n",
       "    <tr>\n",
       "      <th>897</th>\n",
       "      <td>898.jpg</td>\n",
       "      <td>341</td>\n",
       "      <td>316</td>\n",
       "      <td>390</td>\n",
       "      <td>523</td>\n",
       "    </tr>\n",
       "    <tr>\n",
       "      <th>898</th>\n",
       "      <td>899.jpg</td>\n",
       "      <td>239</td>\n",
       "      <td>133</td>\n",
       "      <td>260</td>\n",
       "      <td>210</td>\n",
       "    </tr>\n",
       "    <tr>\n",
       "      <th>899</th>\n",
       "      <td>900.jpg</td>\n",
       "      <td>286</td>\n",
       "      <td>266</td>\n",
       "      <td>332</td>\n",
       "      <td>421</td>\n",
       "    </tr>\n",
       "  </tbody>\n",
       "</table>\n",
       "</div>"
      ],
      "text/plain": [
       "      img_id  ymin  xmin  ymax  xmax\n",
       "897  898.jpg   341   316   390   523\n",
       "898  899.jpg   239   133   260   210\n",
       "899  900.jpg   286   266   332   421"
      ]
     },
     "execution_count": 4,
     "metadata": {},
     "output_type": "execute_result"
    }
   ],
   "source": [
    "# img_id column is not sorted \n",
    "# Function to extract numeric part from img_id to sort\n",
    "\n",
    "def extract_numeric_part(img_id):\n",
    "    \n",
    "    return int(img_id.split('.')[0])\n",
    "\n",
    "# Apply the function to create a new column for sorting\n",
    "data['img_id_numeric'] = data['img_id'].apply(extract_numeric_part)\n",
    "\n",
    "# Sort the DataFrame based on the numeric column\n",
    "data = data.sort_values(by='img_id_numeric')\n",
    "\n",
    "# Drop the numeric column it is not needed\n",
    "data = data.drop(columns='img_id_numeric')\n",
    "\n",
    "data.reset_index(drop=True, inplace=True)\n",
    "\n",
    "print(data.head(3))\n",
    "data.tail(3)\n"
   ]
  },
  {
   "cell_type": "code",
   "execution_count": 5,
   "metadata": {},
   "outputs": [],
   "source": [
    "#getting the width and height of the image to convert xmin,ymin,xmax,ymax values to yolo format\n",
    "#yolo format ==> x_center, y_center, width, height\n",
    "\n",
    "def get_image_dimensions(image_path):\n",
    "  \n",
    "    with Image.open(image_path) as img:\n",
    "        width, height = img.size\n",
    "        return width, height"
   ]
  },
  {
   "cell_type": "code",
   "execution_count": 6,
   "metadata": {},
   "outputs": [],
   "source": [
    "#converting the label csv file to txt format to train yolo model\n",
    "\n",
    "def convert_csv_to_yolo(df, image_dir, label_dir, class_id):\n",
    "  \"\"\"\n",
    "  Converts a CSV file with bounding box annotations to YOLO format.\n",
    "\n",
    "  \"\"\"\n",
    "  \n",
    "  for index, row in df.iterrows():\n",
    "    image_name = row[\"img_id\"]\n",
    "    image_path = f\"{image_dir}/{image_name}\"\n",
    "    \n",
    "    ymin, xmin, ymax, xmax = row[[\"ymin\", \"xmin\", \"ymax\", \"xmax\"]]\n",
    "    \n",
    "    # Get image width and height (you'll need to replace this with your method to get image dimensions)\n",
    "    image_width, image_height = get_image_dimensions(image_path)\n",
    "    \n",
    "    # Calculate normalized center coordinates, width, and height\n",
    "    x_center = (xmin + xmax) / (2 * image_width)\n",
    "    y_center = (ymin + ymax) / (2 * image_height)\n",
    "    width = (xmax - xmin) / image_width\n",
    "    height = (ymax - ymin) / image_height\n",
    "    \n",
    "    # Create the YOLO format line\n",
    "    yolo_line = f\"{class_id} {x_center} {y_center} {width} {height}\"\n",
    "    \n",
    "    # Write the line to a text file named after the image\n",
    "    with open(f\"{label_dir}/{(image_name.split('.'))[0]}.txt\", \"w\") as f:\n",
    "      f.write(yolo_line)\n"
   ]
  },
  {
   "cell_type": "code",
   "execution_count": 8,
   "metadata": {},
   "outputs": [],
   "source": [
    "# I take the 1st 870 samples for training and last 30 samples for validation\n",
    "# creating the train and validation label txt files\n",
    "\n",
    "train_data = data.iloc[:870]\n",
    "val_data = data.iloc[870:]\n",
    "\n",
    "train_image_path ='/Users/velmurugan/Desktop/@/python_works/License plate detection/images/train'\n",
    "train_label_path ='/Users/velmurugan/Desktop/@/python_works/License plate detection/labels/train'\n",
    "val_image_path = '/Users/velmurugan/Desktop/@/python_works/License plate detection/images/val'\n",
    "val_label_path = '/Users/velmurugan/Desktop/@/python_works/License plate detection/labels/val' \n",
    "\n",
    "convert_csv_to_yolo(data=train_data,image_dir=train_image_path,label_dir=train_label_path,class_id=0)\n",
    "convert_csv_to_yolo(data=val_data,image_dir=val_image_path,label_dir=val_label_path,class_id=0)\n"
   ]
  },
  {
   "cell_type": "code",
   "execution_count": 10,
   "metadata": {},
   "outputs": [
    {
     "name": "stdout",
     "output_type": "stream",
     "text": [
      "Ultralytics YOLOv8.2.38 🚀 Python-3.12.0 torch-2.2.1 CPU (Apple M1)\n",
      "\u001b[34m\u001b[1mengine/trainer: \u001b[0mtask=detect, mode=train, model=yolov8n.pt, data=/Users/velmurugan/Desktop/@/python_works/License plate detection/config.yaml, epochs=20, time=None, patience=100, batch=16, imgsz=640, save=True, save_period=-1, cache=False, device=None, workers=8, project=None, name=train5, exist_ok=False, pretrained=True, optimizer=auto, verbose=True, seed=0, deterministic=True, single_cls=False, rect=False, cos_lr=False, close_mosaic=10, resume=False, amp=True, fraction=1.0, profile=False, freeze=None, multi_scale=False, overlap_mask=True, mask_ratio=4, dropout=0.0, val=True, split=val, save_json=False, save_hybrid=False, conf=None, iou=0.7, max_det=300, half=False, dnn=False, plots=True, source=None, vid_stride=1, stream_buffer=False, visualize=False, augment=False, agnostic_nms=False, classes=None, retina_masks=False, embed=None, show=False, save_frames=False, save_txt=False, save_conf=False, save_crop=False, show_labels=True, show_conf=True, show_boxes=True, line_width=None, format=torchscript, keras=False, optimize=False, int8=False, dynamic=False, simplify=False, opset=None, workspace=4, nms=False, lr0=0.01, lrf=0.01, momentum=0.937, weight_decay=0.0005, warmup_epochs=3.0, warmup_momentum=0.8, warmup_bias_lr=0.1, box=7.5, cls=0.5, dfl=1.5, pose=12.0, kobj=1.0, label_smoothing=0.0, nbs=64, hsv_h=0.015, hsv_s=0.7, hsv_v=0.4, degrees=0.0, translate=0.1, scale=0.5, shear=0.0, perspective=0.0, flipud=0.0, fliplr=0.5, bgr=0.0, mosaic=1.0, mixup=0.0, copy_paste=0.0, auto_augment=randaugment, erasing=0.4, crop_fraction=1.0, cfg=None, tracker=botsort.yaml, save_dir=runs/detect/train5\n",
      "Overriding model.yaml nc=80 with nc=1\n",
      "\n",
      "                   from  n    params  module                                       arguments                     \n",
      "  0                  -1  1       464  ultralytics.nn.modules.conv.Conv             [3, 16, 3, 2]                 \n",
      "  1                  -1  1      4672  ultralytics.nn.modules.conv.Conv             [16, 32, 3, 2]                \n",
      "  2                  -1  1      7360  ultralytics.nn.modules.block.C2f             [32, 32, 1, True]             \n",
      "  3                  -1  1     18560  ultralytics.nn.modules.conv.Conv             [32, 64, 3, 2]                \n",
      "  4                  -1  2     49664  ultralytics.nn.modules.block.C2f             [64, 64, 2, True]             \n",
      "  5                  -1  1     73984  ultralytics.nn.modules.conv.Conv             [64, 128, 3, 2]               \n",
      "  6                  -1  2    197632  ultralytics.nn.modules.block.C2f             [128, 128, 2, True]           \n",
      "  7                  -1  1    295424  ultralytics.nn.modules.conv.Conv             [128, 256, 3, 2]              \n",
      "  8                  -1  1    460288  ultralytics.nn.modules.block.C2f             [256, 256, 1, True]           \n",
      "  9                  -1  1    164608  ultralytics.nn.modules.block.SPPF            [256, 256, 5]                 \n",
      " 10                  -1  1         0  torch.nn.modules.upsampling.Upsample         [None, 2, 'nearest']          \n",
      " 11             [-1, 6]  1         0  ultralytics.nn.modules.conv.Concat           [1]                           \n",
      " 12                  -1  1    148224  ultralytics.nn.modules.block.C2f             [384, 128, 1]                 \n",
      " 13                  -1  1         0  torch.nn.modules.upsampling.Upsample         [None, 2, 'nearest']          \n",
      " 14             [-1, 4]  1         0  ultralytics.nn.modules.conv.Concat           [1]                           \n",
      " 15                  -1  1     37248  ultralytics.nn.modules.block.C2f             [192, 64, 1]                  \n",
      " 16                  -1  1     36992  ultralytics.nn.modules.conv.Conv             [64, 64, 3, 2]                \n",
      " 17            [-1, 12]  1         0  ultralytics.nn.modules.conv.Concat           [1]                           \n",
      " 18                  -1  1    123648  ultralytics.nn.modules.block.C2f             [192, 128, 1]                 \n",
      " 19                  -1  1    147712  ultralytics.nn.modules.conv.Conv             [128, 128, 3, 2]              \n",
      " 20             [-1, 9]  1         0  ultralytics.nn.modules.conv.Concat           [1]                           \n",
      " 21                  -1  1    493056  ultralytics.nn.modules.block.C2f             [384, 256, 1]                 \n",
      " 22        [15, 18, 21]  1    751507  ultralytics.nn.modules.head.Detect           [1, [64, 128, 256]]           \n",
      "Model summary: 225 layers, 3011043 parameters, 3011027 gradients, 8.2 GFLOPs\n",
      "\n",
      "Transferred 319/355 items from pretrained weights\n",
      "\u001b[34m\u001b[1mTensorBoard: \u001b[0mStart with 'tensorboard --logdir runs/detect/train5', view at http://localhost:6006/\n",
      "Freezing layer 'model.22.dfl.conv.weight'\n"
     ]
    },
    {
     "name": "stderr",
     "output_type": "stream",
     "text": [
      "\u001b[34m\u001b[1mtrain: \u001b[0mScanning /Users/velmurugan/Desktop/@/python_works/License plate detection/labels/train.cache... 870 images, 0 backgrounds, 0 corrupt: 100%|██████████| 870/870 [00:00<?, ?it/s]\n",
      "\u001b[34m\u001b[1mval: \u001b[0mScanning /Users/velmurugan/Desktop/@/python_works/License plate detection/labels/val.cache... 30 images, 0 backgrounds, 0 corrupt: 100%|██████████| 30/30 [00:00<?, ?it/s]\n"
     ]
    },
    {
     "name": "stdout",
     "output_type": "stream",
     "text": [
      "Plotting labels to runs/detect/train5/labels.jpg... \n",
      "\u001b[34m\u001b[1moptimizer:\u001b[0m 'optimizer=auto' found, ignoring 'lr0=0.01' and 'momentum=0.937' and determining best 'optimizer', 'lr0' and 'momentum' automatically... \n",
      "\u001b[34m\u001b[1moptimizer:\u001b[0m AdamW(lr=0.002, momentum=0.9) with parameter groups 57 weight(decay=0.0), 64 weight(decay=0.0005), 63 bias(decay=0.0)\n",
      "\u001b[34m\u001b[1mTensorBoard: \u001b[0mmodel graph visualization added ✅\n",
      "Image sizes 640 train, 640 val\n",
      "Using 0 dataloader workers\n",
      "Logging results to \u001b[1mruns/detect/train5\u001b[0m\n",
      "Starting training for 20 epochs...\n",
      "\n",
      "      Epoch    GPU_mem   box_loss   cls_loss   dfl_loss  Instances       Size\n"
     ]
    },
    {
     "name": "stderr",
     "output_type": "stream",
     "text": [
      "       1/20         0G      1.191      2.209      1.078         10        640: 100%|██████████| 55/55 [08:35<00:00,  9.38s/it]\n",
      "                 Class     Images  Instances      Box(P          R      mAP50  mAP50-95): 100%|██████████| 1/1 [00:09<00:00,  9.11s/it]"
     ]
    },
    {
     "name": "stdout",
     "output_type": "stream",
     "text": [
      "                   all         30         30    0.00333          1      0.584      0.396\n"
     ]
    },
    {
     "name": "stderr",
     "output_type": "stream",
     "text": [
      "\n"
     ]
    },
    {
     "name": "stdout",
     "output_type": "stream",
     "text": [
      "\n",
      "      Epoch    GPU_mem   box_loss   cls_loss   dfl_loss  Instances       Size\n"
     ]
    },
    {
     "name": "stderr",
     "output_type": "stream",
     "text": [
      "       2/20         0G      1.156      1.357       1.03         12        640: 100%|██████████| 55/55 [09:05<00:00,  9.93s/it]\n",
      "                 Class     Images  Instances      Box(P          R      mAP50  mAP50-95): 100%|██████████| 1/1 [00:10<00:00, 10.68s/it]"
     ]
    },
    {
     "name": "stdout",
     "output_type": "stream",
     "text": [
      "                   all         30         30          1      0.919      0.964      0.643\n"
     ]
    },
    {
     "name": "stderr",
     "output_type": "stream",
     "text": [
      "\n"
     ]
    },
    {
     "name": "stdout",
     "output_type": "stream",
     "text": [
      "\n",
      "      Epoch    GPU_mem   box_loss   cls_loss   dfl_loss  Instances       Size\n"
     ]
    },
    {
     "name": "stderr",
     "output_type": "stream",
     "text": [
      "       3/20         0G      1.146       1.16      1.024         12        640: 100%|██████████| 55/55 [10:44<00:00, 11.71s/it]\n",
      "                 Class     Images  Instances      Box(P          R      mAP50  mAP50-95): 100%|██████████| 1/1 [00:10<00:00, 10.11s/it]"
     ]
    },
    {
     "name": "stdout",
     "output_type": "stream",
     "text": [
      "                   all         30         30          1      0.959      0.992      0.722\n"
     ]
    },
    {
     "name": "stderr",
     "output_type": "stream",
     "text": [
      "\n"
     ]
    },
    {
     "name": "stdout",
     "output_type": "stream",
     "text": [
      "\n",
      "      Epoch    GPU_mem   box_loss   cls_loss   dfl_loss  Instances       Size\n"
     ]
    },
    {
     "name": "stderr",
     "output_type": "stream",
     "text": [
      "       4/20         0G       1.18      0.997      1.031         11        640: 100%|██████████| 55/55 [08:48<00:00,  9.61s/it]\n",
      "                 Class     Images  Instances      Box(P          R      mAP50  mAP50-95): 100%|██████████| 1/1 [00:08<00:00,  8.73s/it]"
     ]
    },
    {
     "name": "stdout",
     "output_type": "stream",
     "text": [
      "                   all         30         30          1      0.989      0.995      0.715\n"
     ]
    },
    {
     "name": "stderr",
     "output_type": "stream",
     "text": [
      "\n"
     ]
    },
    {
     "name": "stdout",
     "output_type": "stream",
     "text": [
      "\n",
      "      Epoch    GPU_mem   box_loss   cls_loss   dfl_loss  Instances       Size\n"
     ]
    },
    {
     "name": "stderr",
     "output_type": "stream",
     "text": [
      "       5/20         0G       1.14     0.9036      1.021          8        640: 100%|██████████| 55/55 [08:33<00:00,  9.34s/it]\n",
      "                 Class     Images  Instances      Box(P          R      mAP50  mAP50-95): 100%|██████████| 1/1 [00:08<00:00,  8.75s/it]"
     ]
    },
    {
     "name": "stdout",
     "output_type": "stream",
     "text": [
      "                   all         30         30      0.997      0.967      0.965      0.632\n"
     ]
    },
    {
     "name": "stderr",
     "output_type": "stream",
     "text": [
      "\n"
     ]
    },
    {
     "name": "stdout",
     "output_type": "stream",
     "text": [
      "\n",
      "      Epoch    GPU_mem   box_loss   cls_loss   dfl_loss  Instances       Size\n"
     ]
    },
    {
     "name": "stderr",
     "output_type": "stream",
     "text": [
      "       6/20         0G      1.062     0.7907      0.995          7        640: 100%|██████████| 55/55 [08:31<00:00,  9.30s/it]\n",
      "                 Class     Images  Instances      Box(P          R      mAP50  mAP50-95): 100%|██████████| 1/1 [00:08<00:00,  8.72s/it]"
     ]
    },
    {
     "name": "stdout",
     "output_type": "stream",
     "text": [
      "                   all         30         30      0.995      0.967      0.976      0.717\n"
     ]
    },
    {
     "name": "stderr",
     "output_type": "stream",
     "text": [
      "\n"
     ]
    },
    {
     "name": "stdout",
     "output_type": "stream",
     "text": [
      "\n",
      "      Epoch    GPU_mem   box_loss   cls_loss   dfl_loss  Instances       Size\n"
     ]
    },
    {
     "name": "stderr",
     "output_type": "stream",
     "text": [
      "       7/20         0G      1.038       0.72     0.9873         14        640: 100%|██████████| 55/55 [08:32<00:00,  9.32s/it]\n",
      "                 Class     Images  Instances      Box(P          R      mAP50  mAP50-95): 100%|██████████| 1/1 [00:08<00:00,  8.77s/it]"
     ]
    },
    {
     "name": "stdout",
     "output_type": "stream",
     "text": [
      "                   all         30         30      0.964          1       0.99      0.718\n"
     ]
    },
    {
     "name": "stderr",
     "output_type": "stream",
     "text": [
      "\n"
     ]
    },
    {
     "name": "stdout",
     "output_type": "stream",
     "text": [
      "\n",
      "      Epoch    GPU_mem   box_loss   cls_loss   dfl_loss  Instances       Size\n"
     ]
    },
    {
     "name": "stderr",
     "output_type": "stream",
     "text": [
      "       8/20         0G      1.008     0.6725     0.9701         14        640: 100%|██████████| 55/55 [08:33<00:00,  9.34s/it]\n",
      "                 Class     Images  Instances      Box(P          R      mAP50  mAP50-95): 100%|██████████| 1/1 [00:08<00:00,  8.73s/it]"
     ]
    },
    {
     "name": "stdout",
     "output_type": "stream",
     "text": [
      "                   all         30         30      0.992      0.967      0.993      0.796\n"
     ]
    },
    {
     "name": "stderr",
     "output_type": "stream",
     "text": [
      "\n"
     ]
    },
    {
     "name": "stdout",
     "output_type": "stream",
     "text": [
      "\n",
      "      Epoch    GPU_mem   box_loss   cls_loss   dfl_loss  Instances       Size\n"
     ]
    },
    {
     "name": "stderr",
     "output_type": "stream",
     "text": [
      "       9/20         0G     0.9858     0.6449     0.9599         11        640: 100%|██████████| 55/55 [20:21<00:00, 22.21s/it]   \n",
      "                 Class     Images  Instances      Box(P          R      mAP50  mAP50-95): 100%|██████████| 1/1 [00:08<00:00,  8.78s/it]"
     ]
    },
    {
     "name": "stdout",
     "output_type": "stream",
     "text": [
      "                   all         30         30      0.995      0.967      0.993      0.714\n"
     ]
    },
    {
     "name": "stderr",
     "output_type": "stream",
     "text": [
      "\n"
     ]
    },
    {
     "name": "stdout",
     "output_type": "stream",
     "text": [
      "\n",
      "      Epoch    GPU_mem   box_loss   cls_loss   dfl_loss  Instances       Size\n"
     ]
    },
    {
     "name": "stderr",
     "output_type": "stream",
     "text": [
      "      10/20         0G     0.9555     0.6186     0.9528          9        640: 100%|██████████| 55/55 [08:27<00:00,  9.22s/it]\n",
      "                 Class     Images  Instances      Box(P          R      mAP50  mAP50-95): 100%|██████████| 1/1 [00:08<00:00,  8.74s/it]"
     ]
    },
    {
     "name": "stdout",
     "output_type": "stream",
     "text": [
      "                   all         30         30      0.998          1      0.995      0.799\n"
     ]
    },
    {
     "name": "stderr",
     "output_type": "stream",
     "text": [
      "\n"
     ]
    },
    {
     "name": "stdout",
     "output_type": "stream",
     "text": [
      "Closing dataloader mosaic\n",
      "\n",
      "      Epoch    GPU_mem   box_loss   cls_loss   dfl_loss  Instances       Size\n"
     ]
    },
    {
     "name": "stderr",
     "output_type": "stream",
     "text": [
      "      11/20         0G     0.9263     0.5999     0.9392          6        640: 100%|██████████| 55/55 [08:20<00:00,  9.09s/it]\n",
      "                 Class     Images  Instances      Box(P          R      mAP50  mAP50-95): 100%|██████████| 1/1 [00:08<00:00,  8.79s/it]"
     ]
    },
    {
     "name": "stdout",
     "output_type": "stream",
     "text": [
      "                   all         30         30      0.966      0.967      0.984      0.718\n"
     ]
    },
    {
     "name": "stderr",
     "output_type": "stream",
     "text": [
      "\n"
     ]
    },
    {
     "name": "stdout",
     "output_type": "stream",
     "text": [
      "\n",
      "      Epoch    GPU_mem   box_loss   cls_loss   dfl_loss  Instances       Size\n"
     ]
    },
    {
     "name": "stderr",
     "output_type": "stream",
     "text": [
      "      12/20         0G     0.9092     0.5643     0.9382          6        640: 100%|██████████| 55/55 [08:21<00:00,  9.12s/it]\n",
      "                 Class     Images  Instances      Box(P          R      mAP50  mAP50-95): 100%|██████████| 1/1 [00:08<00:00,  8.78s/it]"
     ]
    },
    {
     "name": "stdout",
     "output_type": "stream",
     "text": [
      "                   all         30         30       0.96          1      0.993      0.759\n"
     ]
    },
    {
     "name": "stderr",
     "output_type": "stream",
     "text": [
      "\n"
     ]
    },
    {
     "name": "stdout",
     "output_type": "stream",
     "text": [
      "\n",
      "      Epoch    GPU_mem   box_loss   cls_loss   dfl_loss  Instances       Size\n"
     ]
    },
    {
     "name": "stderr",
     "output_type": "stream",
     "text": [
      "      13/20         0G     0.8933      0.545     0.9343          6        640: 100%|██████████| 55/55 [08:24<00:00,  9.17s/it]\n",
      "                 Class     Images  Instances      Box(P          R      mAP50  mAP50-95): 100%|██████████| 1/1 [00:08<00:00,  8.81s/it]"
     ]
    },
    {
     "name": "stdout",
     "output_type": "stream",
     "text": [
      "                   all         30         30      0.965          1      0.994      0.769\n"
     ]
    },
    {
     "name": "stderr",
     "output_type": "stream",
     "text": [
      "\n"
     ]
    },
    {
     "name": "stdout",
     "output_type": "stream",
     "text": [
      "\n",
      "      Epoch    GPU_mem   box_loss   cls_loss   dfl_loss  Instances       Size\n"
     ]
    },
    {
     "name": "stderr",
     "output_type": "stream",
     "text": [
      "      14/20         0G     0.8871     0.5175     0.9229          6        640: 100%|██████████| 55/55 [08:24<00:00,  9.17s/it]\n",
      "                 Class     Images  Instances      Box(P          R      mAP50  mAP50-95): 100%|██████████| 1/1 [00:08<00:00,  8.79s/it]"
     ]
    },
    {
     "name": "stdout",
     "output_type": "stream",
     "text": [
      "                   all         30         30      0.998          1      0.995      0.754\n"
     ]
    },
    {
     "name": "stderr",
     "output_type": "stream",
     "text": [
      "\n"
     ]
    },
    {
     "name": "stdout",
     "output_type": "stream",
     "text": [
      "\n",
      "      Epoch    GPU_mem   box_loss   cls_loss   dfl_loss  Instances       Size\n"
     ]
    },
    {
     "name": "stderr",
     "output_type": "stream",
     "text": [
      "      15/20         0G     0.8384     0.4891      0.917          5        640: 100%|██████████| 55/55 [08:25<00:00,  9.18s/it]\n",
      "                 Class     Images  Instances      Box(P          R      mAP50  mAP50-95): 100%|██████████| 1/1 [00:08<00:00,  8.76s/it]"
     ]
    },
    {
     "name": "stdout",
     "output_type": "stream",
     "text": [
      "                   all         30         30      0.996      0.967      0.992      0.802\n"
     ]
    },
    {
     "name": "stderr",
     "output_type": "stream",
     "text": [
      "\n"
     ]
    },
    {
     "name": "stdout",
     "output_type": "stream",
     "text": [
      "\n",
      "      Epoch    GPU_mem   box_loss   cls_loss   dfl_loss  Instances       Size\n"
     ]
    },
    {
     "name": "stderr",
     "output_type": "stream",
     "text": [
      "      16/20         0G     0.8336     0.4742     0.9133          6        640: 100%|██████████| 55/55 [08:26<00:00,  9.22s/it]\n",
      "                 Class     Images  Instances      Box(P          R      mAP50  mAP50-95): 100%|██████████| 1/1 [00:08<00:00,  8.91s/it]"
     ]
    },
    {
     "name": "stdout",
     "output_type": "stream",
     "text": [
      "                   all         30         30      0.997          1      0.995      0.773\n"
     ]
    },
    {
     "name": "stderr",
     "output_type": "stream",
     "text": [
      "\n"
     ]
    },
    {
     "name": "stdout",
     "output_type": "stream",
     "text": [
      "\n",
      "      Epoch    GPU_mem   box_loss   cls_loss   dfl_loss  Instances       Size\n"
     ]
    },
    {
     "name": "stderr",
     "output_type": "stream",
     "text": [
      "      17/20         0G     0.8301     0.4637     0.9093          6        640: 100%|██████████| 55/55 [08:33<00:00,  9.34s/it]\n",
      "                 Class     Images  Instances      Box(P          R      mAP50  mAP50-95): 100%|██████████| 1/1 [00:08<00:00,  8.77s/it]"
     ]
    },
    {
     "name": "stdout",
     "output_type": "stream",
     "text": [
      "                   all         30         30      0.997      0.967      0.994      0.768\n"
     ]
    },
    {
     "name": "stderr",
     "output_type": "stream",
     "text": [
      "\n"
     ]
    },
    {
     "name": "stdout",
     "output_type": "stream",
     "text": [
      "\n",
      "      Epoch    GPU_mem   box_loss   cls_loss   dfl_loss  Instances       Size\n"
     ]
    },
    {
     "name": "stderr",
     "output_type": "stream",
     "text": [
      "      18/20         0G     0.7861     0.4451     0.8985          5        640: 100%|██████████| 55/55 [08:39<00:00,  9.44s/it]\n",
      "                 Class     Images  Instances      Box(P          R      mAP50  mAP50-95): 100%|██████████| 1/1 [00:08<00:00,  8.97s/it]"
     ]
    },
    {
     "name": "stdout",
     "output_type": "stream",
     "text": [
      "                   all         30         30      0.997          1      0.995      0.843\n"
     ]
    },
    {
     "name": "stderr",
     "output_type": "stream",
     "text": [
      "\n"
     ]
    },
    {
     "name": "stdout",
     "output_type": "stream",
     "text": [
      "\n",
      "      Epoch    GPU_mem   box_loss   cls_loss   dfl_loss  Instances       Size\n"
     ]
    },
    {
     "name": "stderr",
     "output_type": "stream",
     "text": [
      "      19/20         0G     0.7865     0.4322     0.8893          6        640: 100%|██████████| 55/55 [08:36<00:00,  9.39s/it]\n",
      "                 Class     Images  Instances      Box(P          R      mAP50  mAP50-95): 100%|██████████| 1/1 [00:08<00:00,  8.82s/it]"
     ]
    },
    {
     "name": "stdout",
     "output_type": "stream",
     "text": [
      "                   all         30         30      0.996          1      0.995      0.797\n"
     ]
    },
    {
     "name": "stderr",
     "output_type": "stream",
     "text": [
      "\n"
     ]
    },
    {
     "name": "stdout",
     "output_type": "stream",
     "text": [
      "\n",
      "      Epoch    GPU_mem   box_loss   cls_loss   dfl_loss  Instances       Size\n"
     ]
    },
    {
     "name": "stderr",
     "output_type": "stream",
     "text": [
      "      20/20         0G     0.7582     0.4156     0.8894          6        640: 100%|██████████| 55/55 [08:34<00:00,  9.35s/it]\n",
      "                 Class     Images  Instances      Box(P          R      mAP50  mAP50-95): 100%|██████████| 1/1 [00:08<00:00,  8.73s/it]"
     ]
    },
    {
     "name": "stdout",
     "output_type": "stream",
     "text": [
      "                   all         30         30      0.998          1      0.995      0.815\n"
     ]
    },
    {
     "name": "stderr",
     "output_type": "stream",
     "text": [
      "\n"
     ]
    },
    {
     "name": "stdout",
     "output_type": "stream",
     "text": [
      "\n",
      "20 epochs completed in 3.136 hours.\n",
      "Optimizer stripped from runs/detect/train5/weights/last.pt, 6.2MB\n",
      "Optimizer stripped from runs/detect/train5/weights/best.pt, 6.2MB\n",
      "\n",
      "Validating runs/detect/train5/weights/best.pt...\n",
      "Ultralytics YOLOv8.2.38 🚀 Python-3.12.0 torch-2.2.1 CPU (Apple M1)\n",
      "Model summary (fused): 168 layers, 3005843 parameters, 0 gradients, 8.1 GFLOPs\n"
     ]
    },
    {
     "name": "stderr",
     "output_type": "stream",
     "text": [
      "                 Class     Images  Instances      Box(P          R      mAP50  mAP50-95): 100%|██████████| 1/1 [00:08<00:00,  8.44s/it]\n"
     ]
    },
    {
     "name": "stdout",
     "output_type": "stream",
     "text": [
      "                   all         30         30      0.997          1      0.995      0.843\n",
      "Speed: 1.5ms preprocess, 276.1ms inference, 0.0ms loss, 0.2ms postprocess per image\n",
      "Results saved to \u001b[1mruns/detect/train5\u001b[0m\n"
     ]
    },
    {
     "data": {
      "text/plain": [
       "ultralytics.utils.metrics.DetMetrics object with attributes:\n",
       "\n",
       "ap_class_index: array([0])\n",
       "box: ultralytics.utils.metrics.Metric object\n",
       "confusion_matrix: <ultralytics.utils.metrics.ConfusionMatrix object at 0x316e0fce0>\n",
       "curves: ['Precision-Recall(B)', 'F1-Confidence(B)', 'Precision-Confidence(B)', 'Recall-Confidence(B)']\n",
       "curves_results: [[array([          0,    0.001001,    0.002002,    0.003003,    0.004004,    0.005005,    0.006006,    0.007007,    0.008008,    0.009009,     0.01001,    0.011011,    0.012012,    0.013013,    0.014014,    0.015015,    0.016016,    0.017017,    0.018018,    0.019019,     0.02002,    0.021021,    0.022022,    0.023023,\n",
       "          0.024024,    0.025025,    0.026026,    0.027027,    0.028028,    0.029029,     0.03003,    0.031031,    0.032032,    0.033033,    0.034034,    0.035035,    0.036036,    0.037037,    0.038038,    0.039039,     0.04004,    0.041041,    0.042042,    0.043043,    0.044044,    0.045045,    0.046046,    0.047047,\n",
       "          0.048048,    0.049049,     0.05005,    0.051051,    0.052052,    0.053053,    0.054054,    0.055055,    0.056056,    0.057057,    0.058058,    0.059059,     0.06006,    0.061061,    0.062062,    0.063063,    0.064064,    0.065065,    0.066066,    0.067067,    0.068068,    0.069069,     0.07007,    0.071071,\n",
       "          0.072072,    0.073073,    0.074074,    0.075075,    0.076076,    0.077077,    0.078078,    0.079079,     0.08008,    0.081081,    0.082082,    0.083083,    0.084084,    0.085085,    0.086086,    0.087087,    0.088088,    0.089089,     0.09009,    0.091091,    0.092092,    0.093093,    0.094094,    0.095095,\n",
       "          0.096096,    0.097097,    0.098098,    0.099099,      0.1001,      0.1011,      0.1021,      0.1031,      0.1041,     0.10511,     0.10611,     0.10711,     0.10811,     0.10911,     0.11011,     0.11111,     0.11211,     0.11311,     0.11411,     0.11512,     0.11612,     0.11712,     0.11812,     0.11912,\n",
       "           0.12012,     0.12112,     0.12212,     0.12312,     0.12412,     0.12513,     0.12613,     0.12713,     0.12813,     0.12913,     0.13013,     0.13113,     0.13213,     0.13313,     0.13413,     0.13514,     0.13614,     0.13714,     0.13814,     0.13914,     0.14014,     0.14114,     0.14214,     0.14314,\n",
       "           0.14414,     0.14515,     0.14615,     0.14715,     0.14815,     0.14915,     0.15015,     0.15115,     0.15215,     0.15315,     0.15415,     0.15516,     0.15616,     0.15716,     0.15816,     0.15916,     0.16016,     0.16116,     0.16216,     0.16316,     0.16416,     0.16517,     0.16617,     0.16717,\n",
       "           0.16817,     0.16917,     0.17017,     0.17117,     0.17217,     0.17317,     0.17417,     0.17518,     0.17618,     0.17718,     0.17818,     0.17918,     0.18018,     0.18118,     0.18218,     0.18318,     0.18418,     0.18519,     0.18619,     0.18719,     0.18819,     0.18919,     0.19019,     0.19119,\n",
       "           0.19219,     0.19319,     0.19419,      0.1952,      0.1962,      0.1972,      0.1982,      0.1992,      0.2002,      0.2012,      0.2022,      0.2032,      0.2042,     0.20521,     0.20621,     0.20721,     0.20821,     0.20921,     0.21021,     0.21121,     0.21221,     0.21321,     0.21421,     0.21522,\n",
       "           0.21622,     0.21722,     0.21822,     0.21922,     0.22022,     0.22122,     0.22222,     0.22322,     0.22422,     0.22523,     0.22623,     0.22723,     0.22823,     0.22923,     0.23023,     0.23123,     0.23223,     0.23323,     0.23423,     0.23524,     0.23624,     0.23724,     0.23824,     0.23924,\n",
       "           0.24024,     0.24124,     0.24224,     0.24324,     0.24424,     0.24525,     0.24625,     0.24725,     0.24825,     0.24925,     0.25025,     0.25125,     0.25225,     0.25325,     0.25425,     0.25526,     0.25626,     0.25726,     0.25826,     0.25926,     0.26026,     0.26126,     0.26226,     0.26326,\n",
       "           0.26426,     0.26527,     0.26627,     0.26727,     0.26827,     0.26927,     0.27027,     0.27127,     0.27227,     0.27327,     0.27427,     0.27528,     0.27628,     0.27728,     0.27828,     0.27928,     0.28028,     0.28128,     0.28228,     0.28328,     0.28428,     0.28529,     0.28629,     0.28729,\n",
       "           0.28829,     0.28929,     0.29029,     0.29129,     0.29229,     0.29329,     0.29429,      0.2953,      0.2963,      0.2973,      0.2983,      0.2993,      0.3003,      0.3013,      0.3023,      0.3033,      0.3043,     0.30531,     0.30631,     0.30731,     0.30831,     0.30931,     0.31031,     0.31131,\n",
       "           0.31231,     0.31331,     0.31431,     0.31532,     0.31632,     0.31732,     0.31832,     0.31932,     0.32032,     0.32132,     0.32232,     0.32332,     0.32432,     0.32533,     0.32633,     0.32733,     0.32833,     0.32933,     0.33033,     0.33133,     0.33233,     0.33333,     0.33433,     0.33534,\n",
       "           0.33634,     0.33734,     0.33834,     0.33934,     0.34034,     0.34134,     0.34234,     0.34334,     0.34434,     0.34535,     0.34635,     0.34735,     0.34835,     0.34935,     0.35035,     0.35135,     0.35235,     0.35335,     0.35435,     0.35536,     0.35636,     0.35736,     0.35836,     0.35936,\n",
       "           0.36036,     0.36136,     0.36236,     0.36336,     0.36436,     0.36537,     0.36637,     0.36737,     0.36837,     0.36937,     0.37037,     0.37137,     0.37237,     0.37337,     0.37437,     0.37538,     0.37638,     0.37738,     0.37838,     0.37938,     0.38038,     0.38138,     0.38238,     0.38338,\n",
       "           0.38438,     0.38539,     0.38639,     0.38739,     0.38839,     0.38939,     0.39039,     0.39139,     0.39239,     0.39339,     0.39439,      0.3954,      0.3964,      0.3974,      0.3984,      0.3994,      0.4004,      0.4014,      0.4024,      0.4034,      0.4044,     0.40541,     0.40641,     0.40741,\n",
       "           0.40841,     0.40941,     0.41041,     0.41141,     0.41241,     0.41341,     0.41441,     0.41542,     0.41642,     0.41742,     0.41842,     0.41942,     0.42042,     0.42142,     0.42242,     0.42342,     0.42442,     0.42543,     0.42643,     0.42743,     0.42843,     0.42943,     0.43043,     0.43143,\n",
       "           0.43243,     0.43343,     0.43443,     0.43544,     0.43644,     0.43744,     0.43844,     0.43944,     0.44044,     0.44144,     0.44244,     0.44344,     0.44444,     0.44545,     0.44645,     0.44745,     0.44845,     0.44945,     0.45045,     0.45145,     0.45245,     0.45345,     0.45445,     0.45546,\n",
       "           0.45646,     0.45746,     0.45846,     0.45946,     0.46046,     0.46146,     0.46246,     0.46346,     0.46446,     0.46547,     0.46647,     0.46747,     0.46847,     0.46947,     0.47047,     0.47147,     0.47247,     0.47347,     0.47447,     0.47548,     0.47648,     0.47748,     0.47848,     0.47948,\n",
       "           0.48048,     0.48148,     0.48248,     0.48348,     0.48448,     0.48549,     0.48649,     0.48749,     0.48849,     0.48949,     0.49049,     0.49149,     0.49249,     0.49349,     0.49449,      0.4955,      0.4965,      0.4975,      0.4985,      0.4995,      0.5005,      0.5015,      0.5025,      0.5035,\n",
       "            0.5045,     0.50551,     0.50651,     0.50751,     0.50851,     0.50951,     0.51051,     0.51151,     0.51251,     0.51351,     0.51451,     0.51552,     0.51652,     0.51752,     0.51852,     0.51952,     0.52052,     0.52152,     0.52252,     0.52352,     0.52452,     0.52553,     0.52653,     0.52753,\n",
       "           0.52853,     0.52953,     0.53053,     0.53153,     0.53253,     0.53353,     0.53453,     0.53554,     0.53654,     0.53754,     0.53854,     0.53954,     0.54054,     0.54154,     0.54254,     0.54354,     0.54454,     0.54555,     0.54655,     0.54755,     0.54855,     0.54955,     0.55055,     0.55155,\n",
       "           0.55255,     0.55355,     0.55455,     0.55556,     0.55656,     0.55756,     0.55856,     0.55956,     0.56056,     0.56156,     0.56256,     0.56356,     0.56456,     0.56557,     0.56657,     0.56757,     0.56857,     0.56957,     0.57057,     0.57157,     0.57257,     0.57357,     0.57457,     0.57558,\n",
       "           0.57658,     0.57758,     0.57858,     0.57958,     0.58058,     0.58158,     0.58258,     0.58358,     0.58458,     0.58559,     0.58659,     0.58759,     0.58859,     0.58959,     0.59059,     0.59159,     0.59259,     0.59359,     0.59459,      0.5956,      0.5966,      0.5976,      0.5986,      0.5996,\n",
       "            0.6006,      0.6016,      0.6026,      0.6036,      0.6046,     0.60561,     0.60661,     0.60761,     0.60861,     0.60961,     0.61061,     0.61161,     0.61261,     0.61361,     0.61461,     0.61562,     0.61662,     0.61762,     0.61862,     0.61962,     0.62062,     0.62162,     0.62262,     0.62362,\n",
       "           0.62462,     0.62563,     0.62663,     0.62763,     0.62863,     0.62963,     0.63063,     0.63163,     0.63263,     0.63363,     0.63463,     0.63564,     0.63664,     0.63764,     0.63864,     0.63964,     0.64064,     0.64164,     0.64264,     0.64364,     0.64464,     0.64565,     0.64665,     0.64765,\n",
       "           0.64865,     0.64965,     0.65065,     0.65165,     0.65265,     0.65365,     0.65465,     0.65566,     0.65666,     0.65766,     0.65866,     0.65966,     0.66066,     0.66166,     0.66266,     0.66366,     0.66466,     0.66567,     0.66667,     0.66767,     0.66867,     0.66967,     0.67067,     0.67167,\n",
       "           0.67267,     0.67367,     0.67467,     0.67568,     0.67668,     0.67768,     0.67868,     0.67968,     0.68068,     0.68168,     0.68268,     0.68368,     0.68468,     0.68569,     0.68669,     0.68769,     0.68869,     0.68969,     0.69069,     0.69169,     0.69269,     0.69369,     0.69469,      0.6957,\n",
       "            0.6967,      0.6977,      0.6987,      0.6997,      0.7007,      0.7017,      0.7027,      0.7037,      0.7047,     0.70571,     0.70671,     0.70771,     0.70871,     0.70971,     0.71071,     0.71171,     0.71271,     0.71371,     0.71471,     0.71572,     0.71672,     0.71772,     0.71872,     0.71972,\n",
       "           0.72072,     0.72172,     0.72272,     0.72372,     0.72472,     0.72573,     0.72673,     0.72773,     0.72873,     0.72973,     0.73073,     0.73173,     0.73273,     0.73373,     0.73473,     0.73574,     0.73674,     0.73774,     0.73874,     0.73974,     0.74074,     0.74174,     0.74274,     0.74374,\n",
       "           0.74474,     0.74575,     0.74675,     0.74775,     0.74875,     0.74975,     0.75075,     0.75175,     0.75275,     0.75375,     0.75475,     0.75576,     0.75676,     0.75776,     0.75876,     0.75976,     0.76076,     0.76176,     0.76276,     0.76376,     0.76476,     0.76577,     0.76677,     0.76777,\n",
       "           0.76877,     0.76977,     0.77077,     0.77177,     0.77277,     0.77377,     0.77477,     0.77578,     0.77678,     0.77778,     0.77878,     0.77978,     0.78078,     0.78178,     0.78278,     0.78378,     0.78478,     0.78579,     0.78679,     0.78779,     0.78879,     0.78979,     0.79079,     0.79179,\n",
       "           0.79279,     0.79379,     0.79479,      0.7958,      0.7968,      0.7978,      0.7988,      0.7998,      0.8008,      0.8018,      0.8028,      0.8038,      0.8048,     0.80581,     0.80681,     0.80781,     0.80881,     0.80981,     0.81081,     0.81181,     0.81281,     0.81381,     0.81481,     0.81582,\n",
       "           0.81682,     0.81782,     0.81882,     0.81982,     0.82082,     0.82182,     0.82282,     0.82382,     0.82482,     0.82583,     0.82683,     0.82783,     0.82883,     0.82983,     0.83083,     0.83183,     0.83283,     0.83383,     0.83483,     0.83584,     0.83684,     0.83784,     0.83884,     0.83984,\n",
       "           0.84084,     0.84184,     0.84284,     0.84384,     0.84484,     0.84585,     0.84685,     0.84785,     0.84885,     0.84985,     0.85085,     0.85185,     0.85285,     0.85385,     0.85485,     0.85586,     0.85686,     0.85786,     0.85886,     0.85986,     0.86086,     0.86186,     0.86286,     0.86386,\n",
       "           0.86486,     0.86587,     0.86687,     0.86787,     0.86887,     0.86987,     0.87087,     0.87187,     0.87287,     0.87387,     0.87487,     0.87588,     0.87688,     0.87788,     0.87888,     0.87988,     0.88088,     0.88188,     0.88288,     0.88388,     0.88488,     0.88589,     0.88689,     0.88789,\n",
       "           0.88889,     0.88989,     0.89089,     0.89189,     0.89289,     0.89389,     0.89489,      0.8959,      0.8969,      0.8979,      0.8989,      0.8999,      0.9009,      0.9019,      0.9029,      0.9039,      0.9049,     0.90591,     0.90691,     0.90791,     0.90891,     0.90991,     0.91091,     0.91191,\n",
       "           0.91291,     0.91391,     0.91491,     0.91592,     0.91692,     0.91792,     0.91892,     0.91992,     0.92092,     0.92192,     0.92292,     0.92392,     0.92492,     0.92593,     0.92693,     0.92793,     0.92893,     0.92993,     0.93093,     0.93193,     0.93293,     0.93393,     0.93493,     0.93594,\n",
       "           0.93694,     0.93794,     0.93894,     0.93994,     0.94094,     0.94194,     0.94294,     0.94394,     0.94494,     0.94595,     0.94695,     0.94795,     0.94895,     0.94995,     0.95095,     0.95195,     0.95295,     0.95395,     0.95495,     0.95596,     0.95696,     0.95796,     0.95896,     0.95996,\n",
       "           0.96096,     0.96196,     0.96296,     0.96396,     0.96496,     0.96597,     0.96697,     0.96797,     0.96897,     0.96997,     0.97097,     0.97197,     0.97297,     0.97397,     0.97497,     0.97598,     0.97698,     0.97798,     0.97898,     0.97998,     0.98098,     0.98198,     0.98298,     0.98398,\n",
       "           0.98498,     0.98599,     0.98699,     0.98799,     0.98899,     0.98999,     0.99099,     0.99199,     0.99299,     0.99399,     0.99499,       0.996,       0.997,       0.998,       0.999,           1]), array([[          1,           1,           1,           1,           1,           1,           1,           1,           1,           1,           1,           1,           1,           1,           1,           1,           1,           1,           1,           1,           1,           1,           1,\n",
       "                  1,           1,           1,           1,           1,           1,           1,           1,           1,           1,           1,           1,           1,           1,           1,           1,           1,           1,           1,           1,           1,           1,           1,\n",
       "                  1,           1,           1,           1,           1,           1,           1,           1,           1,           1,           1,           1,           1,           1,           1,           1,           1,           1,           1,           1,           1,           1,           1,\n",
       "                  1,           1,           1,           1,           1,           1,           1,           1,           1,           1,           1,           1,           1,           1,           1,           1,           1,           1,           1,           1,           1,           1,           1,\n",
       "                  1,           1,           1,           1,           1,           1,           1,           1,           1,           1,           1,           1,           1,           1,           1,           1,           1,           1,           1,           1,           1,           1,           1,\n",
       "                  1,           1,           1,           1,           1,           1,           1,           1,           1,           1,           1,           1,           1,           1,           1,           1,           1,           1,           1,           1,           1,           1,           1,\n",
       "                  1,           1,           1,           1,           1,           1,           1,           1,           1,           1,           1,           1,           1,           1,           1,           1,           1,           1,           1,           1,           1,           1,           1,\n",
       "                  1,           1,           1,           1,           1,           1,           1,           1,           1,           1,           1,           1,           1,           1,           1,           1,           1,           1,           1,           1,           1,           1,           1,\n",
       "                  1,           1,           1,           1,           1,           1,           1,           1,           1,           1,           1,           1,           1,           1,           1,           1,           1,           1,           1,           1,           1,           1,           1,\n",
       "                  1,           1,           1,           1,           1,           1,           1,           1,           1,           1,           1,           1,           1,           1,           1,           1,           1,           1,           1,           1,           1,           1,           1,\n",
       "                  1,           1,           1,           1,           1,           1,           1,           1,           1,           1,           1,           1,           1,           1,           1,           1,           1,           1,           1,           1,           1,           1,           1,\n",
       "                  1,           1,           1,           1,           1,           1,           1,           1,           1,           1,           1,           1,           1,           1,           1,           1,           1,           1,           1,           1,           1,           1,           1,\n",
       "                  1,           1,           1,           1,           1,           1,           1,           1,           1,           1,           1,           1,           1,           1,           1,           1,           1,           1,           1,           1,           1,           1,           1,\n",
       "                  1,           1,           1,           1,           1,           1,           1,           1,           1,           1,           1,           1,           1,           1,           1,           1,           1,           1,           1,           1,           1,           1,           1,\n",
       "                  1,           1,           1,           1,           1,           1,           1,           1,           1,           1,           1,           1,           1,           1,           1,           1,           1,           1,           1,           1,           1,           1,           1,\n",
       "                  1,           1,           1,           1,           1,           1,           1,           1,           1,           1,           1,           1,           1,           1,           1,           1,           1,           1,           1,           1,           1,           1,           1,\n",
       "                  1,           1,           1,           1,           1,           1,           1,           1,           1,           1,           1,           1,           1,           1,           1,           1,           1,           1,           1,           1,           1,           1,           1,\n",
       "                  1,           1,           1,           1,           1,           1,           1,           1,           1,           1,           1,           1,           1,           1,           1,           1,           1,           1,           1,           1,           1,           1,           1,\n",
       "                  1,           1,           1,           1,           1,           1,           1,           1,           1,           1,           1,           1,           1,           1,           1,           1,           1,           1,           1,           1,           1,           1,           1,\n",
       "                  1,           1,           1,           1,           1,           1,           1,           1,           1,           1,           1,           1,           1,           1,           1,           1,           1,           1,           1,           1,           1,           1,           1,\n",
       "                  1,           1,           1,           1,           1,           1,           1,           1,           1,           1,           1,           1,           1,           1,           1,           1,           1,           1,           1,           1,           1,           1,           1,\n",
       "                  1,           1,           1,           1,           1,           1,           1,           1,           1,           1,           1,           1,           1,           1,           1,           1,           1,           1,           1,           1,           1,           1,           1,\n",
       "                  1,           1,           1,           1,           1,           1,           1,           1,           1,           1,           1,           1,           1,           1,           1,           1,           1,           1,           1,           1,           1,           1,           1,\n",
       "                  1,           1,           1,           1,           1,           1,           1,           1,           1,           1,           1,           1,           1,           1,           1,           1,           1,           1,           1,           1,           1,           1,           1,\n",
       "                  1,           1,           1,           1,           1,           1,           1,           1,           1,           1,           1,           1,           1,           1,           1,           1,           1,           1,           1,           1,           1,           1,           1,\n",
       "                  1,           1,           1,           1,           1,           1,           1,           1,           1,           1,           1,           1,           1,           1,           1,           1,           1,           1,           1,           1,           1,           1,           1,\n",
       "                  1,           1,           1,           1,           1,           1,           1,           1,           1,           1,           1,           1,           1,           1,           1,           1,           1,           1,           1,           1,           1,           1,           1,\n",
       "                  1,           1,           1,           1,           1,           1,           1,           1,           1,           1,           1,           1,           1,           1,           1,           1,           1,           1,           1,           1,           1,           1,           1,\n",
       "                  1,           1,           1,           1,           1,           1,           1,           1,           1,           1,           1,           1,           1,           1,           1,           1,           1,           1,           1,           1,           1,           1,           1,\n",
       "                  1,           1,           1,           1,           1,           1,           1,           1,           1,           1,           1,           1,           1,           1,           1,           1,           1,           1,           1,           1,           1,           1,           1,\n",
       "                  1,           1,           1,           1,           1,           1,           1,           1,           1,           1,           1,           1,           1,           1,           1,           1,           1,           1,           1,           1,           1,           1,           1,\n",
       "                  1,           1,           1,           1,           1,           1,           1,           1,           1,           1,           1,           1,           1,           1,           1,           1,           1,           1,           1,           1,           1,           1,           1,\n",
       "                  1,           1,           1,           1,           1,           1,           1,           1,           1,           1,           1,           1,           1,           1,           1,           1,           1,           1,           1,           1,           1,           1,           1,\n",
       "                  1,           1,           1,           1,           1,           1,           1,           1,           1,           1,           1,           1,           1,           1,           1,           1,           1,           1,           1,           1,           1,           1,           1,\n",
       "                  1,           1,           1,           1,           1,           1,           1,           1,           1,           1,           1,           1,           1,           1,           1,           1,           1,           1,           1,           1,           1,           1,           1,\n",
       "                  1,           1,           1,           1,           1,           1,           1,           1,           1,           1,           1,           1,           1,           1,           1,           1,           1,           1,           1,           1,           1,           1,           1,\n",
       "                  1,           1,           1,           1,           1,           1,           1,           1,           1,           1,           1,           1,           1,           1,           1,           1,           1,           1,           1,           1,           1,           1,           1,\n",
       "                  1,           1,           1,           1,           1,           1,           1,           1,           1,           1,           1,           1,           1,           1,           1,           1,           1,           1,           1,           1,           1,           1,           1,\n",
       "                  1,           1,           1,           1,           1,           1,           1,           1,           1,           1,           1,           1,           1,           1,           1,           1,           1,           1,           1,           1,           1,           1,           1,\n",
       "                  1,           1,           1,           1,           1,           1,           1,           1,           1,           1,           1,           1,           1,           1,           1,           1,           1,           1,           1,           1,           1,           1,           1,\n",
       "                  1,           1,           1,           1,           1,           1,           1,           1,           1,           1,           1,           1,           1,           1,           1,           1,           1,           1,           1,           1,           1,           1,           1,\n",
       "                  1,           1,           1,           1,           1,           1,           1,           1,           1,           1,           1,           1,           1,           1,           1,           1,           1,           1,           1,           1,           1,           1,           1,\n",
       "                  1,           1,           1,           1,           1,           1,           1,           1,           1,           1,           1,           1,           1,           1,           1,           1,           1,           1,           1,           1,           1,           1,           1,\n",
       "                  1,           1,           1,           1,           1,           1,           1,           1,           1,           1,           0]]), 'Recall', 'Precision'], [array([          0,    0.001001,    0.002002,    0.003003,    0.004004,    0.005005,    0.006006,    0.007007,    0.008008,    0.009009,     0.01001,    0.011011,    0.012012,    0.013013,    0.014014,    0.015015,    0.016016,    0.017017,    0.018018,    0.019019,     0.02002,    0.021021,    0.022022,    0.023023,\n",
       "          0.024024,    0.025025,    0.026026,    0.027027,    0.028028,    0.029029,     0.03003,    0.031031,    0.032032,    0.033033,    0.034034,    0.035035,    0.036036,    0.037037,    0.038038,    0.039039,     0.04004,    0.041041,    0.042042,    0.043043,    0.044044,    0.045045,    0.046046,    0.047047,\n",
       "          0.048048,    0.049049,     0.05005,    0.051051,    0.052052,    0.053053,    0.054054,    0.055055,    0.056056,    0.057057,    0.058058,    0.059059,     0.06006,    0.061061,    0.062062,    0.063063,    0.064064,    0.065065,    0.066066,    0.067067,    0.068068,    0.069069,     0.07007,    0.071071,\n",
       "          0.072072,    0.073073,    0.074074,    0.075075,    0.076076,    0.077077,    0.078078,    0.079079,     0.08008,    0.081081,    0.082082,    0.083083,    0.084084,    0.085085,    0.086086,    0.087087,    0.088088,    0.089089,     0.09009,    0.091091,    0.092092,    0.093093,    0.094094,    0.095095,\n",
       "          0.096096,    0.097097,    0.098098,    0.099099,      0.1001,      0.1011,      0.1021,      0.1031,      0.1041,     0.10511,     0.10611,     0.10711,     0.10811,     0.10911,     0.11011,     0.11111,     0.11211,     0.11311,     0.11411,     0.11512,     0.11612,     0.11712,     0.11812,     0.11912,\n",
       "           0.12012,     0.12112,     0.12212,     0.12312,     0.12412,     0.12513,     0.12613,     0.12713,     0.12813,     0.12913,     0.13013,     0.13113,     0.13213,     0.13313,     0.13413,     0.13514,     0.13614,     0.13714,     0.13814,     0.13914,     0.14014,     0.14114,     0.14214,     0.14314,\n",
       "           0.14414,     0.14515,     0.14615,     0.14715,     0.14815,     0.14915,     0.15015,     0.15115,     0.15215,     0.15315,     0.15415,     0.15516,     0.15616,     0.15716,     0.15816,     0.15916,     0.16016,     0.16116,     0.16216,     0.16316,     0.16416,     0.16517,     0.16617,     0.16717,\n",
       "           0.16817,     0.16917,     0.17017,     0.17117,     0.17217,     0.17317,     0.17417,     0.17518,     0.17618,     0.17718,     0.17818,     0.17918,     0.18018,     0.18118,     0.18218,     0.18318,     0.18418,     0.18519,     0.18619,     0.18719,     0.18819,     0.18919,     0.19019,     0.19119,\n",
       "           0.19219,     0.19319,     0.19419,      0.1952,      0.1962,      0.1972,      0.1982,      0.1992,      0.2002,      0.2012,      0.2022,      0.2032,      0.2042,     0.20521,     0.20621,     0.20721,     0.20821,     0.20921,     0.21021,     0.21121,     0.21221,     0.21321,     0.21421,     0.21522,\n",
       "           0.21622,     0.21722,     0.21822,     0.21922,     0.22022,     0.22122,     0.22222,     0.22322,     0.22422,     0.22523,     0.22623,     0.22723,     0.22823,     0.22923,     0.23023,     0.23123,     0.23223,     0.23323,     0.23423,     0.23524,     0.23624,     0.23724,     0.23824,     0.23924,\n",
       "           0.24024,     0.24124,     0.24224,     0.24324,     0.24424,     0.24525,     0.24625,     0.24725,     0.24825,     0.24925,     0.25025,     0.25125,     0.25225,     0.25325,     0.25425,     0.25526,     0.25626,     0.25726,     0.25826,     0.25926,     0.26026,     0.26126,     0.26226,     0.26326,\n",
       "           0.26426,     0.26527,     0.26627,     0.26727,     0.26827,     0.26927,     0.27027,     0.27127,     0.27227,     0.27327,     0.27427,     0.27528,     0.27628,     0.27728,     0.27828,     0.27928,     0.28028,     0.28128,     0.28228,     0.28328,     0.28428,     0.28529,     0.28629,     0.28729,\n",
       "           0.28829,     0.28929,     0.29029,     0.29129,     0.29229,     0.29329,     0.29429,      0.2953,      0.2963,      0.2973,      0.2983,      0.2993,      0.3003,      0.3013,      0.3023,      0.3033,      0.3043,     0.30531,     0.30631,     0.30731,     0.30831,     0.30931,     0.31031,     0.31131,\n",
       "           0.31231,     0.31331,     0.31431,     0.31532,     0.31632,     0.31732,     0.31832,     0.31932,     0.32032,     0.32132,     0.32232,     0.32332,     0.32432,     0.32533,     0.32633,     0.32733,     0.32833,     0.32933,     0.33033,     0.33133,     0.33233,     0.33333,     0.33433,     0.33534,\n",
       "           0.33634,     0.33734,     0.33834,     0.33934,     0.34034,     0.34134,     0.34234,     0.34334,     0.34434,     0.34535,     0.34635,     0.34735,     0.34835,     0.34935,     0.35035,     0.35135,     0.35235,     0.35335,     0.35435,     0.35536,     0.35636,     0.35736,     0.35836,     0.35936,\n",
       "           0.36036,     0.36136,     0.36236,     0.36336,     0.36436,     0.36537,     0.36637,     0.36737,     0.36837,     0.36937,     0.37037,     0.37137,     0.37237,     0.37337,     0.37437,     0.37538,     0.37638,     0.37738,     0.37838,     0.37938,     0.38038,     0.38138,     0.38238,     0.38338,\n",
       "           0.38438,     0.38539,     0.38639,     0.38739,     0.38839,     0.38939,     0.39039,     0.39139,     0.39239,     0.39339,     0.39439,      0.3954,      0.3964,      0.3974,      0.3984,      0.3994,      0.4004,      0.4014,      0.4024,      0.4034,      0.4044,     0.40541,     0.40641,     0.40741,\n",
       "           0.40841,     0.40941,     0.41041,     0.41141,     0.41241,     0.41341,     0.41441,     0.41542,     0.41642,     0.41742,     0.41842,     0.41942,     0.42042,     0.42142,     0.42242,     0.42342,     0.42442,     0.42543,     0.42643,     0.42743,     0.42843,     0.42943,     0.43043,     0.43143,\n",
       "           0.43243,     0.43343,     0.43443,     0.43544,     0.43644,     0.43744,     0.43844,     0.43944,     0.44044,     0.44144,     0.44244,     0.44344,     0.44444,     0.44545,     0.44645,     0.44745,     0.44845,     0.44945,     0.45045,     0.45145,     0.45245,     0.45345,     0.45445,     0.45546,\n",
       "           0.45646,     0.45746,     0.45846,     0.45946,     0.46046,     0.46146,     0.46246,     0.46346,     0.46446,     0.46547,     0.46647,     0.46747,     0.46847,     0.46947,     0.47047,     0.47147,     0.47247,     0.47347,     0.47447,     0.47548,     0.47648,     0.47748,     0.47848,     0.47948,\n",
       "           0.48048,     0.48148,     0.48248,     0.48348,     0.48448,     0.48549,     0.48649,     0.48749,     0.48849,     0.48949,     0.49049,     0.49149,     0.49249,     0.49349,     0.49449,      0.4955,      0.4965,      0.4975,      0.4985,      0.4995,      0.5005,      0.5015,      0.5025,      0.5035,\n",
       "            0.5045,     0.50551,     0.50651,     0.50751,     0.50851,     0.50951,     0.51051,     0.51151,     0.51251,     0.51351,     0.51451,     0.51552,     0.51652,     0.51752,     0.51852,     0.51952,     0.52052,     0.52152,     0.52252,     0.52352,     0.52452,     0.52553,     0.52653,     0.52753,\n",
       "           0.52853,     0.52953,     0.53053,     0.53153,     0.53253,     0.53353,     0.53453,     0.53554,     0.53654,     0.53754,     0.53854,     0.53954,     0.54054,     0.54154,     0.54254,     0.54354,     0.54454,     0.54555,     0.54655,     0.54755,     0.54855,     0.54955,     0.55055,     0.55155,\n",
       "           0.55255,     0.55355,     0.55455,     0.55556,     0.55656,     0.55756,     0.55856,     0.55956,     0.56056,     0.56156,     0.56256,     0.56356,     0.56456,     0.56557,     0.56657,     0.56757,     0.56857,     0.56957,     0.57057,     0.57157,     0.57257,     0.57357,     0.57457,     0.57558,\n",
       "           0.57658,     0.57758,     0.57858,     0.57958,     0.58058,     0.58158,     0.58258,     0.58358,     0.58458,     0.58559,     0.58659,     0.58759,     0.58859,     0.58959,     0.59059,     0.59159,     0.59259,     0.59359,     0.59459,      0.5956,      0.5966,      0.5976,      0.5986,      0.5996,\n",
       "            0.6006,      0.6016,      0.6026,      0.6036,      0.6046,     0.60561,     0.60661,     0.60761,     0.60861,     0.60961,     0.61061,     0.61161,     0.61261,     0.61361,     0.61461,     0.61562,     0.61662,     0.61762,     0.61862,     0.61962,     0.62062,     0.62162,     0.62262,     0.62362,\n",
       "           0.62462,     0.62563,     0.62663,     0.62763,     0.62863,     0.62963,     0.63063,     0.63163,     0.63263,     0.63363,     0.63463,     0.63564,     0.63664,     0.63764,     0.63864,     0.63964,     0.64064,     0.64164,     0.64264,     0.64364,     0.64464,     0.64565,     0.64665,     0.64765,\n",
       "           0.64865,     0.64965,     0.65065,     0.65165,     0.65265,     0.65365,     0.65465,     0.65566,     0.65666,     0.65766,     0.65866,     0.65966,     0.66066,     0.66166,     0.66266,     0.66366,     0.66466,     0.66567,     0.66667,     0.66767,     0.66867,     0.66967,     0.67067,     0.67167,\n",
       "           0.67267,     0.67367,     0.67467,     0.67568,     0.67668,     0.67768,     0.67868,     0.67968,     0.68068,     0.68168,     0.68268,     0.68368,     0.68468,     0.68569,     0.68669,     0.68769,     0.68869,     0.68969,     0.69069,     0.69169,     0.69269,     0.69369,     0.69469,      0.6957,\n",
       "            0.6967,      0.6977,      0.6987,      0.6997,      0.7007,      0.7017,      0.7027,      0.7037,      0.7047,     0.70571,     0.70671,     0.70771,     0.70871,     0.70971,     0.71071,     0.71171,     0.71271,     0.71371,     0.71471,     0.71572,     0.71672,     0.71772,     0.71872,     0.71972,\n",
       "           0.72072,     0.72172,     0.72272,     0.72372,     0.72472,     0.72573,     0.72673,     0.72773,     0.72873,     0.72973,     0.73073,     0.73173,     0.73273,     0.73373,     0.73473,     0.73574,     0.73674,     0.73774,     0.73874,     0.73974,     0.74074,     0.74174,     0.74274,     0.74374,\n",
       "           0.74474,     0.74575,     0.74675,     0.74775,     0.74875,     0.74975,     0.75075,     0.75175,     0.75275,     0.75375,     0.75475,     0.75576,     0.75676,     0.75776,     0.75876,     0.75976,     0.76076,     0.76176,     0.76276,     0.76376,     0.76476,     0.76577,     0.76677,     0.76777,\n",
       "           0.76877,     0.76977,     0.77077,     0.77177,     0.77277,     0.77377,     0.77477,     0.77578,     0.77678,     0.77778,     0.77878,     0.77978,     0.78078,     0.78178,     0.78278,     0.78378,     0.78478,     0.78579,     0.78679,     0.78779,     0.78879,     0.78979,     0.79079,     0.79179,\n",
       "           0.79279,     0.79379,     0.79479,      0.7958,      0.7968,      0.7978,      0.7988,      0.7998,      0.8008,      0.8018,      0.8028,      0.8038,      0.8048,     0.80581,     0.80681,     0.80781,     0.80881,     0.80981,     0.81081,     0.81181,     0.81281,     0.81381,     0.81481,     0.81582,\n",
       "           0.81682,     0.81782,     0.81882,     0.81982,     0.82082,     0.82182,     0.82282,     0.82382,     0.82482,     0.82583,     0.82683,     0.82783,     0.82883,     0.82983,     0.83083,     0.83183,     0.83283,     0.83383,     0.83483,     0.83584,     0.83684,     0.83784,     0.83884,     0.83984,\n",
       "           0.84084,     0.84184,     0.84284,     0.84384,     0.84484,     0.84585,     0.84685,     0.84785,     0.84885,     0.84985,     0.85085,     0.85185,     0.85285,     0.85385,     0.85485,     0.85586,     0.85686,     0.85786,     0.85886,     0.85986,     0.86086,     0.86186,     0.86286,     0.86386,\n",
       "           0.86486,     0.86587,     0.86687,     0.86787,     0.86887,     0.86987,     0.87087,     0.87187,     0.87287,     0.87387,     0.87487,     0.87588,     0.87688,     0.87788,     0.87888,     0.87988,     0.88088,     0.88188,     0.88288,     0.88388,     0.88488,     0.88589,     0.88689,     0.88789,\n",
       "           0.88889,     0.88989,     0.89089,     0.89189,     0.89289,     0.89389,     0.89489,      0.8959,      0.8969,      0.8979,      0.8989,      0.8999,      0.9009,      0.9019,      0.9029,      0.9039,      0.9049,     0.90591,     0.90691,     0.90791,     0.90891,     0.90991,     0.91091,     0.91191,\n",
       "           0.91291,     0.91391,     0.91491,     0.91592,     0.91692,     0.91792,     0.91892,     0.91992,     0.92092,     0.92192,     0.92292,     0.92392,     0.92492,     0.92593,     0.92693,     0.92793,     0.92893,     0.92993,     0.93093,     0.93193,     0.93293,     0.93393,     0.93493,     0.93594,\n",
       "           0.93694,     0.93794,     0.93894,     0.93994,     0.94094,     0.94194,     0.94294,     0.94394,     0.94494,     0.94595,     0.94695,     0.94795,     0.94895,     0.94995,     0.95095,     0.95195,     0.95295,     0.95395,     0.95495,     0.95596,     0.95696,     0.95796,     0.95896,     0.95996,\n",
       "           0.96096,     0.96196,     0.96296,     0.96396,     0.96496,     0.96597,     0.96697,     0.96797,     0.96897,     0.96997,     0.97097,     0.97197,     0.97297,     0.97397,     0.97497,     0.97598,     0.97698,     0.97798,     0.97898,     0.97998,     0.98098,     0.98198,     0.98298,     0.98398,\n",
       "           0.98498,     0.98599,     0.98699,     0.98799,     0.98899,     0.98999,     0.99099,     0.99199,     0.99299,     0.99399,     0.99499,       0.996,       0.997,       0.998,       0.999,           1]), array([[       0.75,     0.75015,     0.83845,     0.85315,     0.86217,      0.8711,     0.87724,     0.88256,     0.88386,     0.88516,     0.88646,     0.88775,     0.88904,     0.89033,     0.89161,     0.89289,     0.89417,     0.89545,     0.89707,     0.89872,     0.90036,       0.902,     0.90363,\n",
       "            0.90526,     0.90688,      0.9085,     0.91399,     0.92163,     0.92349,     0.92401,     0.92452,     0.92504,     0.92555,     0.92606,     0.92657,     0.92708,      0.9276,     0.92811,     0.92862,     0.92913,     0.92964,     0.93014,     0.93065,     0.93116,     0.93167,     0.93217,\n",
       "            0.93268,     0.93319,     0.93369,      0.9342,      0.9347,      0.9352,     0.93571,     0.93621,     0.93671,     0.93721,     0.93776,     0.93835,     0.93894,     0.93954,     0.94013,     0.94072,     0.94131,      0.9419,     0.94249,     0.94308,     0.94367,     0.94426,     0.94485,\n",
       "            0.94543,     0.94602,      0.9466,     0.94719,     0.94777,     0.94836,     0.94894,     0.94952,      0.9501,     0.95068,     0.95126,     0.95184,     0.95239,     0.95251,     0.95262,     0.95274,     0.95285,     0.95297,     0.95309,      0.9532,     0.95332,     0.95343,     0.95355,\n",
       "            0.95366,     0.95378,      0.9539,     0.95401,     0.95413,     0.95424,     0.95436,     0.95448,     0.95459,     0.95471,     0.95482,     0.95494,     0.95505,     0.95517,     0.95528,      0.9554,     0.95551,     0.95563,     0.95575,     0.95586,     0.95598,     0.95609,     0.95621,\n",
       "            0.95632,     0.95644,     0.95655,     0.95667,     0.95678,      0.9569,     0.95701,     0.95713,     0.95724,     0.95736,     0.95747,     0.95759,      0.9577,     0.95782,     0.95793,     0.95805,     0.95816,     0.95828,     0.95839,     0.95851,     0.95862,     0.95874,     0.95885,\n",
       "            0.95897,     0.95908,      0.9592,     0.95931,     0.95942,     0.95954,     0.95965,     0.95977,     0.95988,        0.96,     0.96011,     0.96023,     0.96034,     0.96045,     0.96057,     0.96068,      0.9608,     0.96091,     0.96103,     0.96114,     0.96125,     0.96137,     0.96148,\n",
       "             0.9616,     0.96171,     0.96182,     0.96194,     0.96205,     0.96217,     0.96228,     0.96239,     0.96251,     0.96262,     0.96274,     0.96285,     0.96296,     0.96308,     0.96319,     0.96331,     0.96342,     0.96353,     0.96365,     0.96376,     0.96387,     0.96399,      0.9641,\n",
       "            0.96421,     0.96433,     0.96444,     0.96455,     0.96467,     0.96478,     0.96489,     0.96501,     0.96512,     0.96523,     0.96535,     0.96546,     0.96557,     0.96569,      0.9658,     0.96591,     0.96603,     0.96614,     0.96625,     0.96637,     0.96648,     0.96659,     0.96671,\n",
       "            0.96682,     0.96693,     0.96704,     0.96716,     0.96727,     0.96738,      0.9675,     0.96761,     0.96772,     0.96822,     0.96881,      0.9694,     0.96998,     0.97057,     0.97116,     0.97174,     0.97233,     0.97291,      0.9735,     0.97408,     0.97466,     0.97524,     0.97582,\n",
       "             0.9764,     0.97698,     0.97756,     0.97814,     0.97872,     0.97929,     0.97987,     0.98044,     0.98102,     0.98159,     0.98217,     0.98274,     0.98331,     0.98362,     0.98365,     0.98368,     0.98372,     0.98375,     0.98378,     0.98381,     0.98384,     0.98387,      0.9839,\n",
       "            0.98394,     0.98397,       0.984,     0.98403,     0.98406,     0.98409,     0.98413,     0.98416,     0.98419,     0.98422,     0.98425,     0.98428,     0.98431,     0.98435,     0.98438,     0.98441,     0.98444,     0.98447,      0.9845,     0.98453,     0.98456,      0.9846,     0.98463,\n",
       "            0.98466,     0.98469,     0.98472,     0.98475,     0.98478,     0.98482,     0.98485,     0.98488,     0.98491,     0.98494,     0.98497,       0.985,     0.98504,     0.98507,      0.9851,     0.98513,     0.98516,     0.98519,     0.98522,     0.98526,     0.98529,     0.98532,     0.98535,\n",
       "            0.98538,     0.98541,     0.98544,     0.98547,     0.98551,     0.98554,     0.98557,      0.9856,     0.98563,     0.98566,     0.98569,     0.98573,     0.98576,     0.98579,     0.98582,     0.98585,     0.98588,     0.98591,     0.98594,     0.98598,     0.98601,     0.98604,     0.98607,\n",
       "             0.9861,     0.98613,     0.98616,      0.9862,     0.98623,     0.98626,     0.98629,     0.98632,     0.98635,     0.98638,     0.98641,     0.98645,     0.98648,     0.98651,     0.98654,     0.98657,      0.9866,     0.98663,     0.98666,      0.9867,     0.98673,     0.98676,     0.98679,\n",
       "            0.98682,     0.98685,     0.98688,     0.98691,     0.98695,     0.98698,     0.98701,     0.98704,     0.98707,      0.9871,     0.98713,     0.98716,      0.9872,     0.98723,     0.98726,     0.98729,     0.98732,     0.98735,     0.98738,     0.98741,     0.98745,     0.98748,     0.98751,\n",
       "            0.98754,     0.98757,      0.9876,     0.98763,     0.98766,      0.9877,     0.98773,     0.98776,     0.98779,     0.98782,     0.98785,     0.98788,     0.98791,     0.98795,     0.98798,     0.98801,     0.98804,     0.98807,      0.9881,     0.98813,     0.98816,     0.98819,     0.98823,\n",
       "            0.98826,     0.98829,     0.98832,     0.98835,     0.98838,     0.98841,     0.98844,     0.98848,     0.98851,     0.98854,     0.98857,      0.9886,     0.98863,     0.98866,     0.98869,     0.98872,     0.98876,     0.98879,     0.98882,     0.98885,     0.98888,     0.98891,     0.98894,\n",
       "            0.98897,     0.98901,     0.98904,     0.98907,      0.9891,     0.98913,     0.98916,     0.98919,     0.98922,     0.98925,     0.98929,     0.98932,     0.98935,     0.98938,     0.98941,     0.98944,     0.98947,      0.9895,     0.98953,     0.98957,      0.9896,     0.98963,     0.98966,\n",
       "            0.98969,     0.98972,     0.98975,     0.98978,     0.98981,     0.98984,     0.98988,     0.98991,     0.98994,     0.98997,        0.99,     0.99003,     0.99006,     0.99009,     0.99012,     0.99016,     0.99019,     0.99022,     0.99025,     0.99028,     0.99031,     0.99034,     0.99037,\n",
       "             0.9904,     0.99044,     0.99047,      0.9905,     0.99053,     0.99056,     0.99059,     0.99062,     0.99065,     0.99068,     0.99071,     0.99075,     0.99078,     0.99081,     0.99084,     0.99087,      0.9909,     0.99093,     0.99096,     0.99099,     0.99102,     0.99106,     0.99109,\n",
       "            0.99112,     0.99115,     0.99118,     0.99121,     0.99124,     0.99127,      0.9913,     0.99133,     0.99137,      0.9914,     0.99143,     0.99146,     0.99149,     0.99152,     0.99155,     0.99158,     0.99161,     0.99164,     0.99168,     0.99171,     0.99174,     0.99177,      0.9918,\n",
       "            0.99183,     0.99186,     0.99189,     0.99192,     0.99195,     0.99198,     0.99202,     0.99205,     0.99208,     0.99211,     0.99214,     0.99217,      0.9922,     0.99223,     0.99226,     0.99229,     0.99233,     0.99236,     0.99239,     0.99242,     0.99245,     0.99248,     0.99251,\n",
       "            0.99254,     0.99257,      0.9926,     0.99263,     0.99267,      0.9927,     0.99273,     0.99276,     0.99279,     0.99282,     0.99285,     0.99288,     0.99291,     0.99294,     0.99297,     0.99301,     0.99304,     0.99307,      0.9931,     0.99313,     0.99316,     0.99319,     0.99322,\n",
       "            0.99325,     0.99328,     0.99331,     0.99334,     0.99338,     0.99341,     0.99344,     0.99347,      0.9935,     0.99353,     0.99356,     0.99359,     0.99362,     0.99365,     0.99368,     0.99372,     0.99375,     0.99378,     0.99381,     0.99384,     0.99387,      0.9939,     0.99393,\n",
       "            0.99396,     0.99399,     0.99402,     0.99405,     0.99409,     0.99412,     0.99415,     0.99418,     0.99421,     0.99424,     0.99427,      0.9943,     0.99433,     0.99436,     0.99439,     0.99442,     0.99445,     0.99449,     0.99452,     0.99455,     0.99458,     0.99461,     0.99464,\n",
       "            0.99467,      0.9947,     0.99473,     0.99476,     0.99479,     0.99482,     0.99485,     0.99489,     0.99492,     0.99495,     0.99498,     0.99501,     0.99504,     0.99507,      0.9951,     0.99513,     0.99516,     0.99519,     0.99522,     0.99525,     0.99529,     0.99532,     0.99535,\n",
       "            0.99538,     0.99541,     0.99544,     0.99547,      0.9955,     0.99553,     0.99556,     0.99559,     0.99562,     0.99565,     0.99569,     0.99572,     0.99575,     0.99578,     0.99581,     0.99584,     0.99587,      0.9959,     0.99593,     0.99596,     0.99599,     0.99602,     0.99605,\n",
       "            0.99608,     0.99612,     0.99615,     0.99618,     0.99621,     0.99624,     0.99627,      0.9963,     0.99633,     0.99636,     0.99639,     0.99642,     0.99645,     0.99648,     0.99651,     0.99654,     0.99658,     0.99661,     0.99664,     0.99667,      0.9967,     0.99673,     0.99676,\n",
       "            0.99679,     0.99682,     0.99685,     0.99688,     0.99691,     0.99694,     0.99697,       0.997,     0.99704,     0.99707,      0.9971,     0.99713,     0.99716,     0.99719,     0.99722,     0.99725,     0.99728,     0.99731,     0.99734,     0.99737,      0.9974,     0.99743,     0.99746,\n",
       "            0.99749,     0.99753,     0.99756,     0.99759,     0.99762,     0.99765,     0.99768,     0.99771,     0.99774,     0.99777,      0.9978,     0.99783,     0.99786,     0.99789,     0.99792,     0.99795,     0.99798,     0.99801,     0.99805,     0.99808,     0.99811,     0.99814,     0.99817,\n",
       "             0.9982,     0.99823,     0.99826,     0.99829,     0.99832,     0.99835,     0.99838,     0.99841,     0.99844,     0.99847,      0.9985,     0.99853,     0.99856,      0.9986,     0.99863,     0.99866,     0.99869,     0.99872,     0.99875,     0.99878,     0.99881,     0.99884,     0.99887,\n",
       "             0.9989,     0.99893,     0.99896,     0.99899,     0.99902,     0.99905,     0.99908,     0.99911,     0.99914,     0.99918,     0.99921,     0.99924,     0.99927,      0.9993,     0.99933,     0.99936,     0.99939,     0.99942,     0.99945,     0.99948,     0.99951,     0.99954,     0.99957,\n",
       "             0.9996,     0.99963,     0.99966,     0.99969,     0.99972,     0.99975,     0.99979,     0.99982,     0.99985,     0.99988,     0.99991,     0.99994,     0.99997,           1,     0.99945,     0.99886,     0.99827,     0.99768,      0.9971,     0.99651,     0.99592,     0.99533,     0.99473,\n",
       "            0.99414,     0.99355,     0.99295,     0.99236,     0.99176,     0.99117,     0.99057,     0.98998,     0.98938,     0.98878,     0.98818,     0.98758,     0.98698,     0.98638,     0.98577,     0.98517,     0.98457,     0.98396,     0.98336,     0.98242,     0.98114,     0.97985,     0.97856,\n",
       "            0.97726,     0.97596,     0.97466,     0.97336,     0.97205,     0.97074,     0.96943,     0.96811,     0.96679,     0.96547,     0.96437,     0.96327,     0.96217,     0.96106,     0.95995,     0.95884,     0.95772,     0.95661,     0.95549,     0.95437,     0.95324,     0.95212,     0.95099,\n",
       "            0.94986,     0.94872,     0.94759,     0.94535,     0.94284,     0.94032,     0.93779,     0.93524,     0.93268,     0.93011,     0.92724,     0.92393,     0.92059,     0.91724,     0.91386,     0.91047,     0.90662,     0.90245,     0.89825,     0.89401,     0.88974,     0.88455,     0.87907,\n",
       "            0.87355,     0.86797,     0.85461,     0.82156,     0.81606,      0.8105,      0.8049,     0.78771,     0.74449,     0.72042,     0.71466,     0.70884,     0.70298,     0.69705,     0.69281,     0.68908,     0.68532,     0.68154,     0.67774,     0.67392,     0.67008,     0.66466,     0.64737,\n",
       "            0.62126,     0.60312,     0.60053,     0.59794,     0.59533,     0.59272,     0.59009,     0.58746,     0.58482,     0.58216,      0.5795,     0.57683,     0.57414,     0.57145,     0.53892,     0.51534,     0.49422,     0.47722,     0.45227,     0.41477,     0.40543,     0.39597,     0.38641,\n",
       "            0.37095,     0.32015,       0.272,      0.2476,     0.22738,     0.21155,     0.19542,     0.18002,     0.16938,     0.15861,     0.14771,     0.13668,     0.12552,      0.1179,     0.11039,     0.10282,    0.095197,    0.087509,    0.079758,    0.071944,           0,           0,           0,\n",
       "                  0,           0,           0,           0,           0,           0,           0,           0,           0,           0,           0,           0,           0,           0,           0,           0,           0,           0,           0,           0,           0,           0,           0,\n",
       "                  0,           0,           0,           0,           0,           0,           0,           0,           0,           0,           0,           0,           0,           0,           0,           0,           0,           0,           0,           0,           0,           0,           0,\n",
       "                  0,           0,           0,           0,           0,           0,           0,           0,           0,           0,           0,           0,           0,           0,           0,           0,           0,           0,           0,           0,           0,           0,           0,\n",
       "                  0,           0,           0,           0,           0,           0,           0,           0,           0,           0,           0]]), 'Confidence', 'F1'], [array([          0,    0.001001,    0.002002,    0.003003,    0.004004,    0.005005,    0.006006,    0.007007,    0.008008,    0.009009,     0.01001,    0.011011,    0.012012,    0.013013,    0.014014,    0.015015,    0.016016,    0.017017,    0.018018,    0.019019,     0.02002,    0.021021,    0.022022,    0.023023,\n",
       "          0.024024,    0.025025,    0.026026,    0.027027,    0.028028,    0.029029,     0.03003,    0.031031,    0.032032,    0.033033,    0.034034,    0.035035,    0.036036,    0.037037,    0.038038,    0.039039,     0.04004,    0.041041,    0.042042,    0.043043,    0.044044,    0.045045,    0.046046,    0.047047,\n",
       "          0.048048,    0.049049,     0.05005,    0.051051,    0.052052,    0.053053,    0.054054,    0.055055,    0.056056,    0.057057,    0.058058,    0.059059,     0.06006,    0.061061,    0.062062,    0.063063,    0.064064,    0.065065,    0.066066,    0.067067,    0.068068,    0.069069,     0.07007,    0.071071,\n",
       "          0.072072,    0.073073,    0.074074,    0.075075,    0.076076,    0.077077,    0.078078,    0.079079,     0.08008,    0.081081,    0.082082,    0.083083,    0.084084,    0.085085,    0.086086,    0.087087,    0.088088,    0.089089,     0.09009,    0.091091,    0.092092,    0.093093,    0.094094,    0.095095,\n",
       "          0.096096,    0.097097,    0.098098,    0.099099,      0.1001,      0.1011,      0.1021,      0.1031,      0.1041,     0.10511,     0.10611,     0.10711,     0.10811,     0.10911,     0.11011,     0.11111,     0.11211,     0.11311,     0.11411,     0.11512,     0.11612,     0.11712,     0.11812,     0.11912,\n",
       "           0.12012,     0.12112,     0.12212,     0.12312,     0.12412,     0.12513,     0.12613,     0.12713,     0.12813,     0.12913,     0.13013,     0.13113,     0.13213,     0.13313,     0.13413,     0.13514,     0.13614,     0.13714,     0.13814,     0.13914,     0.14014,     0.14114,     0.14214,     0.14314,\n",
       "           0.14414,     0.14515,     0.14615,     0.14715,     0.14815,     0.14915,     0.15015,     0.15115,     0.15215,     0.15315,     0.15415,     0.15516,     0.15616,     0.15716,     0.15816,     0.15916,     0.16016,     0.16116,     0.16216,     0.16316,     0.16416,     0.16517,     0.16617,     0.16717,\n",
       "           0.16817,     0.16917,     0.17017,     0.17117,     0.17217,     0.17317,     0.17417,     0.17518,     0.17618,     0.17718,     0.17818,     0.17918,     0.18018,     0.18118,     0.18218,     0.18318,     0.18418,     0.18519,     0.18619,     0.18719,     0.18819,     0.18919,     0.19019,     0.19119,\n",
       "           0.19219,     0.19319,     0.19419,      0.1952,      0.1962,      0.1972,      0.1982,      0.1992,      0.2002,      0.2012,      0.2022,      0.2032,      0.2042,     0.20521,     0.20621,     0.20721,     0.20821,     0.20921,     0.21021,     0.21121,     0.21221,     0.21321,     0.21421,     0.21522,\n",
       "           0.21622,     0.21722,     0.21822,     0.21922,     0.22022,     0.22122,     0.22222,     0.22322,     0.22422,     0.22523,     0.22623,     0.22723,     0.22823,     0.22923,     0.23023,     0.23123,     0.23223,     0.23323,     0.23423,     0.23524,     0.23624,     0.23724,     0.23824,     0.23924,\n",
       "           0.24024,     0.24124,     0.24224,     0.24324,     0.24424,     0.24525,     0.24625,     0.24725,     0.24825,     0.24925,     0.25025,     0.25125,     0.25225,     0.25325,     0.25425,     0.25526,     0.25626,     0.25726,     0.25826,     0.25926,     0.26026,     0.26126,     0.26226,     0.26326,\n",
       "           0.26426,     0.26527,     0.26627,     0.26727,     0.26827,     0.26927,     0.27027,     0.27127,     0.27227,     0.27327,     0.27427,     0.27528,     0.27628,     0.27728,     0.27828,     0.27928,     0.28028,     0.28128,     0.28228,     0.28328,     0.28428,     0.28529,     0.28629,     0.28729,\n",
       "           0.28829,     0.28929,     0.29029,     0.29129,     0.29229,     0.29329,     0.29429,      0.2953,      0.2963,      0.2973,      0.2983,      0.2993,      0.3003,      0.3013,      0.3023,      0.3033,      0.3043,     0.30531,     0.30631,     0.30731,     0.30831,     0.30931,     0.31031,     0.31131,\n",
       "           0.31231,     0.31331,     0.31431,     0.31532,     0.31632,     0.31732,     0.31832,     0.31932,     0.32032,     0.32132,     0.32232,     0.32332,     0.32432,     0.32533,     0.32633,     0.32733,     0.32833,     0.32933,     0.33033,     0.33133,     0.33233,     0.33333,     0.33433,     0.33534,\n",
       "           0.33634,     0.33734,     0.33834,     0.33934,     0.34034,     0.34134,     0.34234,     0.34334,     0.34434,     0.34535,     0.34635,     0.34735,     0.34835,     0.34935,     0.35035,     0.35135,     0.35235,     0.35335,     0.35435,     0.35536,     0.35636,     0.35736,     0.35836,     0.35936,\n",
       "           0.36036,     0.36136,     0.36236,     0.36336,     0.36436,     0.36537,     0.36637,     0.36737,     0.36837,     0.36937,     0.37037,     0.37137,     0.37237,     0.37337,     0.37437,     0.37538,     0.37638,     0.37738,     0.37838,     0.37938,     0.38038,     0.38138,     0.38238,     0.38338,\n",
       "           0.38438,     0.38539,     0.38639,     0.38739,     0.38839,     0.38939,     0.39039,     0.39139,     0.39239,     0.39339,     0.39439,      0.3954,      0.3964,      0.3974,      0.3984,      0.3994,      0.4004,      0.4014,      0.4024,      0.4034,      0.4044,     0.40541,     0.40641,     0.40741,\n",
       "           0.40841,     0.40941,     0.41041,     0.41141,     0.41241,     0.41341,     0.41441,     0.41542,     0.41642,     0.41742,     0.41842,     0.41942,     0.42042,     0.42142,     0.42242,     0.42342,     0.42442,     0.42543,     0.42643,     0.42743,     0.42843,     0.42943,     0.43043,     0.43143,\n",
       "           0.43243,     0.43343,     0.43443,     0.43544,     0.43644,     0.43744,     0.43844,     0.43944,     0.44044,     0.44144,     0.44244,     0.44344,     0.44444,     0.44545,     0.44645,     0.44745,     0.44845,     0.44945,     0.45045,     0.45145,     0.45245,     0.45345,     0.45445,     0.45546,\n",
       "           0.45646,     0.45746,     0.45846,     0.45946,     0.46046,     0.46146,     0.46246,     0.46346,     0.46446,     0.46547,     0.46647,     0.46747,     0.46847,     0.46947,     0.47047,     0.47147,     0.47247,     0.47347,     0.47447,     0.47548,     0.47648,     0.47748,     0.47848,     0.47948,\n",
       "           0.48048,     0.48148,     0.48248,     0.48348,     0.48448,     0.48549,     0.48649,     0.48749,     0.48849,     0.48949,     0.49049,     0.49149,     0.49249,     0.49349,     0.49449,      0.4955,      0.4965,      0.4975,      0.4985,      0.4995,      0.5005,      0.5015,      0.5025,      0.5035,\n",
       "            0.5045,     0.50551,     0.50651,     0.50751,     0.50851,     0.50951,     0.51051,     0.51151,     0.51251,     0.51351,     0.51451,     0.51552,     0.51652,     0.51752,     0.51852,     0.51952,     0.52052,     0.52152,     0.52252,     0.52352,     0.52452,     0.52553,     0.52653,     0.52753,\n",
       "           0.52853,     0.52953,     0.53053,     0.53153,     0.53253,     0.53353,     0.53453,     0.53554,     0.53654,     0.53754,     0.53854,     0.53954,     0.54054,     0.54154,     0.54254,     0.54354,     0.54454,     0.54555,     0.54655,     0.54755,     0.54855,     0.54955,     0.55055,     0.55155,\n",
       "           0.55255,     0.55355,     0.55455,     0.55556,     0.55656,     0.55756,     0.55856,     0.55956,     0.56056,     0.56156,     0.56256,     0.56356,     0.56456,     0.56557,     0.56657,     0.56757,     0.56857,     0.56957,     0.57057,     0.57157,     0.57257,     0.57357,     0.57457,     0.57558,\n",
       "           0.57658,     0.57758,     0.57858,     0.57958,     0.58058,     0.58158,     0.58258,     0.58358,     0.58458,     0.58559,     0.58659,     0.58759,     0.58859,     0.58959,     0.59059,     0.59159,     0.59259,     0.59359,     0.59459,      0.5956,      0.5966,      0.5976,      0.5986,      0.5996,\n",
       "            0.6006,      0.6016,      0.6026,      0.6036,      0.6046,     0.60561,     0.60661,     0.60761,     0.60861,     0.60961,     0.61061,     0.61161,     0.61261,     0.61361,     0.61461,     0.61562,     0.61662,     0.61762,     0.61862,     0.61962,     0.62062,     0.62162,     0.62262,     0.62362,\n",
       "           0.62462,     0.62563,     0.62663,     0.62763,     0.62863,     0.62963,     0.63063,     0.63163,     0.63263,     0.63363,     0.63463,     0.63564,     0.63664,     0.63764,     0.63864,     0.63964,     0.64064,     0.64164,     0.64264,     0.64364,     0.64464,     0.64565,     0.64665,     0.64765,\n",
       "           0.64865,     0.64965,     0.65065,     0.65165,     0.65265,     0.65365,     0.65465,     0.65566,     0.65666,     0.65766,     0.65866,     0.65966,     0.66066,     0.66166,     0.66266,     0.66366,     0.66466,     0.66567,     0.66667,     0.66767,     0.66867,     0.66967,     0.67067,     0.67167,\n",
       "           0.67267,     0.67367,     0.67467,     0.67568,     0.67668,     0.67768,     0.67868,     0.67968,     0.68068,     0.68168,     0.68268,     0.68368,     0.68468,     0.68569,     0.68669,     0.68769,     0.68869,     0.68969,     0.69069,     0.69169,     0.69269,     0.69369,     0.69469,      0.6957,\n",
       "            0.6967,      0.6977,      0.6987,      0.6997,      0.7007,      0.7017,      0.7027,      0.7037,      0.7047,     0.70571,     0.70671,     0.70771,     0.70871,     0.70971,     0.71071,     0.71171,     0.71271,     0.71371,     0.71471,     0.71572,     0.71672,     0.71772,     0.71872,     0.71972,\n",
       "           0.72072,     0.72172,     0.72272,     0.72372,     0.72472,     0.72573,     0.72673,     0.72773,     0.72873,     0.72973,     0.73073,     0.73173,     0.73273,     0.73373,     0.73473,     0.73574,     0.73674,     0.73774,     0.73874,     0.73974,     0.74074,     0.74174,     0.74274,     0.74374,\n",
       "           0.74474,     0.74575,     0.74675,     0.74775,     0.74875,     0.74975,     0.75075,     0.75175,     0.75275,     0.75375,     0.75475,     0.75576,     0.75676,     0.75776,     0.75876,     0.75976,     0.76076,     0.76176,     0.76276,     0.76376,     0.76476,     0.76577,     0.76677,     0.76777,\n",
       "           0.76877,     0.76977,     0.77077,     0.77177,     0.77277,     0.77377,     0.77477,     0.77578,     0.77678,     0.77778,     0.77878,     0.77978,     0.78078,     0.78178,     0.78278,     0.78378,     0.78478,     0.78579,     0.78679,     0.78779,     0.78879,     0.78979,     0.79079,     0.79179,\n",
       "           0.79279,     0.79379,     0.79479,      0.7958,      0.7968,      0.7978,      0.7988,      0.7998,      0.8008,      0.8018,      0.8028,      0.8038,      0.8048,     0.80581,     0.80681,     0.80781,     0.80881,     0.80981,     0.81081,     0.81181,     0.81281,     0.81381,     0.81481,     0.81582,\n",
       "           0.81682,     0.81782,     0.81882,     0.81982,     0.82082,     0.82182,     0.82282,     0.82382,     0.82482,     0.82583,     0.82683,     0.82783,     0.82883,     0.82983,     0.83083,     0.83183,     0.83283,     0.83383,     0.83483,     0.83584,     0.83684,     0.83784,     0.83884,     0.83984,\n",
       "           0.84084,     0.84184,     0.84284,     0.84384,     0.84484,     0.84585,     0.84685,     0.84785,     0.84885,     0.84985,     0.85085,     0.85185,     0.85285,     0.85385,     0.85485,     0.85586,     0.85686,     0.85786,     0.85886,     0.85986,     0.86086,     0.86186,     0.86286,     0.86386,\n",
       "           0.86486,     0.86587,     0.86687,     0.86787,     0.86887,     0.86987,     0.87087,     0.87187,     0.87287,     0.87387,     0.87487,     0.87588,     0.87688,     0.87788,     0.87888,     0.87988,     0.88088,     0.88188,     0.88288,     0.88388,     0.88488,     0.88589,     0.88689,     0.88789,\n",
       "           0.88889,     0.88989,     0.89089,     0.89189,     0.89289,     0.89389,     0.89489,      0.8959,      0.8969,      0.8979,      0.8989,      0.8999,      0.9009,      0.9019,      0.9029,      0.9039,      0.9049,     0.90591,     0.90691,     0.90791,     0.90891,     0.90991,     0.91091,     0.91191,\n",
       "           0.91291,     0.91391,     0.91491,     0.91592,     0.91692,     0.91792,     0.91892,     0.91992,     0.92092,     0.92192,     0.92292,     0.92392,     0.92492,     0.92593,     0.92693,     0.92793,     0.92893,     0.92993,     0.93093,     0.93193,     0.93293,     0.93393,     0.93493,     0.93594,\n",
       "           0.93694,     0.93794,     0.93894,     0.93994,     0.94094,     0.94194,     0.94294,     0.94394,     0.94494,     0.94595,     0.94695,     0.94795,     0.94895,     0.94995,     0.95095,     0.95195,     0.95295,     0.95395,     0.95495,     0.95596,     0.95696,     0.95796,     0.95896,     0.95996,\n",
       "           0.96096,     0.96196,     0.96296,     0.96396,     0.96496,     0.96597,     0.96697,     0.96797,     0.96897,     0.96997,     0.97097,     0.97197,     0.97297,     0.97397,     0.97497,     0.97598,     0.97698,     0.97798,     0.97898,     0.97998,     0.98098,     0.98198,     0.98298,     0.98398,\n",
       "           0.98498,     0.98599,     0.98699,     0.98799,     0.98899,     0.98999,     0.99099,     0.99199,     0.99299,     0.99399,     0.99499,       0.996,       0.997,       0.998,       0.999,           1]), array([[        0.6,     0.60019,     0.72183,     0.74391,     0.75774,     0.77164,     0.78132,      0.7898,     0.79189,     0.79398,     0.79607,     0.79816,     0.80024,     0.80233,     0.80442,     0.80651,      0.8086,     0.81069,     0.81336,     0.81607,     0.81878,     0.82149,     0.82421,\n",
       "            0.82692,     0.82963,     0.83234,      0.8416,     0.85466,     0.85786,     0.85875,     0.85964,     0.86053,     0.86142,      0.8623,     0.86319,     0.86408,     0.86497,     0.86586,     0.86674,     0.86763,     0.86852,     0.86941,      0.8703,     0.87119,     0.87207,     0.87296,\n",
       "            0.87385,     0.87474,     0.87563,     0.87652,      0.8774,     0.87829,     0.87918,     0.88007,     0.88096,     0.88185,     0.88281,     0.88386,     0.88491,     0.88597,     0.88702,     0.88808,     0.88913,     0.89019,     0.89124,      0.8923,     0.89335,      0.8944,     0.89546,\n",
       "            0.89651,     0.89757,     0.89862,     0.89968,     0.90073,     0.90179,     0.90284,     0.90389,     0.90495,       0.906,     0.90706,     0.90811,     0.90911,     0.90932,     0.90953,     0.90974,     0.90995,     0.91016,     0.91038,     0.91059,      0.9108,     0.91101,     0.91122,\n",
       "            0.91143,     0.91165,     0.91186,     0.91207,     0.91228,     0.91249,      0.9127,     0.91291,     0.91313,     0.91334,     0.91355,     0.91376,     0.91397,     0.91418,      0.9144,     0.91461,     0.91482,     0.91503,     0.91524,     0.91545,     0.91567,     0.91588,     0.91609,\n",
       "             0.9163,     0.91651,     0.91672,     0.91694,     0.91715,     0.91736,     0.91757,     0.91778,     0.91799,      0.9182,     0.91842,     0.91863,     0.91884,     0.91905,     0.91926,     0.91947,     0.91969,      0.9199,     0.92011,     0.92032,     0.92053,     0.92074,     0.92096,\n",
       "            0.92117,     0.92138,     0.92159,      0.9218,     0.92201,     0.92223,     0.92244,     0.92265,     0.92286,     0.92307,     0.92328,     0.92349,     0.92371,     0.92392,     0.92413,     0.92434,     0.92455,     0.92476,     0.92498,     0.92519,      0.9254,     0.92561,     0.92582,\n",
       "            0.92603,     0.92625,     0.92646,     0.92667,     0.92688,     0.92709,      0.9273,     0.92752,     0.92773,     0.92794,     0.92815,     0.92836,     0.92857,     0.92878,       0.929,     0.92921,     0.92942,     0.92963,     0.92984,     0.93005,     0.93027,     0.93048,     0.93069,\n",
       "             0.9309,     0.93111,     0.93132,     0.93154,     0.93175,     0.93196,     0.93217,     0.93238,     0.93259,     0.93281,     0.93302,     0.93323,     0.93344,     0.93365,     0.93386,     0.93407,     0.93429,      0.9345,     0.93471,     0.93492,     0.93513,     0.93534,     0.93556,\n",
       "            0.93577,     0.93598,     0.93619,      0.9364,     0.93661,     0.93683,     0.93704,     0.93725,     0.93746,      0.9384,     0.93951,     0.94061,     0.94172,     0.94283,     0.94393,     0.94504,     0.94615,     0.94725,     0.94836,     0.94947,     0.95057,     0.95168,     0.95279,\n",
       "            0.95389,       0.955,     0.95611,     0.95721,     0.95832,     0.95943,     0.96053,     0.96164,     0.96275,     0.96385,     0.96496,     0.96607,     0.96717,     0.96777,     0.96783,     0.96789,     0.96795,     0.96802,     0.96808,     0.96814,      0.9682,     0.96826,     0.96832,\n",
       "            0.96838,     0.96844,      0.9685,     0.96856,     0.96862,     0.96869,     0.96875,     0.96881,     0.96887,     0.96893,     0.96899,     0.96905,     0.96911,     0.96917,     0.96923,     0.96929,     0.96936,     0.96942,     0.96948,     0.96954,      0.9696,     0.96966,     0.96972,\n",
       "            0.96978,     0.96984,      0.9699,     0.96996,     0.97003,     0.97009,     0.97015,     0.97021,     0.97027,     0.97033,     0.97039,     0.97045,     0.97051,     0.97057,     0.97063,      0.9707,     0.97076,     0.97082,     0.97088,     0.97094,       0.971,     0.97106,     0.97112,\n",
       "            0.97118,     0.97124,      0.9713,     0.97137,     0.97143,     0.97149,     0.97155,     0.97161,     0.97167,     0.97173,     0.97179,     0.97185,     0.97191,     0.97197,     0.97204,      0.9721,     0.97216,     0.97222,     0.97228,     0.97234,      0.9724,     0.97246,     0.97252,\n",
       "            0.97258,     0.97264,     0.97271,     0.97277,     0.97283,     0.97289,     0.97295,     0.97301,     0.97307,     0.97313,     0.97319,     0.97325,     0.97331,     0.97338,     0.97344,      0.9735,     0.97356,     0.97362,     0.97368,     0.97374,      0.9738,     0.97386,     0.97392,\n",
       "            0.97399,     0.97405,     0.97411,     0.97417,     0.97423,     0.97429,     0.97435,     0.97441,     0.97447,     0.97453,     0.97459,     0.97466,     0.97472,     0.97478,     0.97484,      0.9749,     0.97496,     0.97502,     0.97508,     0.97514,      0.9752,     0.97526,     0.97533,\n",
       "            0.97539,     0.97545,     0.97551,     0.97557,     0.97563,     0.97569,     0.97575,     0.97581,     0.97587,     0.97593,       0.976,     0.97606,     0.97612,     0.97618,     0.97624,      0.9763,     0.97636,     0.97642,     0.97648,     0.97654,      0.9766,     0.97667,     0.97673,\n",
       "            0.97679,     0.97685,     0.97691,     0.97697,     0.97703,     0.97709,     0.97715,     0.97721,     0.97727,     0.97734,      0.9774,     0.97746,     0.97752,     0.97758,     0.97764,      0.9777,     0.97776,     0.97782,     0.97788,     0.97794,     0.97801,     0.97807,     0.97813,\n",
       "            0.97819,     0.97825,     0.97831,     0.97837,     0.97843,     0.97849,     0.97855,     0.97861,     0.97868,     0.97874,      0.9788,     0.97886,     0.97892,     0.97898,     0.97904,      0.9791,     0.97916,     0.97922,     0.97928,     0.97935,     0.97941,     0.97947,     0.97953,\n",
       "            0.97959,     0.97965,     0.97971,     0.97977,     0.97983,     0.97989,     0.97995,     0.98002,     0.98008,     0.98014,      0.9802,     0.98026,     0.98032,     0.98038,     0.98044,      0.9805,     0.98056,     0.98063,     0.98069,     0.98075,     0.98081,     0.98087,     0.98093,\n",
       "            0.98099,     0.98105,     0.98111,     0.98117,     0.98123,      0.9813,     0.98136,     0.98142,     0.98148,     0.98154,      0.9816,     0.98166,     0.98172,     0.98178,     0.98184,      0.9819,     0.98197,     0.98203,     0.98209,     0.98215,     0.98221,     0.98227,     0.98233,\n",
       "            0.98239,     0.98245,     0.98251,     0.98257,     0.98264,      0.9827,     0.98276,     0.98282,     0.98288,     0.98294,       0.983,     0.98306,     0.98312,     0.98318,     0.98324,     0.98331,     0.98337,     0.98343,     0.98349,     0.98355,     0.98361,     0.98367,     0.98373,\n",
       "            0.98379,     0.98385,     0.98391,     0.98398,     0.98404,      0.9841,     0.98416,     0.98422,     0.98428,     0.98434,      0.9844,     0.98446,     0.98452,     0.98458,     0.98465,     0.98471,     0.98477,     0.98483,     0.98489,     0.98495,     0.98501,     0.98507,     0.98513,\n",
       "            0.98519,     0.98525,     0.98532,     0.98538,     0.98544,      0.9855,     0.98556,     0.98562,     0.98568,     0.98574,      0.9858,     0.98586,     0.98592,     0.98599,     0.98605,     0.98611,     0.98617,     0.98623,     0.98629,     0.98635,     0.98641,     0.98647,     0.98653,\n",
       "            0.98659,     0.98666,     0.98672,     0.98678,     0.98684,      0.9869,     0.98696,     0.98702,     0.98708,     0.98714,      0.9872,     0.98726,     0.98733,     0.98739,     0.98745,     0.98751,     0.98757,     0.98763,     0.98769,     0.98775,     0.98781,     0.98787,     0.98794,\n",
       "              0.988,     0.98806,     0.98812,     0.98818,     0.98824,      0.9883,     0.98836,     0.98842,     0.98848,     0.98854,     0.98861,     0.98867,     0.98873,     0.98879,     0.98885,     0.98891,     0.98897,     0.98903,     0.98909,     0.98915,     0.98921,     0.98928,     0.98934,\n",
       "             0.9894,     0.98946,     0.98952,     0.98958,     0.98964,      0.9897,     0.98976,     0.98982,     0.98988,     0.98995,     0.99001,     0.99007,     0.99013,     0.99019,     0.99025,     0.99031,     0.99037,     0.99043,     0.99049,     0.99055,     0.99062,     0.99068,     0.99074,\n",
       "             0.9908,     0.99086,     0.99092,     0.99098,     0.99104,      0.9911,     0.99116,     0.99122,     0.99129,     0.99135,     0.99141,     0.99147,     0.99153,     0.99159,     0.99165,     0.99171,     0.99177,     0.99183,     0.99189,     0.99196,     0.99202,     0.99208,     0.99214,\n",
       "             0.9922,     0.99226,     0.99232,     0.99238,     0.99244,      0.9925,     0.99256,     0.99263,     0.99269,     0.99275,     0.99281,     0.99287,     0.99293,     0.99299,     0.99305,     0.99311,     0.99317,     0.99323,      0.9933,     0.99336,     0.99342,     0.99348,     0.99354,\n",
       "             0.9936,     0.99366,     0.99372,     0.99378,     0.99384,      0.9939,     0.99397,     0.99403,     0.99409,     0.99415,     0.99421,     0.99427,     0.99433,     0.99439,     0.99445,     0.99451,     0.99457,     0.99464,      0.9947,     0.99476,     0.99482,     0.99488,     0.99494,\n",
       "              0.995,     0.99506,     0.99512,     0.99518,     0.99525,     0.99531,     0.99537,     0.99543,     0.99549,     0.99555,     0.99561,     0.99567,     0.99573,     0.99579,     0.99585,     0.99592,     0.99598,     0.99604,      0.9961,     0.99616,     0.99622,     0.99628,     0.99634,\n",
       "             0.9964,     0.99646,     0.99652,     0.99659,     0.99665,     0.99671,     0.99677,     0.99683,     0.99689,     0.99695,     0.99701,     0.99707,     0.99713,     0.99719,     0.99726,     0.99732,     0.99738,     0.99744,      0.9975,     0.99756,     0.99762,     0.99768,     0.99774,\n",
       "             0.9978,     0.99786,     0.99793,     0.99799,     0.99805,     0.99811,     0.99817,     0.99823,     0.99829,     0.99835,     0.99841,     0.99847,     0.99853,      0.9986,     0.99866,     0.99872,     0.99878,     0.99884,      0.9989,     0.99896,     0.99902,     0.99908,     0.99914,\n",
       "             0.9992,     0.99927,     0.99933,     0.99939,     0.99945,     0.99951,     0.99957,     0.99963,     0.99969,     0.99975,     0.99981,     0.99987,     0.99994,           1,           1,           1,           1,           1,           1,           1,           1,           1,           1,\n",
       "                  1,           1,           1,           1,           1,           1,           1,           1,           1,           1,           1,           1,           1,           1,           1,           1,           1,           1,           1,           1,           1,           1,           1,\n",
       "                  1,           1,           1,           1,           1,           1,           1,           1,           1,           1,           1,           1,           1,           1,           1,           1,           1,           1,           1,           1,           1,           1,           1,\n",
       "                  1,           1,           1,           1,           1,           1,           1,           1,           1,           1,           1,           1,           1,           1,           1,           1,           1,           1,           1,           1,           1,           1,           1,\n",
       "                  1,           1,           1,           1,           1,           1,           1,           1,           1,           1,           1,           1,           1,           1,           1,           1,           1,           1,           1,           1,           1,           1,           1,\n",
       "                  1,           1,           1,           1,           1,           1,           1,           1,           1,           1,           1,           1,           1,           1,           1,           1,           1,           1,           1,           1,           1,           1,           1,\n",
       "                  1,           1,           1,           1,           1,           1,           1,           1,           1,           1,           1,           1,           1,           1,           1,           1,           1,           1,           1,           1,           1,           1,           1,\n",
       "                  1,           1,           1,           1,           1,           1,           1,           1,           1,           1,           1,           1,           1,           1,           1,           1,           1,           1,           1,           1,           1,           1,           1,\n",
       "                  1,           1,           1,           1,           1,           1,           1,           1,           1,           1,           1,           1,           1,           1,           1,           1,           1,           1,           1,           1,           1,           1,           1,\n",
       "                  1,           1,           1,           1,           1,           1,           1,           1,           1,           1,           1,           1,           1,           1,           1,           1,           1,           1,           1,           1,           1,           1,           1,\n",
       "                  1,           1,           1,           1,           1,           1,           1,           1,           1,           1,           1]]), 'Confidence', 'Precision'], [array([          0,    0.001001,    0.002002,    0.003003,    0.004004,    0.005005,    0.006006,    0.007007,    0.008008,    0.009009,     0.01001,    0.011011,    0.012012,    0.013013,    0.014014,    0.015015,    0.016016,    0.017017,    0.018018,    0.019019,     0.02002,    0.021021,    0.022022,    0.023023,\n",
       "          0.024024,    0.025025,    0.026026,    0.027027,    0.028028,    0.029029,     0.03003,    0.031031,    0.032032,    0.033033,    0.034034,    0.035035,    0.036036,    0.037037,    0.038038,    0.039039,     0.04004,    0.041041,    0.042042,    0.043043,    0.044044,    0.045045,    0.046046,    0.047047,\n",
       "          0.048048,    0.049049,     0.05005,    0.051051,    0.052052,    0.053053,    0.054054,    0.055055,    0.056056,    0.057057,    0.058058,    0.059059,     0.06006,    0.061061,    0.062062,    0.063063,    0.064064,    0.065065,    0.066066,    0.067067,    0.068068,    0.069069,     0.07007,    0.071071,\n",
       "          0.072072,    0.073073,    0.074074,    0.075075,    0.076076,    0.077077,    0.078078,    0.079079,     0.08008,    0.081081,    0.082082,    0.083083,    0.084084,    0.085085,    0.086086,    0.087087,    0.088088,    0.089089,     0.09009,    0.091091,    0.092092,    0.093093,    0.094094,    0.095095,\n",
       "          0.096096,    0.097097,    0.098098,    0.099099,      0.1001,      0.1011,      0.1021,      0.1031,      0.1041,     0.10511,     0.10611,     0.10711,     0.10811,     0.10911,     0.11011,     0.11111,     0.11211,     0.11311,     0.11411,     0.11512,     0.11612,     0.11712,     0.11812,     0.11912,\n",
       "           0.12012,     0.12112,     0.12212,     0.12312,     0.12412,     0.12513,     0.12613,     0.12713,     0.12813,     0.12913,     0.13013,     0.13113,     0.13213,     0.13313,     0.13413,     0.13514,     0.13614,     0.13714,     0.13814,     0.13914,     0.14014,     0.14114,     0.14214,     0.14314,\n",
       "           0.14414,     0.14515,     0.14615,     0.14715,     0.14815,     0.14915,     0.15015,     0.15115,     0.15215,     0.15315,     0.15415,     0.15516,     0.15616,     0.15716,     0.15816,     0.15916,     0.16016,     0.16116,     0.16216,     0.16316,     0.16416,     0.16517,     0.16617,     0.16717,\n",
       "           0.16817,     0.16917,     0.17017,     0.17117,     0.17217,     0.17317,     0.17417,     0.17518,     0.17618,     0.17718,     0.17818,     0.17918,     0.18018,     0.18118,     0.18218,     0.18318,     0.18418,     0.18519,     0.18619,     0.18719,     0.18819,     0.18919,     0.19019,     0.19119,\n",
       "           0.19219,     0.19319,     0.19419,      0.1952,      0.1962,      0.1972,      0.1982,      0.1992,      0.2002,      0.2012,      0.2022,      0.2032,      0.2042,     0.20521,     0.20621,     0.20721,     0.20821,     0.20921,     0.21021,     0.21121,     0.21221,     0.21321,     0.21421,     0.21522,\n",
       "           0.21622,     0.21722,     0.21822,     0.21922,     0.22022,     0.22122,     0.22222,     0.22322,     0.22422,     0.22523,     0.22623,     0.22723,     0.22823,     0.22923,     0.23023,     0.23123,     0.23223,     0.23323,     0.23423,     0.23524,     0.23624,     0.23724,     0.23824,     0.23924,\n",
       "           0.24024,     0.24124,     0.24224,     0.24324,     0.24424,     0.24525,     0.24625,     0.24725,     0.24825,     0.24925,     0.25025,     0.25125,     0.25225,     0.25325,     0.25425,     0.25526,     0.25626,     0.25726,     0.25826,     0.25926,     0.26026,     0.26126,     0.26226,     0.26326,\n",
       "           0.26426,     0.26527,     0.26627,     0.26727,     0.26827,     0.26927,     0.27027,     0.27127,     0.27227,     0.27327,     0.27427,     0.27528,     0.27628,     0.27728,     0.27828,     0.27928,     0.28028,     0.28128,     0.28228,     0.28328,     0.28428,     0.28529,     0.28629,     0.28729,\n",
       "           0.28829,     0.28929,     0.29029,     0.29129,     0.29229,     0.29329,     0.29429,      0.2953,      0.2963,      0.2973,      0.2983,      0.2993,      0.3003,      0.3013,      0.3023,      0.3033,      0.3043,     0.30531,     0.30631,     0.30731,     0.30831,     0.30931,     0.31031,     0.31131,\n",
       "           0.31231,     0.31331,     0.31431,     0.31532,     0.31632,     0.31732,     0.31832,     0.31932,     0.32032,     0.32132,     0.32232,     0.32332,     0.32432,     0.32533,     0.32633,     0.32733,     0.32833,     0.32933,     0.33033,     0.33133,     0.33233,     0.33333,     0.33433,     0.33534,\n",
       "           0.33634,     0.33734,     0.33834,     0.33934,     0.34034,     0.34134,     0.34234,     0.34334,     0.34434,     0.34535,     0.34635,     0.34735,     0.34835,     0.34935,     0.35035,     0.35135,     0.35235,     0.35335,     0.35435,     0.35536,     0.35636,     0.35736,     0.35836,     0.35936,\n",
       "           0.36036,     0.36136,     0.36236,     0.36336,     0.36436,     0.36537,     0.36637,     0.36737,     0.36837,     0.36937,     0.37037,     0.37137,     0.37237,     0.37337,     0.37437,     0.37538,     0.37638,     0.37738,     0.37838,     0.37938,     0.38038,     0.38138,     0.38238,     0.38338,\n",
       "           0.38438,     0.38539,     0.38639,     0.38739,     0.38839,     0.38939,     0.39039,     0.39139,     0.39239,     0.39339,     0.39439,      0.3954,      0.3964,      0.3974,      0.3984,      0.3994,      0.4004,      0.4014,      0.4024,      0.4034,      0.4044,     0.40541,     0.40641,     0.40741,\n",
       "           0.40841,     0.40941,     0.41041,     0.41141,     0.41241,     0.41341,     0.41441,     0.41542,     0.41642,     0.41742,     0.41842,     0.41942,     0.42042,     0.42142,     0.42242,     0.42342,     0.42442,     0.42543,     0.42643,     0.42743,     0.42843,     0.42943,     0.43043,     0.43143,\n",
       "           0.43243,     0.43343,     0.43443,     0.43544,     0.43644,     0.43744,     0.43844,     0.43944,     0.44044,     0.44144,     0.44244,     0.44344,     0.44444,     0.44545,     0.44645,     0.44745,     0.44845,     0.44945,     0.45045,     0.45145,     0.45245,     0.45345,     0.45445,     0.45546,\n",
       "           0.45646,     0.45746,     0.45846,     0.45946,     0.46046,     0.46146,     0.46246,     0.46346,     0.46446,     0.46547,     0.46647,     0.46747,     0.46847,     0.46947,     0.47047,     0.47147,     0.47247,     0.47347,     0.47447,     0.47548,     0.47648,     0.47748,     0.47848,     0.47948,\n",
       "           0.48048,     0.48148,     0.48248,     0.48348,     0.48448,     0.48549,     0.48649,     0.48749,     0.48849,     0.48949,     0.49049,     0.49149,     0.49249,     0.49349,     0.49449,      0.4955,      0.4965,      0.4975,      0.4985,      0.4995,      0.5005,      0.5015,      0.5025,      0.5035,\n",
       "            0.5045,     0.50551,     0.50651,     0.50751,     0.50851,     0.50951,     0.51051,     0.51151,     0.51251,     0.51351,     0.51451,     0.51552,     0.51652,     0.51752,     0.51852,     0.51952,     0.52052,     0.52152,     0.52252,     0.52352,     0.52452,     0.52553,     0.52653,     0.52753,\n",
       "           0.52853,     0.52953,     0.53053,     0.53153,     0.53253,     0.53353,     0.53453,     0.53554,     0.53654,     0.53754,     0.53854,     0.53954,     0.54054,     0.54154,     0.54254,     0.54354,     0.54454,     0.54555,     0.54655,     0.54755,     0.54855,     0.54955,     0.55055,     0.55155,\n",
       "           0.55255,     0.55355,     0.55455,     0.55556,     0.55656,     0.55756,     0.55856,     0.55956,     0.56056,     0.56156,     0.56256,     0.56356,     0.56456,     0.56557,     0.56657,     0.56757,     0.56857,     0.56957,     0.57057,     0.57157,     0.57257,     0.57357,     0.57457,     0.57558,\n",
       "           0.57658,     0.57758,     0.57858,     0.57958,     0.58058,     0.58158,     0.58258,     0.58358,     0.58458,     0.58559,     0.58659,     0.58759,     0.58859,     0.58959,     0.59059,     0.59159,     0.59259,     0.59359,     0.59459,      0.5956,      0.5966,      0.5976,      0.5986,      0.5996,\n",
       "            0.6006,      0.6016,      0.6026,      0.6036,      0.6046,     0.60561,     0.60661,     0.60761,     0.60861,     0.60961,     0.61061,     0.61161,     0.61261,     0.61361,     0.61461,     0.61562,     0.61662,     0.61762,     0.61862,     0.61962,     0.62062,     0.62162,     0.62262,     0.62362,\n",
       "           0.62462,     0.62563,     0.62663,     0.62763,     0.62863,     0.62963,     0.63063,     0.63163,     0.63263,     0.63363,     0.63463,     0.63564,     0.63664,     0.63764,     0.63864,     0.63964,     0.64064,     0.64164,     0.64264,     0.64364,     0.64464,     0.64565,     0.64665,     0.64765,\n",
       "           0.64865,     0.64965,     0.65065,     0.65165,     0.65265,     0.65365,     0.65465,     0.65566,     0.65666,     0.65766,     0.65866,     0.65966,     0.66066,     0.66166,     0.66266,     0.66366,     0.66466,     0.66567,     0.66667,     0.66767,     0.66867,     0.66967,     0.67067,     0.67167,\n",
       "           0.67267,     0.67367,     0.67467,     0.67568,     0.67668,     0.67768,     0.67868,     0.67968,     0.68068,     0.68168,     0.68268,     0.68368,     0.68468,     0.68569,     0.68669,     0.68769,     0.68869,     0.68969,     0.69069,     0.69169,     0.69269,     0.69369,     0.69469,      0.6957,\n",
       "            0.6967,      0.6977,      0.6987,      0.6997,      0.7007,      0.7017,      0.7027,      0.7037,      0.7047,     0.70571,     0.70671,     0.70771,     0.70871,     0.70971,     0.71071,     0.71171,     0.71271,     0.71371,     0.71471,     0.71572,     0.71672,     0.71772,     0.71872,     0.71972,\n",
       "           0.72072,     0.72172,     0.72272,     0.72372,     0.72472,     0.72573,     0.72673,     0.72773,     0.72873,     0.72973,     0.73073,     0.73173,     0.73273,     0.73373,     0.73473,     0.73574,     0.73674,     0.73774,     0.73874,     0.73974,     0.74074,     0.74174,     0.74274,     0.74374,\n",
       "           0.74474,     0.74575,     0.74675,     0.74775,     0.74875,     0.74975,     0.75075,     0.75175,     0.75275,     0.75375,     0.75475,     0.75576,     0.75676,     0.75776,     0.75876,     0.75976,     0.76076,     0.76176,     0.76276,     0.76376,     0.76476,     0.76577,     0.76677,     0.76777,\n",
       "           0.76877,     0.76977,     0.77077,     0.77177,     0.77277,     0.77377,     0.77477,     0.77578,     0.77678,     0.77778,     0.77878,     0.77978,     0.78078,     0.78178,     0.78278,     0.78378,     0.78478,     0.78579,     0.78679,     0.78779,     0.78879,     0.78979,     0.79079,     0.79179,\n",
       "           0.79279,     0.79379,     0.79479,      0.7958,      0.7968,      0.7978,      0.7988,      0.7998,      0.8008,      0.8018,      0.8028,      0.8038,      0.8048,     0.80581,     0.80681,     0.80781,     0.80881,     0.80981,     0.81081,     0.81181,     0.81281,     0.81381,     0.81481,     0.81582,\n",
       "           0.81682,     0.81782,     0.81882,     0.81982,     0.82082,     0.82182,     0.82282,     0.82382,     0.82482,     0.82583,     0.82683,     0.82783,     0.82883,     0.82983,     0.83083,     0.83183,     0.83283,     0.83383,     0.83483,     0.83584,     0.83684,     0.83784,     0.83884,     0.83984,\n",
       "           0.84084,     0.84184,     0.84284,     0.84384,     0.84484,     0.84585,     0.84685,     0.84785,     0.84885,     0.84985,     0.85085,     0.85185,     0.85285,     0.85385,     0.85485,     0.85586,     0.85686,     0.85786,     0.85886,     0.85986,     0.86086,     0.86186,     0.86286,     0.86386,\n",
       "           0.86486,     0.86587,     0.86687,     0.86787,     0.86887,     0.86987,     0.87087,     0.87187,     0.87287,     0.87387,     0.87487,     0.87588,     0.87688,     0.87788,     0.87888,     0.87988,     0.88088,     0.88188,     0.88288,     0.88388,     0.88488,     0.88589,     0.88689,     0.88789,\n",
       "           0.88889,     0.88989,     0.89089,     0.89189,     0.89289,     0.89389,     0.89489,      0.8959,      0.8969,      0.8979,      0.8989,      0.8999,      0.9009,      0.9019,      0.9029,      0.9039,      0.9049,     0.90591,     0.90691,     0.90791,     0.90891,     0.90991,     0.91091,     0.91191,\n",
       "           0.91291,     0.91391,     0.91491,     0.91592,     0.91692,     0.91792,     0.91892,     0.91992,     0.92092,     0.92192,     0.92292,     0.92392,     0.92492,     0.92593,     0.92693,     0.92793,     0.92893,     0.92993,     0.93093,     0.93193,     0.93293,     0.93393,     0.93493,     0.93594,\n",
       "           0.93694,     0.93794,     0.93894,     0.93994,     0.94094,     0.94194,     0.94294,     0.94394,     0.94494,     0.94595,     0.94695,     0.94795,     0.94895,     0.94995,     0.95095,     0.95195,     0.95295,     0.95395,     0.95495,     0.95596,     0.95696,     0.95796,     0.95896,     0.95996,\n",
       "           0.96096,     0.96196,     0.96296,     0.96396,     0.96496,     0.96597,     0.96697,     0.96797,     0.96897,     0.96997,     0.97097,     0.97197,     0.97297,     0.97397,     0.97497,     0.97598,     0.97698,     0.97798,     0.97898,     0.97998,     0.98098,     0.98198,     0.98298,     0.98398,\n",
       "           0.98498,     0.98599,     0.98699,     0.98799,     0.98899,     0.98999,     0.99099,     0.99199,     0.99299,     0.99399,     0.99499,       0.996,       0.997,       0.998,       0.999,           1]), array([[          1,           1,           1,           1,           1,           1,           1,           1,           1,           1,           1,           1,           1,           1,           1,           1,           1,           1,           1,           1,           1,           1,           1,\n",
       "                  1,           1,           1,           1,           1,           1,           1,           1,           1,           1,           1,           1,           1,           1,           1,           1,           1,           1,           1,           1,           1,           1,           1,\n",
       "                  1,           1,           1,           1,           1,           1,           1,           1,           1,           1,           1,           1,           1,           1,           1,           1,           1,           1,           1,           1,           1,           1,           1,\n",
       "                  1,           1,           1,           1,           1,           1,           1,           1,           1,           1,           1,           1,           1,           1,           1,           1,           1,           1,           1,           1,           1,           1,           1,\n",
       "                  1,           1,           1,           1,           1,           1,           1,           1,           1,           1,           1,           1,           1,           1,           1,           1,           1,           1,           1,           1,           1,           1,           1,\n",
       "                  1,           1,           1,           1,           1,           1,           1,           1,           1,           1,           1,           1,           1,           1,           1,           1,           1,           1,           1,           1,           1,           1,           1,\n",
       "                  1,           1,           1,           1,           1,           1,           1,           1,           1,           1,           1,           1,           1,           1,           1,           1,           1,           1,           1,           1,           1,           1,           1,\n",
       "                  1,           1,           1,           1,           1,           1,           1,           1,           1,           1,           1,           1,           1,           1,           1,           1,           1,           1,           1,           1,           1,           1,           1,\n",
       "                  1,           1,           1,           1,           1,           1,           1,           1,           1,           1,           1,           1,           1,           1,           1,           1,           1,           1,           1,           1,           1,           1,           1,\n",
       "                  1,           1,           1,           1,           1,           1,           1,           1,           1,           1,           1,           1,           1,           1,           1,           1,           1,           1,           1,           1,           1,           1,           1,\n",
       "                  1,           1,           1,           1,           1,           1,           1,           1,           1,           1,           1,           1,           1,           1,           1,           1,           1,           1,           1,           1,           1,           1,           1,\n",
       "                  1,           1,           1,           1,           1,           1,           1,           1,           1,           1,           1,           1,           1,           1,           1,           1,           1,           1,           1,           1,           1,           1,           1,\n",
       "                  1,           1,           1,           1,           1,           1,           1,           1,           1,           1,           1,           1,           1,           1,           1,           1,           1,           1,           1,           1,           1,           1,           1,\n",
       "                  1,           1,           1,           1,           1,           1,           1,           1,           1,           1,           1,           1,           1,           1,           1,           1,           1,           1,           1,           1,           1,           1,           1,\n",
       "                  1,           1,           1,           1,           1,           1,           1,           1,           1,           1,           1,           1,           1,           1,           1,           1,           1,           1,           1,           1,           1,           1,           1,\n",
       "                  1,           1,           1,           1,           1,           1,           1,           1,           1,           1,           1,           1,           1,           1,           1,           1,           1,           1,           1,           1,           1,           1,           1,\n",
       "                  1,           1,           1,           1,           1,           1,           1,           1,           1,           1,           1,           1,           1,           1,           1,           1,           1,           1,           1,           1,           1,           1,           1,\n",
       "                  1,           1,           1,           1,           1,           1,           1,           1,           1,           1,           1,           1,           1,           1,           1,           1,           1,           1,           1,           1,           1,           1,           1,\n",
       "                  1,           1,           1,           1,           1,           1,           1,           1,           1,           1,           1,           1,           1,           1,           1,           1,           1,           1,           1,           1,           1,           1,           1,\n",
       "                  1,           1,           1,           1,           1,           1,           1,           1,           1,           1,           1,           1,           1,           1,           1,           1,           1,           1,           1,           1,           1,           1,           1,\n",
       "                  1,           1,           1,           1,           1,           1,           1,           1,           1,           1,           1,           1,           1,           1,           1,           1,           1,           1,           1,           1,           1,           1,           1,\n",
       "                  1,           1,           1,           1,           1,           1,           1,           1,           1,           1,           1,           1,           1,           1,           1,           1,           1,           1,           1,           1,           1,           1,           1,\n",
       "                  1,           1,           1,           1,           1,           1,           1,           1,           1,           1,           1,           1,           1,           1,           1,           1,           1,           1,           1,           1,           1,           1,           1,\n",
       "                  1,           1,           1,           1,           1,           1,           1,           1,           1,           1,           1,           1,           1,           1,           1,           1,           1,           1,           1,           1,           1,           1,           1,\n",
       "                  1,           1,           1,           1,           1,           1,           1,           1,           1,           1,           1,           1,           1,           1,           1,           1,           1,           1,           1,           1,           1,           1,           1,\n",
       "                  1,           1,           1,           1,           1,           1,           1,           1,           1,           1,           1,           1,           1,           1,           1,           1,           1,           1,           1,           1,           1,           1,           1,\n",
       "                  1,           1,           1,           1,           1,           1,           1,           1,           1,           1,           1,           1,           1,           1,           1,           1,           1,           1,           1,           1,           1,           1,           1,\n",
       "                  1,           1,           1,           1,           1,           1,           1,           1,           1,           1,           1,           1,           1,           1,           1,           1,           1,           1,           1,           1,           1,           1,           1,\n",
       "                  1,           1,           1,           1,           1,           1,           1,           1,           1,           1,           1,           1,           1,           1,           1,           1,           1,           1,           1,           1,           1,           1,           1,\n",
       "                  1,           1,           1,           1,           1,           1,           1,           1,           1,           1,           1,           1,           1,           1,           1,           1,           1,           1,           1,           1,           1,           1,           1,\n",
       "                  1,           1,           1,           1,           1,           1,           1,           1,           1,           1,           1,           1,           1,           1,           1,           1,           1,           1,           1,           1,           1,           1,           1,\n",
       "                  1,           1,           1,           1,           1,           1,           1,           1,           1,           1,           1,           1,           1,           1,           1,           1,           1,           1,           1,           1,           1,           1,           1,\n",
       "                  1,           1,           1,           1,           1,           1,           1,           1,           1,           1,           1,           1,           1,           1,           1,           1,           1,           1,           1,           1,           1,           1,           1,\n",
       "                  1,           1,           1,           1,           1,           1,           1,           1,           1,           1,           1,           1,           1,           1,     0.99889,     0.99772,     0.99655,     0.99538,     0.99421,     0.99304,     0.99187,     0.99069,     0.98952,\n",
       "            0.98835,     0.98718,     0.98601,     0.98484,     0.98366,     0.98249,     0.98132,     0.98015,     0.97898,     0.97781,     0.97664,     0.97546,     0.97429,     0.97312,     0.97195,     0.97078,     0.96961,     0.96843,     0.96726,     0.96545,     0.96297,     0.96049,     0.95801,\n",
       "            0.95554,     0.95306,     0.95058,      0.9481,     0.94562,     0.94314,     0.94067,     0.93819,     0.93571,     0.93325,      0.9312,     0.92914,     0.92709,     0.92504,     0.92298,     0.92093,     0.91888,     0.91682,     0.91477,     0.91272,     0.91066,     0.90861,     0.90656,\n",
       "             0.9045,     0.90245,      0.9004,     0.89637,     0.89186,     0.88736,     0.88286,     0.87836,     0.87385,     0.86935,     0.86435,     0.85861,     0.85287,     0.84713,     0.84139,     0.83565,     0.82919,     0.82224,     0.81529,     0.80834,     0.80139,     0.79299,     0.78424,\n",
       "            0.77549,     0.76673,     0.74612,     0.69716,     0.68927,     0.68138,     0.67349,     0.64977,     0.59298,     0.56301,     0.55601,       0.549,     0.54199,     0.53498,        0.53,     0.52564,     0.52128,     0.51692,     0.51256,      0.5082,     0.50385,     0.49774,      0.4786,\n",
       "             0.4506,     0.43176,     0.42911,     0.42647,     0.42382,     0.42118,     0.41853,     0.41589,     0.41324,      0.4106,     0.40795,     0.40531,     0.40266,     0.40002,     0.36885,     0.34711,     0.32822,     0.31339,     0.29222,     0.26164,     0.25425,     0.24686,     0.23947,\n",
       "            0.22771,     0.19058,     0.15741,     0.14129,     0.12827,     0.11828,     0.10829,    0.098915,    0.092524,    0.086134,    0.079743,    0.073353,    0.066962,    0.062641,     0.05842,    0.054199,    0.049978,    0.045757,    0.041535,    0.037314,           0,           0,           0,\n",
       "                  0,           0,           0,           0,           0,           0,           0,           0,           0,           0,           0,           0,           0,           0,           0,           0,           0,           0,           0,           0,           0,           0,           0,\n",
       "                  0,           0,           0,           0,           0,           0,           0,           0,           0,           0,           0,           0,           0,           0,           0,           0,           0,           0,           0,           0,           0,           0,           0,\n",
       "                  0,           0,           0,           0,           0,           0,           0,           0,           0,           0,           0,           0,           0,           0,           0,           0,           0,           0,           0,           0,           0,           0,           0,\n",
       "                  0,           0,           0,           0,           0,           0,           0,           0,           0,           0,           0]]), 'Confidence', 'Recall']]\n",
       "fitness: 0.8585099658092862\n",
       "keys: ['metrics/precision(B)', 'metrics/recall(B)', 'metrics/mAP50(B)', 'metrics/mAP50-95(B)']\n",
       "maps: array([    0.84334])\n",
       "names: {0: 'Licence_Plate'}\n",
       "plot: True\n",
       "results_dict: {'metrics/precision(B)': 0.9972552989200123, 'metrics/recall(B)': 1.0, 'metrics/mAP50(B)': 0.995, 'metrics/mAP50-95(B)': 0.8433444064547624, 'fitness': 0.8585099658092862}\n",
       "save_dir: PosixPath('runs/detect/train5')\n",
       "speed: {'preprocess': 1.4725287755330405, 'inference': 276.0599692662557, 'loss': 3.9736429850260414e-05, 'postprocess': 0.21926561991373697}\n",
       "task: 'detect'"
      ]
     },
     "execution_count": 10,
     "metadata": {},
     "output_type": "execute_result"
    }
   ],
   "source": [
    "# Load a pretrained model \n",
    "model = YOLO(\"yolov8n.pt\")  \n",
    "\n",
    "# Fine tune the model for our dataset\n",
    "model.train(data='/Users/velmurugan/Desktop/@/python_works/License plate detection/config.yaml'\n",
    "            ,epochs=20,\n",
    "            batch=16)"
   ]
  },
  {
   "cell_type": "code",
   "execution_count": 7,
   "metadata": {},
   "outputs": [],
   "source": [
    "# Load the fine turned model\n",
    "License_plate_model = YOLO('/Users/velmurugan/Desktop/@/python_works/License plate detection/runs/detect/train5/weights/best.pt')"
   ]
  },
  {
   "cell_type": "code",
   "execution_count": 8,
   "metadata": {},
   "outputs": [],
   "source": [
    "# creating a random number to obtain random image from the dataset\n",
    "\n",
    "ran_num = np.random.randint(981,1114)"
   ]
  },
  {
   "cell_type": "code",
   "execution_count": 9,
   "metadata": {},
   "outputs": [
    {
     "name": "stdout",
     "output_type": "stream",
     "text": [
      "\n",
      "0: 640x480 1 Licence_Plate, 77.8ms\n",
      "Speed: 2.5ms preprocess, 77.8ms inference, 0.9ms postprocess per image at shape (1, 3, 640, 480)\n"
     ]
    },
    {
     "data": {
      "image/png": "[encoded data removed]",
      "text/plain": [
       "<Figure size 1000x400 with 1 Axes>"
      ]
     },
     "metadata": {},
     "output_type": "display_data"
    }
   ],
   "source": [
    "# Function for visualising bounding box on license plate\n",
    "\n",
    "img_path = f'/Users/velmurugan/Desktop/@/python_works/License plate detection/test/{ran_num}.jpg'\n",
    "\n",
    "def show_bbox(img_path):\n",
    "\n",
    "    image = cv2.imread(img_path)\n",
    "\n",
    "    results = License_plate_model(image)[0]\n",
    "\n",
    "    threshold = 0.5\n",
    "\n",
    "    for result in results.boxes.data.tolist():\n",
    "        x1,y1,x2,y2, score, class_id = result\n",
    "\n",
    "        if score>=threshold:\n",
    "            # Draw bounding box\n",
    "            cv2.rectangle(image,(int(x1),int(y1)),(int(x2),int(y2)),(0,255,0),4)\n",
    "\n",
    "            # Write label text above the bounding box\n",
    "            cv2.putText(image,results.names[int(class_id)],(int(x1),int(y1-10)),\n",
    "                        fontFace = cv2.FONT_HERSHEY_PLAIN, fontScale= 1.5, color=(0,255,0),\n",
    "                        thickness=3, lineType=cv2.LINE_AA)\n",
    "\n",
    "    # Convert the image from BGR to RGB format for Matplotlib\n",
    "    image_rgb = cv2.cvtColor(image, cv2.COLOR_BGR2RGB)\n",
    "\n",
    "    # Display the image with bounding boxes and labels using Matplotlib\n",
    "    plt.figure(figsize=(10, 4))\n",
    "    plt.imshow(image_rgb)\n",
    "    plt.title(f'{ran_num}.jpg')\n",
    "    plt.axis('off')  # Hide axes for better visualization\n",
    "    plt.show() \n",
    "\n",
    "show_bbox(img_path)"
   ]
  },
  {
   "cell_type": "code",
   "execution_count": 10,
   "metadata": {},
   "outputs": [],
   "source": [
    "# Function to perform detection and extract license plate regions\n",
    "def detect_and_crop(model, image_path):\n",
    "    image = Image.open(image_path)\n",
    "    results = model(image)[0]\n",
    "    crops = []\n",
    "    for *box, conf, cls in results.boxes.data.tolist():  # Iterate through detections\n",
    "        xmin, ymin, xmax, ymax = map(int, box)\n",
    "        cropped_img = image.crop((xmin, ymin, xmax, ymax))\n",
    "        crops.append(cropped_img)\n",
    "    return crops"
   ]
  },
  {
   "cell_type": "code",
   "execution_count": 50,
   "metadata": {},
   "outputs": [
    {
     "name": "stdout",
     "output_type": "stream",
     "text": [
      "\n",
      "0: 384x640 1 Licence_Plate, 85.1ms\n",
      "Speed: 4.1ms preprocess, 85.1ms inference, 0.6ms postprocess per image at shape (1, 3, 384, 640)\n",
      "\n",
      "0: 640x480 1 Licence_Plate, 69.9ms\n",
      "Speed: 1.3ms preprocess, 69.9ms inference, 0.3ms postprocess per image at shape (1, 3, 640, 480)\n",
      "\n",
      "0: 480x640 1 Licence_Plate, 68.8ms\n",
      "Speed: 1.4ms preprocess, 68.8ms inference, 0.5ms postprocess per image at shape (1, 3, 480, 640)\n",
      "\n",
      "0: 384x640 1 Licence_Plate, 56.6ms\n",
      "Speed: 1.2ms preprocess, 56.6ms inference, 0.4ms postprocess per image at shape (1, 3, 384, 640)\n",
      "\n",
      "0: 640x576 1 Licence_Plate, 87.2ms\n",
      "Speed: 1.7ms preprocess, 87.2ms inference, 0.3ms postprocess per image at shape (1, 3, 640, 576)\n",
      "\n",
      "0: 640x480 1 Licence_Plate, 74.8ms\n",
      "Speed: 1.7ms preprocess, 74.8ms inference, 0.6ms postprocess per image at shape (1, 3, 640, 480)\n",
      "\n",
      "0: 448x640 1 Licence_Plate, 65.6ms\n",
      "Speed: 1.5ms preprocess, 65.6ms inference, 0.6ms postprocess per image at shape (1, 3, 448, 640)\n",
      "\n",
      "0: 480x640 1 Licence_Plate, 69.2ms\n",
      "Speed: 1.4ms preprocess, 69.2ms inference, 0.3ms postprocess per image at shape (1, 3, 480, 640)\n",
      "\n",
      "0: 384x640 1 Licence_Plate, 60.2ms\n",
      "Speed: 1.3ms preprocess, 60.2ms inference, 0.3ms postprocess per image at shape (1, 3, 384, 640)\n",
      "\n",
      "0: 384x640 1 Licence_Plate, 54.3ms\n",
      "Speed: 1.2ms preprocess, 54.3ms inference, 0.4ms postprocess per image at shape (1, 3, 384, 640)\n",
      "\n",
      "0: 384x640 1 Licence_Plate, 97.2ms\n",
      "Speed: 1.3ms preprocess, 97.2ms inference, 0.6ms postprocess per image at shape (1, 3, 384, 640)\n",
      "\n",
      "0: 384x640 1 Licence_Plate, 59.9ms\n",
      "Speed: 1.2ms preprocess, 59.9ms inference, 0.3ms postprocess per image at shape (1, 3, 384, 640)\n",
      "\n",
      "0: 480x640 1 Licence_Plate, 75.3ms\n",
      "Speed: 1.6ms preprocess, 75.3ms inference, 0.3ms postprocess per image at shape (1, 3, 480, 640)\n",
      "\n",
      "0: 640x480 1 Licence_Plate, 73.5ms\n",
      "Speed: 1.5ms preprocess, 73.5ms inference, 0.8ms postprocess per image at shape (1, 3, 640, 480)\n",
      "\n",
      "0: 640x480 1 Licence_Plate, 75.8ms\n",
      "Speed: 1.5ms preprocess, 75.8ms inference, 0.5ms postprocess per image at shape (1, 3, 640, 480)\n",
      "\n",
      "0: 448x640 1 Licence_Plate, 67.5ms\n",
      "Speed: 1.5ms preprocess, 67.5ms inference, 0.3ms postprocess per image at shape (1, 3, 448, 640)\n",
      "\n",
      "0: 384x640 1 Licence_Plate, 56.2ms\n",
      "Speed: 1.3ms preprocess, 56.2ms inference, 0.3ms postprocess per image at shape (1, 3, 384, 640)\n",
      "\n",
      "0: 640x480 1 Licence_Plate, 74.5ms\n",
      "Speed: 1.5ms preprocess, 74.5ms inference, 0.3ms postprocess per image at shape (1, 3, 640, 480)\n",
      "\n",
      "0: 480x640 1 Licence_Plate, 74.9ms\n",
      "Speed: 1.4ms preprocess, 74.9ms inference, 0.5ms postprocess per image at shape (1, 3, 480, 640)\n",
      "\n",
      "0: 640x480 1 Licence_Plate, 75.7ms\n",
      "Speed: 1.6ms preprocess, 75.7ms inference, 0.3ms postprocess per image at shape (1, 3, 640, 480)\n",
      "\n",
      "0: 480x640 1 Licence_Plate, 76.1ms\n",
      "Speed: 1.4ms preprocess, 76.1ms inference, 0.4ms postprocess per image at shape (1, 3, 480, 640)\n",
      "\n",
      "0: 640x384 1 Licence_Plate, 61.8ms\n",
      "Speed: 1.3ms preprocess, 61.8ms inference, 0.3ms postprocess per image at shape (1, 3, 640, 384)\n",
      "\n",
      "0: 640x480 1 Licence_Plate, 76.1ms\n",
      "Speed: 1.5ms preprocess, 76.1ms inference, 0.3ms postprocess per image at shape (1, 3, 640, 480)\n",
      "\n",
      "0: 640x384 1 Licence_Plate, 62.8ms\n",
      "Speed: 1.2ms preprocess, 62.8ms inference, 0.5ms postprocess per image at shape (1, 3, 640, 384)\n",
      "\n",
      "0: 480x640 1 Licence_Plate, 76.9ms\n",
      "Speed: 1.7ms preprocess, 76.9ms inference, 0.4ms postprocess per image at shape (1, 3, 480, 640)\n",
      "\n",
      "0: 384x640 1 Licence_Plate, 90.9ms\n",
      "Speed: 1.2ms preprocess, 90.9ms inference, 0.4ms postprocess per image at shape (1, 3, 384, 640)\n",
      "\n",
      "0: 480x640 2 Licence_Plates, 75.8ms\n",
      "Speed: 1.8ms preprocess, 75.8ms inference, 0.3ms postprocess per image at shape (1, 3, 480, 640)\n",
      "\n",
      "0: 384x640 1 Licence_Plate, 55.6ms\n",
      "Speed: 1.7ms preprocess, 55.6ms inference, 0.3ms postprocess per image at shape (1, 3, 384, 640)\n",
      "\n",
      "0: 384x640 1 Licence_Plate, 54.9ms\n",
      "Speed: 1.3ms preprocess, 54.9ms inference, 0.3ms postprocess per image at shape (1, 3, 384, 640)\n",
      "\n",
      "0: 480x640 1 Licence_Plate, 69.6ms\n",
      "Speed: 1.8ms preprocess, 69.6ms inference, 0.4ms postprocess per image at shape (1, 3, 480, 640)\n",
      "\n",
      "0: 384x640 1 Licence_Plate, 54.7ms\n",
      "Speed: 1.7ms preprocess, 54.7ms inference, 0.3ms postprocess per image at shape (1, 3, 384, 640)\n",
      "\n",
      "0: 384x640 1 Licence_Plate, 54.9ms\n",
      "Speed: 1.8ms preprocess, 54.9ms inference, 0.4ms postprocess per image at shape (1, 3, 384, 640)\n",
      "\n",
      "0: 480x640 1 Licence_Plate, 67.5ms\n",
      "Speed: 1.8ms preprocess, 67.5ms inference, 0.3ms postprocess per image at shape (1, 3, 480, 640)\n",
      "\n",
      "0: 640x480 1 Licence_Plate, 75.7ms\n",
      "Speed: 2.0ms preprocess, 75.7ms inference, 0.3ms postprocess per image at shape (1, 3, 640, 480)\n",
      "\n",
      "0: 640x384 1 Licence_Plate, 65.7ms\n",
      "Speed: 2.0ms preprocess, 65.7ms inference, 0.3ms postprocess per image at shape (1, 3, 640, 384)\n",
      "\n",
      "0: 480x640 1 Licence_Plate, 76.5ms\n",
      "Speed: 2.4ms preprocess, 76.5ms inference, 0.5ms postprocess per image at shape (1, 3, 480, 640)\n",
      "\n",
      "0: 480x640 1 Licence_Plate, 67.4ms\n",
      "Speed: 1.8ms preprocess, 67.4ms inference, 0.3ms postprocess per image at shape (1, 3, 480, 640)\n",
      "\n",
      "0: 640x480 1 Licence_Plate, 72.2ms\n",
      "Speed: 1.6ms preprocess, 72.2ms inference, 0.4ms postprocess per image at shape (1, 3, 640, 480)\n",
      "\n",
      "0: 384x640 1 Licence_Plate, 55.0ms\n",
      "Speed: 1.2ms preprocess, 55.0ms inference, 0.3ms postprocess per image at shape (1, 3, 384, 640)\n",
      "\n",
      "0: 384x640 1 Licence_Plate, 56.3ms\n",
      "Speed: 1.4ms preprocess, 56.3ms inference, 0.3ms postprocess per image at shape (1, 3, 384, 640)\n",
      "\n",
      "0: 640x480 1 Licence_Plate, 68.4ms\n",
      "Speed: 1.4ms preprocess, 68.4ms inference, 0.3ms postprocess per image at shape (1, 3, 640, 480)\n",
      "\n",
      "0: 640x480 1 Licence_Plate, 69.2ms\n",
      "Speed: 1.5ms preprocess, 69.2ms inference, 0.6ms postprocess per image at shape (1, 3, 640, 480)\n",
      "\n",
      "0: 640x480 1 Licence_Plate, 70.0ms\n",
      "Speed: 1.4ms preprocess, 70.0ms inference, 0.4ms postprocess per image at shape (1, 3, 640, 480)\n",
      "\n",
      "0: 384x640 1 Licence_Plate, 53.7ms\n",
      "Speed: 1.5ms preprocess, 53.7ms inference, 0.3ms postprocess per image at shape (1, 3, 384, 640)\n",
      "\n",
      "0: 384x640 1 Licence_Plate, 54.6ms\n",
      "Speed: 1.4ms preprocess, 54.6ms inference, 0.3ms postprocess per image at shape (1, 3, 384, 640)\n",
      "\n",
      "0: 480x640 1 Licence_Plate, 71.0ms\n",
      "Speed: 1.9ms preprocess, 71.0ms inference, 0.3ms postprocess per image at shape (1, 3, 480, 640)\n",
      "\n",
      "0: 480x640 1 Licence_Plate, 73.6ms\n",
      "Speed: 1.6ms preprocess, 73.6ms inference, 0.3ms postprocess per image at shape (1, 3, 480, 640)\n",
      "\n",
      "0: 640x480 1 Licence_Plate, 69.1ms\n",
      "Speed: 1.8ms preprocess, 69.1ms inference, 0.3ms postprocess per image at shape (1, 3, 640, 480)\n",
      "\n",
      "0: 480x640 1 Licence_Plate, 67.6ms\n",
      "Speed: 1.6ms preprocess, 67.6ms inference, 0.3ms postprocess per image at shape (1, 3, 480, 640)\n",
      "\n",
      "0: 640x480 1 Licence_Plate, 89.7ms\n",
      "Speed: 8.9ms preprocess, 89.7ms inference, 0.6ms postprocess per image at shape (1, 3, 640, 480)\n",
      "\n",
      "0: 640x384 2 Licence_Plates, 56.6ms\n",
      "Speed: 1.1ms preprocess, 56.6ms inference, 0.3ms postprocess per image at shape (1, 3, 640, 384)\n",
      "\n",
      "0: 480x640 1 Licence_Plate, 67.8ms\n",
      "Speed: 1.6ms preprocess, 67.8ms inference, 0.3ms postprocess per image at shape (1, 3, 480, 640)\n",
      "\n",
      "0: 384x640 1 Licence_Plate, 55.0ms\n",
      "Speed: 1.3ms preprocess, 55.0ms inference, 0.3ms postprocess per image at shape (1, 3, 384, 640)\n",
      "\n",
      "0: 640x480 1 Licence_Plate, 71.5ms\n",
      "Speed: 1.5ms preprocess, 71.5ms inference, 0.3ms postprocess per image at shape (1, 3, 640, 480)\n",
      "\n",
      "0: 640x384 1 Licence_Plate, 56.7ms\n",
      "Speed: 1.5ms preprocess, 56.7ms inference, 0.3ms postprocess per image at shape (1, 3, 640, 384)\n",
      "\n",
      "0: 640x480 1 Licence_Plate, 69.8ms\n",
      "Speed: 1.6ms preprocess, 69.8ms inference, 0.4ms postprocess per image at shape (1, 3, 640, 480)\n",
      "\n",
      "0: 384x640 2 Licence_Plates, 53.1ms\n",
      "Speed: 1.2ms preprocess, 53.1ms inference, 0.5ms postprocess per image at shape (1, 3, 384, 640)\n",
      "\n",
      "0: 640x480 1 Licence_Plate, 70.3ms\n",
      "Speed: 1.4ms preprocess, 70.3ms inference, 0.3ms postprocess per image at shape (1, 3, 640, 480)\n",
      "\n",
      "0: 384x640 1 Licence_Plate, 54.4ms\n",
      "Speed: 1.3ms preprocess, 54.4ms inference, 0.3ms postprocess per image at shape (1, 3, 384, 640)\n",
      "\n",
      "0: 384x640 1 Licence_Plate, 53.7ms\n",
      "Speed: 1.3ms preprocess, 53.7ms inference, 0.4ms postprocess per image at shape (1, 3, 384, 640)\n",
      "\n",
      "0: 384x640 1 Licence_Plate, 53.6ms\n",
      "Speed: 1.5ms preprocess, 53.6ms inference, 0.4ms postprocess per image at shape (1, 3, 384, 640)\n",
      "\n",
      "0: 384x640 1 Licence_Plate, 54.5ms\n",
      "Speed: 1.5ms preprocess, 54.5ms inference, 0.3ms postprocess per image at shape (1, 3, 384, 640)\n",
      "\n",
      "0: 640x480 1 Licence_Plate, 70.3ms\n",
      "Speed: 1.4ms preprocess, 70.3ms inference, 0.3ms postprocess per image at shape (1, 3, 640, 480)\n",
      "\n",
      "0: 480x640 3 Licence_Plates, 68.0ms\n",
      "Speed: 1.6ms preprocess, 68.0ms inference, 0.6ms postprocess per image at shape (1, 3, 480, 640)\n",
      "\n",
      "0: 640x480 1 Licence_Plate, 68.6ms\n",
      "Speed: 1.6ms preprocess, 68.6ms inference, 0.3ms postprocess per image at shape (1, 3, 640, 480)\n",
      "\n",
      "0: 640x480 1 Licence_Plate, 68.7ms\n",
      "Speed: 1.6ms preprocess, 68.7ms inference, 0.3ms postprocess per image at shape (1, 3, 640, 480)\n",
      "\n",
      "0: 480x640 1 Licence_Plate, 69.2ms\n",
      "Speed: 1.6ms preprocess, 69.2ms inference, 0.4ms postprocess per image at shape (1, 3, 480, 640)\n",
      "\n",
      "0: 640x480 1 Licence_Plate, 70.8ms\n",
      "Speed: 1.5ms preprocess, 70.8ms inference, 0.4ms postprocess per image at shape (1, 3, 640, 480)\n",
      "\n",
      "0: 480x640 1 Licence_Plate, 68.6ms\n",
      "Speed: 1.5ms preprocess, 68.6ms inference, 0.6ms postprocess per image at shape (1, 3, 480, 640)\n",
      "\n",
      "0: 640x384 1 Licence_Plate, 55.6ms\n",
      "Speed: 1.4ms preprocess, 55.6ms inference, 0.6ms postprocess per image at shape (1, 3, 640, 384)\n",
      "\n",
      "0: 416x640 1 Licence_Plate, 58.8ms\n",
      "Speed: 1.3ms preprocess, 58.8ms inference, 0.3ms postprocess per image at shape (1, 3, 416, 640)\n",
      "\n",
      "0: 480x640 1 Licence_Plate, 70.4ms\n",
      "Speed: 2.4ms preprocess, 70.4ms inference, 0.3ms postprocess per image at shape (1, 3, 480, 640)\n",
      "\n",
      "0: 384x640 1 Licence_Plate, 56.8ms\n",
      "Speed: 1.3ms preprocess, 56.8ms inference, 0.3ms postprocess per image at shape (1, 3, 384, 640)\n",
      "\n",
      "0: 384x640 1 Licence_Plate, 56.2ms\n",
      "Speed: 1.3ms preprocess, 56.2ms inference, 0.3ms postprocess per image at shape (1, 3, 384, 640)\n",
      "\n",
      "0: 640x480 1 Licence_Plate, 70.2ms\n",
      "Speed: 1.4ms preprocess, 70.2ms inference, 0.3ms postprocess per image at shape (1, 3, 640, 480)\n",
      "\n",
      "0: 480x640 1 Licence_Plate, 98.2ms\n",
      "Speed: 1.7ms preprocess, 98.2ms inference, 0.7ms postprocess per image at shape (1, 3, 480, 640)\n",
      "\n",
      "0: 384x640 1 Licence_Plate, 55.3ms\n",
      "Speed: 1.3ms preprocess, 55.3ms inference, 0.3ms postprocess per image at shape (1, 3, 384, 640)\n",
      "\n",
      "0: 640x640 1 Licence_Plate, 94.4ms\n",
      "Speed: 1.9ms preprocess, 94.4ms inference, 0.3ms postprocess per image at shape (1, 3, 640, 640)\n",
      "\n",
      "0: 640x512 1 Licence_Plate, 76.4ms\n",
      "Speed: 1.6ms preprocess, 76.4ms inference, 0.4ms postprocess per image at shape (1, 3, 640, 512)\n",
      "\n",
      "0: 640x384 1 Licence_Plate, 57.5ms\n",
      "Speed: 1.1ms preprocess, 57.5ms inference, 0.3ms postprocess per image at shape (1, 3, 640, 384)\n",
      "\n",
      "0: 640x480 1 Licence_Plate, 67.3ms\n",
      "Speed: 1.6ms preprocess, 67.3ms inference, 0.3ms postprocess per image at shape (1, 3, 640, 480)\n",
      "\n",
      "0: 512x640 1 Licence_Plate, 73.5ms\n",
      "Speed: 1.5ms preprocess, 73.5ms inference, 0.5ms postprocess per image at shape (1, 3, 512, 640)\n",
      "\n",
      "0: 640x480 1 Licence_Plate, 69.2ms\n",
      "Speed: 1.5ms preprocess, 69.2ms inference, 0.3ms postprocess per image at shape (1, 3, 640, 480)\n",
      "\n",
      "0: 480x640 1 Licence_Plate, 68.3ms\n",
      "Speed: 1.4ms preprocess, 68.3ms inference, 0.4ms postprocess per image at shape (1, 3, 480, 640)\n",
      "\n",
      "0: 384x640 1 Licence_Plate, 55.6ms\n",
      "Speed: 1.2ms preprocess, 55.6ms inference, 0.6ms postprocess per image at shape (1, 3, 384, 640)\n",
      "\n",
      "0: 640x480 1 Licence_Plate, 69.3ms\n",
      "Speed: 1.5ms preprocess, 69.3ms inference, 0.3ms postprocess per image at shape (1, 3, 640, 480)\n",
      "\n",
      "0: 480x640 1 Licence_Plate, 68.2ms\n",
      "Speed: 1.6ms preprocess, 68.2ms inference, 0.4ms postprocess per image at shape (1, 3, 480, 640)\n",
      "\n",
      "0: 640x480 1 Licence_Plate, 69.9ms\n",
      "Speed: 1.5ms preprocess, 69.9ms inference, 0.3ms postprocess per image at shape (1, 3, 640, 480)\n",
      "\n",
      "0: 640x512 1 Licence_Plate, 76.6ms\n",
      "Speed: 1.7ms preprocess, 76.6ms inference, 0.6ms postprocess per image at shape (1, 3, 640, 512)\n",
      "\n",
      "0: 640x480 1 Licence_Plate, 71.6ms\n",
      "Speed: 1.7ms preprocess, 71.6ms inference, 0.6ms postprocess per image at shape (1, 3, 640, 480)\n",
      "\n",
      "0: 640x480 1 Licence_Plate, 70.5ms\n",
      "Speed: 1.4ms preprocess, 70.5ms inference, 0.3ms postprocess per image at shape (1, 3, 640, 480)\n",
      "\n",
      "0: 640x480 1 Licence_Plate, 69.7ms\n",
      "Speed: 1.5ms preprocess, 69.7ms inference, 0.3ms postprocess per image at shape (1, 3, 640, 480)\n",
      "\n",
      "0: 640x480 1 Licence_Plate, 71.9ms\n",
      "Speed: 1.5ms preprocess, 71.9ms inference, 0.6ms postprocess per image at shape (1, 3, 640, 480)\n",
      "\n",
      "0: 480x640 1 Licence_Plate, 66.4ms\n",
      "Speed: 1.5ms preprocess, 66.4ms inference, 0.4ms postprocess per image at shape (1, 3, 480, 640)\n",
      "\n",
      "0: 384x640 1 Licence_Plate, 56.4ms\n",
      "Speed: 1.2ms preprocess, 56.4ms inference, 0.3ms postprocess per image at shape (1, 3, 384, 640)\n",
      "\n",
      "0: 384x640 1 Licence_Plate, 55.2ms\n",
      "Speed: 1.2ms preprocess, 55.2ms inference, 0.3ms postprocess per image at shape (1, 3, 384, 640)\n",
      "\n",
      "0: 640x384 1 Licence_Plate, 59.9ms\n",
      "Speed: 1.2ms preprocess, 59.9ms inference, 0.3ms postprocess per image at shape (1, 3, 640, 384)\n",
      "\n",
      "0: 640x384 1 Licence_Plate, 57.8ms\n",
      "Speed: 1.2ms preprocess, 57.8ms inference, 0.4ms postprocess per image at shape (1, 3, 640, 384)\n",
      "\n",
      "0: 640x544 1 Licence_Plate, 77.5ms\n",
      "Speed: 1.6ms preprocess, 77.5ms inference, 0.6ms postprocess per image at shape (1, 3, 640, 544)\n",
      "\n",
      "0: 640x544 1 Licence_Plate, 82.9ms\n",
      "Speed: 6.5ms preprocess, 82.9ms inference, 0.3ms postprocess per image at shape (1, 3, 640, 544)\n",
      "\n",
      "0: 640x480 1 Licence_Plate, 71.2ms\n",
      "Speed: 1.4ms preprocess, 71.2ms inference, 0.5ms postprocess per image at shape (1, 3, 640, 480)\n",
      "\n",
      "0: 480x640 1 Licence_Plate, 69.3ms\n",
      "Speed: 1.5ms preprocess, 69.3ms inference, 0.3ms postprocess per image at shape (1, 3, 480, 640)\n",
      "\n",
      "0: 384x640 1 Licence_Plate, 57.3ms\n",
      "Speed: 1.3ms preprocess, 57.3ms inference, 0.3ms postprocess per image at shape (1, 3, 384, 640)\n",
      "\n",
      "0: 480x640 1 Licence_Plate, 68.7ms\n",
      "Speed: 1.5ms preprocess, 68.7ms inference, 0.3ms postprocess per image at shape (1, 3, 480, 640)\n",
      "\n",
      "0: 640x384 1 Licence_Plate, 58.6ms\n",
      "Speed: 1.1ms preprocess, 58.6ms inference, 0.3ms postprocess per image at shape (1, 3, 640, 384)\n",
      "\n",
      "0: 480x640 1 Licence_Plate, 68.9ms\n",
      "Speed: 1.5ms preprocess, 68.9ms inference, 0.3ms postprocess per image at shape (1, 3, 480, 640)\n",
      "\n",
      "0: 448x640 1 Licence_Plate, 62.1ms\n",
      "Speed: 1.4ms preprocess, 62.1ms inference, 0.3ms postprocess per image at shape (1, 3, 448, 640)\n",
      "\n",
      "0: 480x640 1 Licence_Plate, 69.1ms\n",
      "Speed: 1.6ms preprocess, 69.1ms inference, 0.5ms postprocess per image at shape (1, 3, 480, 640)\n",
      "\n",
      "0: 512x640 1 Licence_Plate, 75.0ms\n",
      "Speed: 1.6ms preprocess, 75.0ms inference, 0.3ms postprocess per image at shape (1, 3, 512, 640)\n",
      "\n",
      "0: 640x480 1 Licence_Plate, 71.9ms\n",
      "Speed: 1.5ms preprocess, 71.9ms inference, 0.5ms postprocess per image at shape (1, 3, 640, 480)\n",
      "\n",
      "0: 640x480 1 Licence_Plate, 71.0ms\n",
      "Speed: 1.5ms preprocess, 71.0ms inference, 0.3ms postprocess per image at shape (1, 3, 640, 480)\n",
      "\n",
      "0: 384x640 1 Licence_Plate, 55.8ms\n",
      "Speed: 1.4ms preprocess, 55.8ms inference, 0.3ms postprocess per image at shape (1, 3, 384, 640)\n",
      "\n",
      "0: 384x640 1 Licence_Plate, 55.1ms\n",
      "Speed: 1.2ms preprocess, 55.1ms inference, 0.4ms postprocess per image at shape (1, 3, 384, 640)\n",
      "\n",
      "0: 480x640 1 Licence_Plate, 69.3ms\n",
      "Speed: 1.5ms preprocess, 69.3ms inference, 0.6ms postprocess per image at shape (1, 3, 480, 640)\n",
      "\n",
      "0: 640x480 1 Licence_Plate, 72.6ms\n",
      "Speed: 1.5ms preprocess, 72.6ms inference, 0.3ms postprocess per image at shape (1, 3, 640, 480)\n",
      "\n",
      "0: 448x640 1 Licence_Plate, 64.3ms\n",
      "Speed: 1.4ms preprocess, 64.3ms inference, 0.5ms postprocess per image at shape (1, 3, 448, 640)\n",
      "\n",
      "0: 384x640 1 Licence_Plate, 60.1ms\n",
      "Speed: 1.3ms preprocess, 60.1ms inference, 0.3ms postprocess per image at shape (1, 3, 384, 640)\n",
      "\n",
      "0: 384x640 1 Licence_Plate, 55.2ms\n",
      "Speed: 1.3ms preprocess, 55.2ms inference, 0.3ms postprocess per image at shape (1, 3, 384, 640)\n",
      "\n",
      "0: 640x480 1 Licence_Plate, 72.2ms\n",
      "Speed: 1.4ms preprocess, 72.2ms inference, 0.4ms postprocess per image at shape (1, 3, 640, 480)\n",
      "\n",
      "0: 480x640 1 Licence_Plate, 69.8ms\n",
      "Speed: 1.6ms preprocess, 69.8ms inference, 0.5ms postprocess per image at shape (1, 3, 480, 640)\n",
      "\n",
      "0: 480x640 1 Licence_Plate, 68.5ms\n",
      "Speed: 1.5ms preprocess, 68.5ms inference, 0.3ms postprocess per image at shape (1, 3, 480, 640)\n",
      "\n",
      "0: 384x640 1 Licence_Plate, 55.8ms\n",
      "Speed: 1.2ms preprocess, 55.8ms inference, 0.4ms postprocess per image at shape (1, 3, 384, 640)\n",
      "\n",
      "0: 480x640 1 Licence_Plate, 98.0ms\n",
      "Speed: 1.5ms preprocess, 98.0ms inference, 0.3ms postprocess per image at shape (1, 3, 480, 640)\n",
      "\n",
      "0: 480x640 1 Licence_Plate, 67.9ms\n",
      "Speed: 1.5ms preprocess, 67.9ms inference, 0.3ms postprocess per image at shape (1, 3, 480, 640)\n",
      "\n",
      "0: 640x544 1 Licence_Plate, 80.8ms\n",
      "Speed: 1.7ms preprocess, 80.8ms inference, 0.3ms postprocess per image at shape (1, 3, 640, 544)\n",
      "\n",
      "0: 640x480 1 Licence_Plate, 70.6ms\n",
      "Speed: 1.4ms preprocess, 70.6ms inference, 0.3ms postprocess per image at shape (1, 3, 640, 480)\n",
      "\n",
      "0: 640x480 1 Licence_Plate, 70.9ms\n",
      "Speed: 1.4ms preprocess, 70.9ms inference, 0.6ms postprocess per image at shape (1, 3, 640, 480)\n",
      "\n",
      "0: 640x384 1 Licence_Plate, 57.8ms\n",
      "Speed: 1.3ms preprocess, 57.8ms inference, 0.3ms postprocess per image at shape (1, 3, 640, 384)\n",
      "\n",
      "0: 640x480 1 Licence_Plate, 71.7ms\n",
      "Speed: 1.5ms preprocess, 71.7ms inference, 0.3ms postprocess per image at shape (1, 3, 640, 480)\n",
      "\n",
      "0: 384x640 1 Licence_Plate, 55.2ms\n",
      "Speed: 1.4ms preprocess, 55.2ms inference, 0.6ms postprocess per image at shape (1, 3, 384, 640)\n",
      "\n",
      "0: 640x384 1 Licence_Plate, 57.9ms\n",
      "Speed: 1.1ms preprocess, 57.9ms inference, 0.6ms postprocess per image at shape (1, 3, 640, 384)\n",
      "\n",
      "0: 640x384 1 Licence_Plate, 58.3ms\n",
      "Speed: 1.1ms preprocess, 58.3ms inference, 0.3ms postprocess per image at shape (1, 3, 640, 384)\n",
      "\n",
      "0: 384x640 1 Licence_Plate, 54.1ms\n",
      "Speed: 1.4ms preprocess, 54.1ms inference, 0.3ms postprocess per image at shape (1, 3, 384, 640)\n",
      "\n",
      "0: 480x640 1 Licence_Plate, 68.6ms\n",
      "Speed: 1.6ms preprocess, 68.6ms inference, 0.5ms postprocess per image at shape (1, 3, 480, 640)\n",
      "\n",
      "0: 640x480 1 Licence_Plate, 69.6ms\n",
      "Speed: 1.7ms preprocess, 69.6ms inference, 0.3ms postprocess per image at shape (1, 3, 640, 480)\n",
      "\n",
      "0: 640x544 1 Licence_Plate, 76.7ms\n",
      "Speed: 1.6ms preprocess, 76.7ms inference, 0.4ms postprocess per image at shape (1, 3, 640, 544)\n",
      "\n",
      "0: 640x480 1 Licence_Plate, 70.6ms\n",
      "Speed: 1.6ms preprocess, 70.6ms inference, 0.3ms postprocess per image at shape (1, 3, 640, 480)\n",
      "\n",
      "0: 384x640 1 Licence_Plate, 54.7ms\n",
      "Speed: 1.1ms preprocess, 54.7ms inference, 0.3ms postprocess per image at shape (1, 3, 384, 640)\n",
      "\n",
      "0: 640x384 1 Licence_Plate, 57.6ms\n",
      "Speed: 1.2ms preprocess, 57.6ms inference, 0.3ms postprocess per image at shape (1, 3, 640, 384)\n",
      "\n",
      "0: 640x480 1 Licence_Plate, 70.4ms\n",
      "Speed: 1.5ms preprocess, 70.4ms inference, 0.5ms postprocess per image at shape (1, 3, 640, 480)\n",
      "\n",
      "0: 480x640 1 Licence_Plate, 69.8ms\n",
      "Speed: 1.9ms preprocess, 69.8ms inference, 0.3ms postprocess per image at shape (1, 3, 480, 640)\n",
      "\n",
      "0: 640x480 1 Licence_Plate, 70.5ms\n",
      "Speed: 1.5ms preprocess, 70.5ms inference, 0.5ms postprocess per image at shape (1, 3, 640, 480)\n",
      "\n",
      "0: 640x384 1 Licence_Plate, 58.6ms\n",
      "Speed: 1.2ms preprocess, 58.6ms inference, 0.4ms postprocess per image at shape (1, 3, 640, 384)\n",
      "\n",
      "0: 640x480 1 Licence_Plate, 71.0ms\n",
      "Speed: 1.5ms preprocess, 71.0ms inference, 0.4ms postprocess per image at shape (1, 3, 640, 480)\n",
      "\n",
      "0: 640x480 1 Licence_Plate, 71.9ms\n",
      "Speed: 1.7ms preprocess, 71.9ms inference, 0.4ms postprocess per image at shape (1, 3, 640, 480)\n",
      "\n",
      "0: 480x640 1 Licence_Plate, 70.3ms\n",
      "Speed: 1.7ms preprocess, 70.3ms inference, 0.3ms postprocess per image at shape (1, 3, 480, 640)\n",
      "\n",
      "0: 384x640 1 Licence_Plate, 55.2ms\n",
      "Speed: 1.4ms preprocess, 55.2ms inference, 0.5ms postprocess per image at shape (1, 3, 384, 640)\n",
      "\n",
      "0: 384x640 1 Licence_Plate, 55.0ms\n",
      "Speed: 1.3ms preprocess, 55.0ms inference, 0.3ms postprocess per image at shape (1, 3, 384, 640)\n",
      "\n",
      "0: 480x640 1 Licence_Plate, 69.4ms\n",
      "Speed: 1.5ms preprocess, 69.4ms inference, 0.4ms postprocess per image at shape (1, 3, 480, 640)\n",
      "\n",
      "0: 640x416 1 Licence_Plate, 61.7ms\n",
      "Speed: 1.3ms preprocess, 61.7ms inference, 0.5ms postprocess per image at shape (1, 3, 640, 416)\n",
      "\n",
      "0: 480x640 1 Licence_Plate, 69.7ms\n",
      "Speed: 1.6ms preprocess, 69.7ms inference, 0.3ms postprocess per image at shape (1, 3, 480, 640)\n",
      "\n",
      "0: 384x640 1 Licence_Plate, 56.3ms\n",
      "Speed: 1.3ms preprocess, 56.3ms inference, 0.4ms postprocess per image at shape (1, 3, 384, 640)\n",
      "\n",
      "0: 640x480 1 Licence_Plate, 71.1ms\n",
      "Speed: 1.5ms preprocess, 71.1ms inference, 0.3ms postprocess per image at shape (1, 3, 640, 480)\n",
      "\n",
      "0: 384x640 1 Licence_Plate, 54.9ms\n",
      "Speed: 1.4ms preprocess, 54.9ms inference, 0.3ms postprocess per image at shape (1, 3, 384, 640)\n",
      "\n",
      "0: 640x480 1 Licence_Plate, 69.1ms\n",
      "Speed: 1.5ms preprocess, 69.1ms inference, 0.6ms postprocess per image at shape (1, 3, 640, 480)\n",
      "\n",
      "0: 384x640 1 Licence_Plate, 55.3ms\n",
      "Speed: 1.1ms preprocess, 55.3ms inference, 0.3ms postprocess per image at shape (1, 3, 384, 640)\n",
      "\n",
      "0: 640x576 1 Licence_Plate, 83.1ms\n",
      "Speed: 1.8ms preprocess, 83.1ms inference, 0.3ms postprocess per image at shape (1, 3, 640, 576)\n",
      "\n",
      "0: 384x640 1 Licence_Plate, 54.9ms\n",
      "Speed: 1.3ms preprocess, 54.9ms inference, 0.3ms postprocess per image at shape (1, 3, 384, 640)\n",
      "\n",
      "0: 384x640 1 Licence_Plate, 56.6ms\n",
      "Speed: 1.3ms preprocess, 56.6ms inference, 0.5ms postprocess per image at shape (1, 3, 384, 640)\n",
      "\n",
      "0: 640x480 1 Licence_Plate, 75.9ms\n",
      "Speed: 1.5ms preprocess, 75.9ms inference, 0.4ms postprocess per image at shape (1, 3, 640, 480)\n",
      "\n",
      "0: 640x480 1 Licence_Plate, 70.3ms\n",
      "Speed: 1.5ms preprocess, 70.3ms inference, 0.6ms postprocess per image at shape (1, 3, 640, 480)\n",
      "\n",
      "0: 480x640 1 Licence_Plate, 68.0ms\n",
      "Speed: 1.6ms preprocess, 68.0ms inference, 0.3ms postprocess per image at shape (1, 3, 480, 640)\n",
      "\n",
      "0: 384x640 1 Licence_Plate, 55.2ms\n",
      "Speed: 1.1ms preprocess, 55.2ms inference, 0.6ms postprocess per image at shape (1, 3, 384, 640)\n",
      "\n",
      "0: 480x640 1 Licence_Plate, 69.9ms\n",
      "Speed: 1.4ms preprocess, 69.9ms inference, 0.3ms postprocess per image at shape (1, 3, 480, 640)\n",
      "\n",
      "0: 640x480 1 Licence_Plate, 70.6ms\n",
      "Speed: 1.5ms preprocess, 70.6ms inference, 0.6ms postprocess per image at shape (1, 3, 640, 480)\n",
      "\n",
      "0: 480x640 1 Licence_Plate, 70.8ms\n",
      "Speed: 1.4ms preprocess, 70.8ms inference, 0.5ms postprocess per image at shape (1, 3, 480, 640)\n",
      "\n",
      "0: 640x384 1 Licence_Plate, 58.5ms\n",
      "Speed: 1.3ms preprocess, 58.5ms inference, 0.6ms postprocess per image at shape (1, 3, 640, 384)\n",
      "\n",
      "0: 640x384 1 Licence_Plate, 58.0ms\n",
      "Speed: 1.2ms preprocess, 58.0ms inference, 0.3ms postprocess per image at shape (1, 3, 640, 384)\n",
      "\n",
      "0: 640x384 1 Licence_Plate, 59.2ms\n",
      "Speed: 1.2ms preprocess, 59.2ms inference, 0.3ms postprocess per image at shape (1, 3, 640, 384)\n",
      "\n",
      "0: 480x640 1 Licence_Plate, 69.3ms\n",
      "Speed: 1.5ms preprocess, 69.3ms inference, 0.4ms postprocess per image at shape (1, 3, 480, 640)\n",
      "\n",
      "0: 384x640 1 Licence_Plate, 83.8ms\n",
      "Speed: 1.2ms preprocess, 83.8ms inference, 0.3ms postprocess per image at shape (1, 3, 384, 640)\n",
      "\n",
      "0: 384x640 1 Licence_Plate, 55.4ms\n",
      "Speed: 1.3ms preprocess, 55.4ms inference, 0.3ms postprocess per image at shape (1, 3, 384, 640)\n",
      "\n",
      "0: 640x480 1 Licence_Plate, 71.4ms\n",
      "Speed: 1.5ms preprocess, 71.4ms inference, 0.3ms postprocess per image at shape (1, 3, 640, 480)\n",
      "\n",
      "0: 384x640 1 Licence_Plate, 56.4ms\n",
      "Speed: 1.3ms preprocess, 56.4ms inference, 0.6ms postprocess per image at shape (1, 3, 384, 640)\n",
      "\n",
      "0: 480x640 1 Licence_Plate, 69.3ms\n",
      "Speed: 1.8ms preprocess, 69.3ms inference, 0.3ms postprocess per image at shape (1, 3, 480, 640)\n",
      "\n",
      "0: 640x384 1 Licence_Plate, 57.9ms\n",
      "Speed: 1.1ms preprocess, 57.9ms inference, 0.3ms postprocess per image at shape (1, 3, 640, 384)\n",
      "\n",
      "0: 640x384 1 Licence_Plate, 56.8ms\n",
      "Speed: 1.2ms preprocess, 56.8ms inference, 0.3ms postprocess per image at shape (1, 3, 640, 384)\n",
      "\n",
      "0: 384x640 1 Licence_Plate, 55.2ms\n",
      "Speed: 1.4ms preprocess, 55.2ms inference, 0.3ms postprocess per image at shape (1, 3, 384, 640)\n",
      "\n",
      "0: 640x480 1 Licence_Plate, 69.8ms\n",
      "Speed: 1.5ms preprocess, 69.8ms inference, 0.3ms postprocess per image at shape (1, 3, 640, 480)\n",
      "\n",
      "0: 640x384 1 Licence_Plate, 56.6ms\n",
      "Speed: 1.2ms preprocess, 56.6ms inference, 0.3ms postprocess per image at shape (1, 3, 640, 384)\n",
      "\n",
      "0: 640x480 1 Licence_Plate, 69.0ms\n",
      "Speed: 1.5ms preprocess, 69.0ms inference, 0.6ms postprocess per image at shape (1, 3, 640, 480)\n",
      "\n",
      "0: 640x384 1 Licence_Plate, 57.8ms\n",
      "Speed: 1.2ms preprocess, 57.8ms inference, 0.3ms postprocess per image at shape (1, 3, 640, 384)\n",
      "\n",
      "0: 640x384 1 Licence_Plate, 57.9ms\n",
      "Speed: 1.1ms preprocess, 57.9ms inference, 0.3ms postprocess per image at shape (1, 3, 640, 384)\n",
      "\n",
      "0: 384x640 1 Licence_Plate, 55.5ms\n",
      "Speed: 1.3ms preprocess, 55.5ms inference, 0.4ms postprocess per image at shape (1, 3, 384, 640)\n",
      "\n",
      "0: 448x640 1 Licence_Plate, 63.4ms\n",
      "Speed: 1.5ms preprocess, 63.4ms inference, 0.3ms postprocess per image at shape (1, 3, 448, 640)\n",
      "\n",
      "0: 416x640 1 Licence_Plate, 60.2ms\n",
      "Speed: 1.2ms preprocess, 60.2ms inference, 0.3ms postprocess per image at shape (1, 3, 416, 640)\n",
      "\n",
      "0: 640x480 1 Licence_Plate, 71.5ms\n",
      "Speed: 1.5ms preprocess, 71.5ms inference, 0.6ms postprocess per image at shape (1, 3, 640, 480)\n",
      "\n",
      "0: 480x640 1 Licence_Plate, 68.0ms\n",
      "Speed: 1.5ms preprocess, 68.0ms inference, 0.3ms postprocess per image at shape (1, 3, 480, 640)\n",
      "\n",
      "0: 480x640 1 Licence_Plate, 68.6ms\n",
      "Speed: 1.5ms preprocess, 68.6ms inference, 0.3ms postprocess per image at shape (1, 3, 480, 640)\n",
      "\n",
      "0: 640x480 1 Licence_Plate, 68.6ms\n",
      "Speed: 1.4ms preprocess, 68.6ms inference, 0.5ms postprocess per image at shape (1, 3, 640, 480)\n",
      "\n",
      "0: 384x640 1 Licence_Plate, 55.6ms\n",
      "Speed: 1.4ms preprocess, 55.6ms inference, 0.3ms postprocess per image at shape (1, 3, 384, 640)\n",
      "\n",
      "0: 480x640 1 Licence_Plate, 67.1ms\n",
      "Speed: 1.8ms preprocess, 67.1ms inference, 0.3ms postprocess per image at shape (1, 3, 480, 640)\n",
      "\n",
      "0: 384x640 1 Licence_Plate, 55.5ms\n",
      "Speed: 1.4ms preprocess, 55.5ms inference, 0.3ms postprocess per image at shape (1, 3, 384, 640)\n",
      "\n",
      "0: 480x640 1 Licence_Plate, 67.2ms\n",
      "Speed: 1.5ms preprocess, 67.2ms inference, 0.3ms postprocess per image at shape (1, 3, 480, 640)\n",
      "\n",
      "0: 640x480 1 Licence_Plate, 70.7ms\n",
      "Speed: 1.4ms preprocess, 70.7ms inference, 0.3ms postprocess per image at shape (1, 3, 640, 480)\n",
      "\n",
      "0: 640x384 1 Licence_Plate, 57.8ms\n",
      "Speed: 1.2ms preprocess, 57.8ms inference, 0.3ms postprocess per image at shape (1, 3, 640, 384)\n",
      "\n",
      "0: 384x640 1 Licence_Plate, 57.0ms\n",
      "Speed: 1.2ms preprocess, 57.0ms inference, 0.3ms postprocess per image at shape (1, 3, 384, 640)\n",
      "\n",
      "0: 384x640 1 Licence_Plate, 54.4ms\n",
      "Speed: 1.2ms preprocess, 54.4ms inference, 0.3ms postprocess per image at shape (1, 3, 384, 640)\n",
      "\n",
      "0: 640x384 1 Licence_Plate, 56.4ms\n",
      "Speed: 1.3ms preprocess, 56.4ms inference, 0.3ms postprocess per image at shape (1, 3, 640, 384)\n",
      "\n",
      "0: 480x640 1 Licence_Plate, 68.4ms\n",
      "Speed: 1.6ms preprocess, 68.4ms inference, 0.5ms postprocess per image at shape (1, 3, 480, 640)\n",
      "\n",
      "0: 384x640 1 Licence_Plate, 54.4ms\n",
      "Speed: 1.3ms preprocess, 54.4ms inference, 0.3ms postprocess per image at shape (1, 3, 384, 640)\n",
      "\n",
      "0: 640x480 1 Licence_Plate, 71.0ms\n",
      "Speed: 1.5ms preprocess, 71.0ms inference, 0.3ms postprocess per image at shape (1, 3, 640, 480)\n",
      "\n",
      "0: 640x480 1 Licence_Plate, 71.6ms\n",
      "Speed: 1.4ms preprocess, 71.6ms inference, 0.3ms postprocess per image at shape (1, 3, 640, 480)\n",
      "\n",
      "0: 640x480 1 Licence_Plate, 69.8ms\n",
      "Speed: 1.6ms preprocess, 69.8ms inference, 0.3ms postprocess per image at shape (1, 3, 640, 480)\n",
      "\n",
      "0: 384x640 1 Licence_Plate, 54.7ms\n",
      "Speed: 1.3ms preprocess, 54.7ms inference, 0.3ms postprocess per image at shape (1, 3, 384, 640)\n",
      "\n",
      "0: 480x640 1 Licence_Plate, 68.7ms\n",
      "Speed: 1.6ms preprocess, 68.7ms inference, 0.5ms postprocess per image at shape (1, 3, 480, 640)\n",
      "\n",
      "0: 480x640 1 Licence_Plate, 69.2ms\n",
      "Speed: 1.6ms preprocess, 69.2ms inference, 0.4ms postprocess per image at shape (1, 3, 480, 640)\n",
      "\n",
      "0: 640x480 1 Licence_Plate, 70.3ms\n",
      "Speed: 1.6ms preprocess, 70.3ms inference, 0.3ms postprocess per image at shape (1, 3, 640, 480)\n",
      "\n",
      "0: 480x640 1 Licence_Plate, 69.9ms\n",
      "Speed: 1.6ms preprocess, 69.9ms inference, 0.3ms postprocess per image at shape (1, 3, 480, 640)\n",
      "\n",
      "0: 448x640 1 Licence_Plate, 64.7ms\n",
      "Speed: 1.5ms preprocess, 64.7ms inference, 0.4ms postprocess per image at shape (1, 3, 448, 640)\n"
     ]
    }
   ],
   "source": [
    "test_dir = '/Users/velmurugan/Desktop/@/python_works/License plate detection/test'\n",
    "output_dir = '/Users/velmurugan/Desktop/@/python_works/License plate detection/cropped_images'\n",
    "\n",
    "\n",
    "cropped_images = []\n",
    "\n",
    "# First detect the License plate for given test dataset \n",
    "# And save the cropped license plate to process further recognition analysis\n",
    "\n",
    "for image in os.listdir(test_dir):\n",
    "    img_path = os.path.join(test_dir,image)\n",
    "    cropped_images.extend(detect_and_crop(License_plate_model, img_path))\n",
    "    for cropped_image in cropped_images:\n",
    "        cropped_image.save(os.path.join(output_dir,image))\n",
    "    "
   ]
  },
  {
   "cell_type": "code",
   "execution_count": 121,
   "metadata": {},
   "outputs": [],
   "source": [
    "for cropped_image in cropped_images:\n",
    "    cropped_image.save(output_dir)"
   ]
  },
  {
   "cell_type": "code",
   "execution_count": 58,
   "metadata": {},
   "outputs": [
    {
     "data": {
      "image/jpeg": "[encoded data removed]",
      "image/png": "[encoded data removed]",
      "text/plain": [
       "<PIL.Image.Image image mode=RGB size=150x48>"
      ]
     },
     "execution_count": 58,
     "metadata": {},
     "output_type": "execute_result"
    }
   ],
   "source": [
    "cropped_images[28]"
   ]
  },
  {
   "cell_type": "code",
   "execution_count": 11,
   "metadata": {},
   "outputs": [
    {
     "data": {
      "text/html": [
       "<div>\n",
       "<style scoped>\n",
       "    .dataframe tbody tr th:only-of-type {\n",
       "        vertical-align: middle;\n",
       "    }\n",
       "\n",
       "    .dataframe tbody tr th {\n",
       "        vertical-align: top;\n",
       "    }\n",
       "\n",
       "    .dataframe thead th {\n",
       "        text-align: right;\n",
       "    }\n",
       "</style>\n",
       "<table border=\"1\" class=\"dataframe\">\n",
       "  <thead>\n",
       "    <tr style=\"text-align: right;\">\n",
       "      <th></th>\n",
       "      <th>img_id</th>\n",
       "      <th>text</th>\n",
       "    </tr>\n",
       "  </thead>\n",
       "  <tbody>\n",
       "    <tr>\n",
       "      <th>0</th>\n",
       "      <td>0.jpg</td>\n",
       "      <td>117T3989</td>\n",
       "    </tr>\n",
       "    <tr>\n",
       "      <th>1</th>\n",
       "      <td>1.jpg</td>\n",
       "      <td>128T8086</td>\n",
       "    </tr>\n",
       "    <tr>\n",
       "      <th>2</th>\n",
       "      <td>10.jpg</td>\n",
       "      <td>94T3458</td>\n",
       "    </tr>\n",
       "    <tr>\n",
       "      <th>3</th>\n",
       "      <td>100.jpg</td>\n",
       "      <td>133T6719</td>\n",
       "    </tr>\n",
       "    <tr>\n",
       "      <th>4</th>\n",
       "      <td>101.jpg</td>\n",
       "      <td>68T5979</td>\n",
       "    </tr>\n",
       "  </tbody>\n",
       "</table>\n",
       "</div>"
      ],
      "text/plain": [
       "    img_id      text\n",
       "0    0.jpg  117T3989\n",
       "1    1.jpg  128T8086\n",
       "2   10.jpg   94T3458\n",
       "3  100.jpg  133T6719\n",
       "4  101.jpg   68T5979"
      ]
     },
     "execution_count": 11,
     "metadata": {},
     "output_type": "execute_result"
    }
   ],
   "source": [
    "# Import the label csv to perform recognition task\n",
    "\n",
    "license_label = pd.read_csv('/Users/velmurugan/Desktop/@/python_works/License plate detection/Licplatesrecognition_train.csv')\n",
    "license_label.head()"
   ]
  },
  {
   "cell_type": "code",
   "execution_count": 13,
   "metadata": {},
   "outputs": [
    {
     "name": "stdout",
     "output_type": "stream",
     "text": [
      "<class 'pandas.core.frame.DataFrame'>\n",
      "RangeIndex: 900 entries, 0 to 899\n",
      "Data columns (total 2 columns):\n",
      " #   Column  Non-Null Count  Dtype \n",
      "---  ------  --------------  ----- \n",
      " 0   img_id  900 non-null    object\n",
      " 1   text    900 non-null    object\n",
      "dtypes: object(2)\n",
      "memory usage: 14.2+ KB\n"
     ]
    }
   ],
   "source": [
    "license_label.info()"
   ]
  },
  {
   "cell_type": "code",
   "execution_count": 12,
   "metadata": {},
   "outputs": [
    {
     "name": "stdout",
     "output_type": "stream",
     "text": [
      "  img_id      text\n",
      "0  0.jpg  117T3989\n",
      "1  1.jpg  128T8086\n",
      "2  2.jpg  170T6123\n"
     ]
    },
    {
     "data": {
      "text/html": [
       "<div>\n",
       "<style scoped>\n",
       "    .dataframe tbody tr th:only-of-type {\n",
       "        vertical-align: middle;\n",
       "    }\n",
       "\n",
       "    .dataframe tbody tr th {\n",
       "        vertical-align: top;\n",
       "    }\n",
       "\n",
       "    .dataframe thead th {\n",
       "        text-align: right;\n",
       "    }\n",
       "</style>\n",
       "<table border=\"1\" class=\"dataframe\">\n",
       "  <thead>\n",
       "    <tr style=\"text-align: right;\">\n",
       "      <th></th>\n",
       "      <th>img_id</th>\n",
       "      <th>text</th>\n",
       "    </tr>\n",
       "  </thead>\n",
       "  <tbody>\n",
       "    <tr>\n",
       "      <th>897</th>\n",
       "      <td>907.jpg</td>\n",
       "      <td>162T9979</td>\n",
       "    </tr>\n",
       "    <tr>\n",
       "      <th>898</th>\n",
       "      <td>908.jpg</td>\n",
       "      <td>115T5367</td>\n",
       "    </tr>\n",
       "    <tr>\n",
       "      <th>899</th>\n",
       "      <td>910.jpg</td>\n",
       "      <td>106T2131</td>\n",
       "    </tr>\n",
       "  </tbody>\n",
       "</table>\n",
       "</div>"
      ],
      "text/plain": [
       "      img_id      text\n",
       "897  907.jpg  162T9979\n",
       "898  908.jpg  115T5367\n",
       "899  910.jpg  106T2131"
      ]
     },
     "execution_count": 12,
     "metadata": {},
     "output_type": "execute_result"
    }
   ],
   "source": [
    "# img_id column is not sorted\n",
    "# Apply the function to create a new column for sorting\n",
    "license_label['img_id_numeric'] = license_label['img_id'].apply(extract_numeric_part)\n",
    "\n",
    "# Sort the DataFrame based on the numeric column\n",
    "license_label = license_label.sort_values(by='img_id_numeric')\n",
    "\n",
    "# Drop the numeric column it is not needed\n",
    "license_label = license_label.drop(columns='img_id_numeric')\n",
    "\n",
    "license_label.reset_index(drop=True, inplace=True)\n",
    "\n",
    "print(license_label.head(3))\n",
    "license_label.tail(3)"
   ]
  },
  {
   "cell_type": "code",
   "execution_count": 13,
   "metadata": {},
   "outputs": [
    {
     "name": "stdout",
     "output_type": "stream",
     "text": [
      "  img_id     text\n",
      "0  0.jpg  1173989\n",
      "1  1.jpg  1288086\n",
      "2  2.jpg  1706123\n",
      "3  3.jpg  1031643\n",
      "4  4.jpg   621040\n"
     ]
    }
   ],
   "source": [
    "# We need to extract only numerical values from the license plate\n",
    "# Function to remove non-numeric characters from text column\n",
    "\n",
    "def preprocess_label(label):\n",
    "    return re.sub(r'[^0-9]', '', label)\n",
    "\n",
    "# Apply the preprocessing function to the label column\n",
    "license_label['text'] = license_label['text'].apply(preprocess_label)\n",
    "\n",
    "# Display the first few rows of the data to verify the changes\n",
    "print(license_label.head())"
   ]
  },
  {
   "cell_type": "code",
   "execution_count": 14,
   "metadata": {},
   "outputs": [],
   "source": [
    "# Splitting the dataset for training and testing \n",
    "\n",
    "train_df = license_label.iloc[:870]\n",
    "val_df = license_label.iloc[870:]\n",
    "train_img_path = '/Users/velmurugan/Desktop/@/python_works/License plate detection/reco/train'\n",
    "val_img_path = '/Users/velmurugan/Desktop/@/python_works/License plate detection/reco/val'"
   ]
  },
  {
   "cell_type": "code",
   "execution_count": 15,
   "metadata": {},
   "outputs": [
    {
     "name": "stdout",
     "output_type": "stream",
     "text": [
      "torch.Size([1, 32, 128]) tensor([0, 0, 0, 1, 1, 7, 3, 9, 8, 9])\n"
     ]
    }
   ],
   "source": [
    "# Defining a custom class for the image dataset \n",
    "\n",
    "class LicensePlateDataset(Dataset):\n",
    "    def __init__(self, df, root_dir, transform=None,max_label_length=10):\n",
    "        self.data_frame = df\n",
    "        self.root_dir = root_dir\n",
    "        self.transform = transform\n",
    "        \n",
    "        # Output column has varying length so we have to pad the values\n",
    "        self.max_label_length = max_label_length\n",
    "\n",
    "    def __len__(self):\n",
    "        return len(self.data_frame)\n",
    "\n",
    "    def __getitem__(self, idx):\n",
    "        img_name = os.path.join(self.root_dir, self.data_frame.iloc[idx, 0])\n",
    "\n",
    "        image = cv2.imread(img_name, cv2.IMREAD_GRAYSCALE) # Convering to image to graysclale\n",
    "        image = cv2.resize(image, (128, 32)) # Cropped image \n",
    "        \n",
    "        if self.transform:\n",
    "            image = self.transform(image)\n",
    "        \n",
    "        \n",
    "        # Label processing\n",
    "        label = self.data_frame.iloc[idx, 1]\n",
    "        label = self.encode_label(label)\n",
    "        \n",
    "        return image, torch.tensor(label, dtype=torch.long)\n",
    "    \n",
    "    \n",
    "    def encode_label(self, label):\n",
    "        # Convert label string to a list of integers (character indices)\n",
    "        label = [ord(char) - ord('0') for char in label]\n",
    "        # Pad the label in the front to max_label_length\n",
    "        if len(label) < self.max_label_length:\n",
    "            label = [0] * (self.max_label_length - len(label)) + label\n",
    "        return label\n",
    "\n",
    "\n",
    "# Define any transformations if needed\n",
    "transform = transforms.Compose([\n",
    "    transforms.ToTensor(),\n",
    "    transforms.Normalize((0.5,), (0.5,))])\n",
    "\n",
    "\n",
    "train_dataset = LicensePlateDataset(df=train_df, root_dir=train_img_path, transform=transform)\n",
    "train_dataloader = DataLoader(train_dataset, batch_size=16, shuffle=True)\n",
    "\n",
    "test_dataset = LicensePlateDataset(df=val_df,root_dir=val_img_path,transform=transform)\n",
    "test_dataloader = DataLoader(test_dataset,batch_size=16,shuffle=False)\n",
    "\n",
    "# Checking one sample from the dataset\n",
    "sample_image, sample_label = train_dataset[0]\n",
    "print(sample_image.shape, sample_label)\n"
   ]
  },
  {
   "cell_type": "code",
   "execution_count": null,
   "metadata": {},
   "outputs": [],
   "source": [
    "'''data_transforms = transforms.Compose([\n",
    "    transforms.RandomRotation(10),\n",
    "    transforms.RandomHorizontalFlip(),\n",
    "    transforms.ToTensor(),\n",
    "    transforms.Normalize((0.5,), (0.5,))])'''"
   ]
  },
  {
   "cell_type": "code",
   "execution_count": 18,
   "metadata": {},
   "outputs": [
    {
     "data": {
      "text/plain": [
       "(tensor([[[-0.1216,  0.4039,  0.2627,  ...,  0.8824,  0.8118,  0.8902],\n",
       "          [ 0.1216,  0.3804, -0.0275,  ...,  0.6627,  0.6706,  0.7255],\n",
       "          [ 0.1529,  0.3569, -0.0353,  ...,  0.3569,  0.4980,  0.5373],\n",
       "          ...,\n",
       "          [ 0.0588, -0.1686,  0.0980,  ..., -0.0588,  0.1529,  0.0353],\n",
       "          [ 0.1373, -0.1608,  0.0980,  ..., -0.0667,  0.1608,  0.0353],\n",
       "          [ 0.1843, -0.1765,  0.0588,  ..., -0.0588,  0.1529,  0.0353]]]),\n",
       " tensor([0, 0, 0, 1, 2, 8, 8, 0, 8, 6]))"
      ]
     },
     "execution_count": 18,
     "metadata": {},
     "output_type": "execute_result"
    }
   ],
   "source": [
    "train_dataset.__getitem__(1)"
   ]
  },
  {
   "cell_type": "code",
   "execution_count": 19,
   "metadata": {},
   "outputs": [
    {
     "data": {
      "text/plain": [
       "55"
      ]
     },
     "execution_count": 19,
     "metadata": {},
     "output_type": "execute_result"
    }
   ],
   "source": [
    "len(train_dataloader)"
   ]
  },
  {
   "cell_type": "code",
   "execution_count": 3,
   "metadata": {},
   "outputs": [
    {
     "name": "stdout",
     "output_type": "stream",
     "text": [
      "CRNN(\n",
      "  (cnn): Sequential(\n",
      "    (0): Conv2d(1, 64, kernel_size=(3, 3), stride=(1, 1), padding=(1, 1))\n",
      "    (1): BatchNorm2d(64, eps=1e-05, momentum=0.1, affine=True, track_running_stats=True)\n",
      "    (2): ReLU()\n",
      "    (3): MaxPool2d(kernel_size=2, stride=2, padding=0, dilation=1, ceil_mode=False)\n",
      "    (4): Dropout(p=0.25, inplace=False)\n",
      "    (5): Conv2d(64, 128, kernel_size=(3, 3), stride=(1, 1), padding=(1, 1))\n",
      "    (6): BatchNorm2d(128, eps=1e-05, momentum=0.1, affine=True, track_running_stats=True)\n",
      "    (7): ReLU()\n",
      "    (8): MaxPool2d(kernel_size=2, stride=2, padding=0, dilation=1, ceil_mode=False)\n",
      "    (9): Dropout(p=0.25, inplace=False)\n",
      "    (10): Conv2d(128, 256, kernel_size=(3, 3), stride=(1, 1), padding=(1, 1))\n",
      "    (11): BatchNorm2d(256, eps=1e-05, momentum=0.1, affine=True, track_running_stats=True)\n",
      "    (12): ReLU()\n",
      "    (13): MaxPool2d(kernel_size=2, stride=2, padding=0, dilation=1, ceil_mode=False)\n",
      "    (14): Dropout(p=0.25, inplace=False)\n",
      "  )\n",
      "  (rnn): LSTM(1024, 256, num_layers=2, batch_first=True, dropout=0.5, bidirectional=True)\n",
      "  (fc): Linear(in_features=512, out_features=10, bias=True)\n",
      ")\n"
     ]
    }
   ],
   "source": [
    "# Defining the architecture of the CRNN model\n",
    "# Since the previous model tend to overfit, now I perform dropout\n",
    "\n",
    "class CRNN(nn.Module):\n",
    "    def __init__(self, img_height, num_channels, num_classes, rnn_hidden_size=256):\n",
    "        super(CRNN, self).__init__()\n",
    "        self.cnn = nn.Sequential(\n",
    "            nn.Conv2d(num_channels, 64, kernel_size=3, stride=1, padding=1),\n",
    "            nn.BatchNorm2d(64),\n",
    "            nn.ReLU(),\n",
    "            nn.MaxPool2d(2, 2),  # 64x64x16\n",
    "            nn.Dropout(0.25),\n",
    "\n",
    "            nn.Conv2d(64, 128, kernel_size=3, stride=1, padding=1),\n",
    "            nn.BatchNorm2d(128),\n",
    "            nn.ReLU(),\n",
    "            nn.MaxPool2d(2, 2),  # 128x32x8\n",
    "            nn.Dropout(0.25),\n",
    "\n",
    "            nn.Conv2d(128, 256, kernel_size=3, stride=1, padding=1),\n",
    "            nn.BatchNorm2d(256),\n",
    "            nn.ReLU(),\n",
    "            nn.MaxPool2d(2, 2),  # 256x16x4\n",
    "            nn.Dropout(0.25),\n",
    "        )\n",
    "\n",
    "        self.rnn = nn.LSTM(256 * (img_height // 8), rnn_hidden_size, bidirectional=True, num_layers=2, batch_first=True, dropout=0.5)\n",
    "        self.fc = nn.Linear(rnn_hidden_size * 2, num_classes)\n",
    "\n",
    "    def forward(self, x):\n",
    "        cnn_out = self.cnn(x)\n",
    "        batch_size, channels, height, width = cnn_out.size()\n",
    "        cnn_out = cnn_out.permute(0, 3, 1, 2).contiguous()\n",
    "        cnn_out = cnn_out.view(batch_size, width, channels * height)\n",
    "        rnn_out, _ = self.rnn(cnn_out)\n",
    "        output = self.fc(rnn_out)\n",
    "        return output\n",
    "\n",
    "\n",
    "img_height = 32\n",
    "num_channels = 1  # grayscale images\n",
    "num_classes = 10  # 10 digits \n",
    "\n",
    "model = CRNN(img_height=img_height, num_channels=num_channels, num_classes=num_classes)\n",
    "print(model)\n"
   ]
  },
  {
   "cell_type": "code",
   "execution_count": 52,
   "metadata": {},
   "outputs": [
    {
     "name": "stdout",
     "output_type": "stream",
     "text": [
      "Epoch [1/75], Step [0/55], Loss: 0.2161\n",
      "Epoch [1/75], Step [50/55], Loss: 0.1625\n",
      "Epoch [2/75], Step [0/55], Loss: 0.2161\n",
      "Epoch [2/75], Step [50/55], Loss: 0.2494\n",
      "Epoch [3/75], Step [0/55], Loss: 0.2004\n",
      "Epoch [3/75], Step [50/55], Loss: 0.1582\n",
      "Epoch [4/75], Step [0/55], Loss: 0.2635\n",
      "Epoch [4/75], Step [50/55], Loss: 0.2232\n",
      "Epoch [5/75], Step [0/55], Loss: 0.1404\n",
      "Epoch [5/75], Step [50/55], Loss: 0.1496\n",
      "Epoch [6/75], Step [0/55], Loss: 0.1390\n",
      "Epoch [6/75], Step [50/55], Loss: 0.1744\n",
      "Epoch [7/75], Step [0/55], Loss: 0.0910\n",
      "Epoch [7/75], Step [50/55], Loss: 0.1239\n",
      "Epoch [8/75], Step [0/55], Loss: 0.1239\n",
      "Epoch [8/75], Step [50/55], Loss: 0.1181\n",
      "Epoch [9/75], Step [0/55], Loss: 0.0956\n",
      "Epoch [9/75], Step [50/55], Loss: 0.1993\n",
      "Epoch [10/75], Step [0/55], Loss: 0.1114\n",
      "Epoch [10/75], Step [50/55], Loss: 0.1524\n",
      "Epoch [11/75], Step [0/55], Loss: 0.0679\n",
      "Epoch [11/75], Step [50/55], Loss: 0.1347\n",
      "Epoch [12/75], Step [0/55], Loss: 0.1418\n",
      "Epoch [12/75], Step [50/55], Loss: 0.1106\n",
      "Epoch [13/75], Step [0/55], Loss: 0.1074\n",
      "Epoch [13/75], Step [50/55], Loss: 0.1431\n",
      "Epoch [14/75], Step [0/55], Loss: 0.1459\n",
      "Epoch [14/75], Step [50/55], Loss: 0.0978\n",
      "Epoch [15/75], Step [0/55], Loss: 0.0551\n",
      "Epoch [15/75], Step [50/55], Loss: 0.0795\n",
      "Epoch [16/75], Step [0/55], Loss: 0.1099\n",
      "Epoch [16/75], Step [50/55], Loss: 0.0736\n",
      "Epoch [17/75], Step [0/55], Loss: 0.0618\n",
      "Epoch [17/75], Step [50/55], Loss: 0.0907\n",
      "Epoch [18/75], Step [0/55], Loss: 0.0652\n",
      "Epoch [18/75], Step [50/55], Loss: 0.0955\n",
      "Epoch [19/75], Step [0/55], Loss: 0.0833\n",
      "Epoch [19/75], Step [50/55], Loss: 0.0904\n",
      "Epoch [20/75], Step [0/55], Loss: 0.0997\n",
      "Epoch [20/75], Step [50/55], Loss: 0.1056\n",
      "Epoch [21/75], Step [0/55], Loss: 0.0712\n",
      "Epoch [21/75], Step [50/55], Loss: 0.0449\n",
      "Epoch [22/75], Step [0/55], Loss: 0.0919\n",
      "Epoch [22/75], Step [50/55], Loss: 0.0473\n",
      "Epoch [23/75], Step [0/55], Loss: 0.0798\n",
      "Epoch [23/75], Step [50/55], Loss: 0.0728\n",
      "Epoch [24/75], Step [0/55], Loss: 0.0807\n",
      "Epoch [24/75], Step [50/55], Loss: 0.0497\n",
      "Epoch [25/75], Step [0/55], Loss: 0.1068\n",
      "Epoch [25/75], Step [50/55], Loss: 0.0428\n",
      "Epoch [26/75], Step [0/55], Loss: 0.0388\n",
      "Epoch [26/75], Step [50/55], Loss: 0.0503\n",
      "Epoch [27/75], Step [0/55], Loss: 0.0322\n",
      "Epoch [27/75], Step [50/55], Loss: 0.0987\n",
      "Epoch [28/75], Step [0/55], Loss: 0.0549\n",
      "Epoch [28/75], Step [50/55], Loss: 0.0744\n",
      "Epoch [29/75], Step [0/55], Loss: 0.0767\n",
      "Epoch [29/75], Step [50/55], Loss: 0.0595\n",
      "Epoch [30/75], Step [0/55], Loss: 0.0591\n",
      "Epoch [30/75], Step [50/55], Loss: 0.0798\n",
      "Epoch [31/75], Step [0/55], Loss: 0.0382\n",
      "Epoch [31/75], Step [50/55], Loss: 0.0356\n",
      "Epoch [32/75], Step [0/55], Loss: 0.0340\n",
      "Epoch [32/75], Step [50/55], Loss: 0.0357\n",
      "Epoch [33/75], Step [0/55], Loss: 0.0335\n",
      "Epoch [33/75], Step [50/55], Loss: 0.0316\n",
      "Epoch [34/75], Step [0/55], Loss: 0.0482\n",
      "Epoch [34/75], Step [50/55], Loss: 0.0449\n",
      "Epoch [35/75], Step [0/55], Loss: 0.0528\n",
      "Epoch [35/75], Step [50/55], Loss: 0.0590\n",
      "Epoch [36/75], Step [0/55], Loss: 0.0496\n",
      "Epoch [36/75], Step [50/55], Loss: 0.0749\n",
      "Epoch [37/75], Step [0/55], Loss: 0.0927\n",
      "Epoch [37/75], Step [50/55], Loss: 0.0426\n",
      "Epoch [38/75], Step [0/55], Loss: 0.0891\n",
      "Epoch [38/75], Step [50/55], Loss: 0.0362\n",
      "Epoch [39/75], Step [0/55], Loss: 0.0484\n",
      "Epoch [39/75], Step [50/55], Loss: 0.1215\n",
      "Epoch [40/75], Step [0/55], Loss: 0.0213\n",
      "Epoch [40/75], Step [50/55], Loss: 0.0507\n",
      "Epoch [41/75], Step [0/55], Loss: 0.0344\n",
      "Epoch [41/75], Step [50/55], Loss: 0.0267\n",
      "Epoch [42/75], Step [0/55], Loss: 0.0276\n",
      "Epoch [42/75], Step [50/55], Loss: 0.0577\n",
      "Epoch [43/75], Step [0/55], Loss: 0.0308\n",
      "Epoch [43/75], Step [50/55], Loss: 0.0220\n",
      "Epoch [44/75], Step [0/55], Loss: 0.0450\n",
      "Epoch [44/75], Step [50/55], Loss: 0.0258\n",
      "Epoch [45/75], Step [0/55], Loss: 0.0343\n",
      "Epoch [45/75], Step [50/55], Loss: 0.0209\n",
      "Epoch [46/75], Step [0/55], Loss: 0.0141\n",
      "Epoch [46/75], Step [50/55], Loss: 0.0124\n",
      "Epoch [47/75], Step [0/55], Loss: 0.0525\n",
      "Epoch [47/75], Step [50/55], Loss: 0.0331\n",
      "Epoch [48/75], Step [0/55], Loss: 0.0308\n",
      "Epoch [48/75], Step [50/55], Loss: 0.0331\n",
      "Epoch [49/75], Step [0/55], Loss: 0.0213\n",
      "Epoch [49/75], Step [50/55], Loss: 0.0296\n",
      "Epoch [50/75], Step [0/55], Loss: 0.0517\n",
      "Epoch [50/75], Step [50/55], Loss: 0.0650\n",
      "Epoch [51/75], Step [0/55], Loss: 0.1016\n",
      "Epoch [51/75], Step [50/55], Loss: 0.0207\n",
      "Epoch [52/75], Step [0/55], Loss: 0.0172\n",
      "Epoch [52/75], Step [50/55], Loss: 0.0462\n",
      "Epoch [53/75], Step [0/55], Loss: 0.0133\n",
      "Epoch [53/75], Step [50/55], Loss: 0.0292\n",
      "Epoch [54/75], Step [0/55], Loss: 0.0978\n",
      "Epoch [54/75], Step [50/55], Loss: 0.0171\n",
      "Epoch [55/75], Step [0/55], Loss: 0.0076\n",
      "Epoch [55/75], Step [50/55], Loss: 0.0545\n",
      "Epoch [56/75], Step [0/55], Loss: 0.0056\n",
      "Epoch [56/75], Step [50/55], Loss: 0.0146\n",
      "Epoch [57/75], Step [0/55], Loss: 0.0205\n",
      "Epoch [57/75], Step [50/55], Loss: 0.0100\n",
      "Epoch [58/75], Step [0/55], Loss: 0.0415\n",
      "Epoch [58/75], Step [50/55], Loss: 0.0158\n",
      "Epoch [59/75], Step [0/55], Loss: 0.0457\n",
      "Epoch [59/75], Step [50/55], Loss: 0.0196\n",
      "Epoch [60/75], Step [0/55], Loss: 0.0189\n",
      "Epoch [60/75], Step [50/55], Loss: 0.0073\n",
      "Epoch [61/75], Step [0/55], Loss: 0.0150\n",
      "Epoch [61/75], Step [50/55], Loss: 0.0175\n",
      "Epoch [62/75], Step [0/55], Loss: 0.0453\n",
      "Epoch [62/75], Step [50/55], Loss: 0.0115\n",
      "Epoch [63/75], Step [0/55], Loss: 0.0243\n",
      "Epoch [63/75], Step [50/55], Loss: 0.0173\n",
      "Epoch [64/75], Step [0/55], Loss: 0.0208\n",
      "Epoch [64/75], Step [50/55], Loss: 0.0450\n",
      "Epoch [65/75], Step [0/55], Loss: 0.0474\n",
      "Epoch [65/75], Step [50/55], Loss: 0.0202\n",
      "Epoch [66/75], Step [0/55], Loss: 0.0246\n",
      "Epoch [66/75], Step [50/55], Loss: 0.0462\n",
      "Epoch [67/75], Step [0/55], Loss: 0.0427\n",
      "Epoch [67/75], Step [50/55], Loss: 0.0307\n",
      "Epoch [68/75], Step [0/55], Loss: 0.0050\n",
      "Epoch [68/75], Step [50/55], Loss: 0.0106\n",
      "Epoch [69/75], Step [0/55], Loss: 0.0240\n",
      "Epoch [69/75], Step [50/55], Loss: 0.0666\n",
      "Epoch [70/75], Step [0/55], Loss: 0.0232\n",
      "Epoch [70/75], Step [50/55], Loss: 0.0488\n",
      "Epoch [71/75], Step [0/55], Loss: 0.0397\n",
      "Epoch [71/75], Step [50/55], Loss: 0.0078\n",
      "Epoch [72/75], Step [0/55], Loss: 0.0246\n",
      "Epoch [72/75], Step [50/55], Loss: 0.0240\n",
      "Epoch [73/75], Step [0/55], Loss: 0.0352\n",
      "Epoch [73/75], Step [50/55], Loss: 0.0111\n",
      "Epoch [74/75], Step [0/55], Loss: 0.0166\n",
      "Epoch [74/75], Step [50/55], Loss: 0.0106\n",
      "Epoch [75/75], Step [0/55], Loss: 0.0095\n",
      "Epoch [75/75], Step [50/55], Loss: 0.0209\n",
      "Training complete!\n"
     ]
    }
   ],
   "source": [
    "# Defining the epochs,Optimizer and Loss function\n",
    "num_epochs = 75\n",
    "optimizer = torch.optim.Adam(model.parameters(),lr=0.001)\n",
    "criterion = nn.CrossEntropyLoss() \n",
    "\n",
    "for epoch in range(num_epochs):\n",
    "    model.train()\n",
    "    for i, (images, labels) in enumerate(train_dataloader):\n",
    "        optimizer.zero_grad()\n",
    "        outputs = model(images)\n",
    "        \n",
    "        # Calculate loss\n",
    "        loss = criterion(outputs, labels)\n",
    "        \n",
    "        # Backward pass and optimize\n",
    "        loss.backward()\n",
    "        optimizer.step()\n",
    "        \n",
    "        if i % 50 == 0:\n",
    "            print(f\"Epoch [{epoch+1}/{num_epochs}], Step [{i}/{len(train_dataloader)}], Loss: {loss.item():.4f}\")\n",
    "\n",
    "print(\"Training complete!\")"
   ]
  },
  {
   "cell_type": "code",
   "execution_count": 5,
   "metadata": {},
   "outputs": [],
   "source": [
    "model_path = '/Users/velmurugan/Desktop/@/python_works/License plate detection/model.pkl'\n"
   ]
  },
  {
   "cell_type": "code",
   "execution_count": 58,
   "metadata": {},
   "outputs": [],
   "source": [
    "# saving the trained model\n",
    "'''with open(model_path,'wb') as f:\n",
    "    pickle.dump(model,f)'''"
   ]
  },
  {
   "cell_type": "code",
   "execution_count": 6,
   "metadata": {},
   "outputs": [],
   "source": [
    "# Loading the trained model\n",
    "\n",
    "with open(model_path,'rb') as f:\n",
    "    loaded_model = pickle.load(f)"
   ]
  },
  {
   "cell_type": "code",
   "execution_count": 19,
   "metadata": {},
   "outputs": [],
   "source": [
    "# Function to evaluate the trained model\n",
    "\n",
    "def evaluate_model(model, data_loader):\n",
    "    model.eval()\n",
    "    all_preds = []\n",
    "    all_labels = []\n",
    "    \n",
    "    with torch.no_grad():\n",
    "        for images, labels in data_loader:\n",
    "            \n",
    "            outputs = model(images)\n",
    "            _, preds = torch.max(outputs, 1)\n",
    "\n",
    "            preds = preds.view(-1).numpy()\n",
    "            labels = labels.view(-1).numpy()\n",
    "\n",
    "            all_preds.extend(preds) #predictions\n",
    "            all_labels.extend(labels) #Ground_truths\n",
    "    \n",
    "    # Evaluation metrics\n",
    "    accuracy = accuracy_score(all_labels, all_preds)\n",
    "    precision = precision_score(all_labels, all_preds, average='weighted', zero_division=0)\n",
    "    recall = recall_score(all_labels, all_preds, average='weighted', zero_division=0)\n",
    "    f1 = f1_score(all_labels, all_preds, average='weighted', zero_division=0)\n",
    "    \n",
    "    print(f\"Accuracy: {accuracy:.4f}\")\n",
    "    print(f\"Precision: {precision:.4f}\")\n",
    "    print(f\"Recall: {recall:.4f}\")\n",
    "    print(f\"F1 Score: {f1:.4f}\")\n"
   ]
  },
  {
   "cell_type": "code",
   "execution_count": 22,
   "metadata": {},
   "outputs": [
    {
     "name": "stdout",
     "output_type": "stream",
     "text": [
      "Accuracy: 0.8567\n",
      "Precision: 0.8606\n",
      "Recall: 0.8567\n",
      "F1 Score: 0.8566\n"
     ]
    }
   ],
   "source": [
    "# Evaluation on test data\n",
    "evaluate_model(loaded_model,test_dataloader)"
   ]
  },
  {
   "cell_type": "code",
   "execution_count": 28,
   "metadata": {},
   "outputs": [
    {
     "name": "stdout",
     "output_type": "stream",
     "text": [
      "Label: tensor([0, 0, 0, 0, 6, 2, 3, 9, 2, 7])\n",
      "Predicted: tensor([[0, 0, 0, 0, 6, 2, 2, 9, 2, 7]])\n"
     ]
    }
   ],
   "source": [
    "# Get the image and label\n",
    "image, label = test_dataset.__getitem__(17)\n",
    "print(\"Label:\", label)\n",
    "\n",
    "# Set the model to evaluation mode\n",
    "model.eval()\n",
    "\n",
    "with torch.no_grad():\n",
    "    # Unsqueeze the image tensor to add batch dimension\n",
    "    image = image.unsqueeze(0)  # Shape: [1, channels, height, width]\n",
    "    \n",
    "    # Get the model output\n",
    "    pred = loaded_model(image)\n",
    "    \n",
    "    \n",
    "    # Get the index of the max log-probability\n",
    "    _, predicted = torch.max(pred, dim=1)\n",
    "    print(\"Predicted:\", predicted)"
   ]
  },
  {
   "cell_type": "markdown",
   "metadata": {},
   "source": [
    "Trained model works fine!\n",
    "Predicting the Cropped Test data"
   ]
  },
  {
   "cell_type": "code",
   "execution_count": null,
   "metadata": {},
   "outputs": [],
   "source": [
    "cropped_dir = '/Users/velmurugan/Desktop/@/python_works/License plate detection/cropped_images'\n",
    "\n",
    "results = []\n",
    "\n",
    "for image_name in os.listdir(cropped_dir):\n",
    "    # Take each image, do preprocess and predict the charaters in it \n",
    "    image_path = os.path.join(cropped_dir,image_name)\n",
    "    \n",
    "    image = cv2.imread(image_path, cv2.IMREAD_GRAYSCALE)    \n",
    "    image = cv2.resize(image, (128, 32))\n",
    "    transform = transforms.Compose([\n",
    "    transforms.ToTensor(),\n",
    "    transforms.Normalize((0.5,), (0.5,))])\n",
    "    image = transform(image)\n",
    "\n",
    "    pred = loaded_model(image.unsqueeze(0))\n",
    "    # Get the index of the max log-probability\n",
    "    _, predicted = torch.max(pred, dim=1)\n",
    "    predicted = predicted[0].tolist()\n",
    "\n",
    "    results.append((image_name,predicted))"
   ]
  },
  {
   "cell_type": "code",
   "execution_count": 8,
   "metadata": {},
   "outputs": [
    {
     "data": {
      "text/plain": [
       "[('901.jpg', [0, 0, 0, 1, 6, 9, 9, 6, 8, 5]),\n",
       " ('902.jpg', [0, 0, 0, 1, 2, 9, 2, 2, 7, 5]),\n",
       " ('903.jpg', [0, 0, 0, 1, 1, 1, 2, 7, 9, 9]),\n",
       " ('904.jpg', [0, 0, 0, 1, 2, 2, 6, 3, 2, 4]),\n",
       " ('905.jpg', [0, 0, 0, 1, 2, 0, 8, 9, 1, 7]),\n",
       " ('906.jpg', [0, 0, 0, 1, 7, 5, 2, 7, 2, 0]),\n",
       " ('907.jpg', [0, 0, 0, 0, 7, 5, 6, 5, 5, 8]),\n",
       " ('908.jpg', [0, 0, 0, 1, 7, 7, 4, 7, 1, 2]),\n",
       " ('909.jpg', [0, 0, 0, 0, 8, 0, 4, 2, 6, 7]),\n",
       " ('910.jpg', [0, 0, 0, 0, 8, 9, 3, 1, 8, 7])]"
      ]
     },
     "execution_count": 8,
     "metadata": {},
     "output_type": "execute_result"
    }
   ],
   "source": [
    "# Results are in unsorted manner\n",
    "# Function to extract numerical part from the image name for sorting\n",
    "\n",
    "def extract_number(image_name):\n",
    "    match = re.search(r'(\\d+)', image_name)\n",
    "    return int(match.group(1)) if match else 0\n",
    "\n",
    "results = sorted(results, key= lambda x:extract_number(x[0]))\n",
    "results[:10]"
   ]
  },
  {
   "cell_type": "code",
   "execution_count": 12,
   "metadata": {},
   "outputs": [],
   "source": [
    "#removing the padded zeros\n",
    "\n",
    "for name, val in results:\n",
    "    val.pop(0)\n",
    "    val.pop(0)\n",
    "    val.pop(0)"
   ]
  },
  {
   "cell_type": "code",
   "execution_count": 13,
   "metadata": {},
   "outputs": [
    {
     "data": {
      "text/plain": [
       "[('901.jpg', [1, 6, 9, 9, 6, 8, 5]),\n",
       " ('902.jpg', [1, 2, 9, 2, 2, 7, 5]),\n",
       " ('903.jpg', [1, 1, 1, 2, 7, 9, 9]),\n",
       " ('904.jpg', [1, 2, 2, 6, 3, 2, 4]),\n",
       " ('905.jpg', [1, 2, 0, 8, 9, 1, 7]),\n",
       " ('906.jpg', [1, 7, 5, 2, 7, 2, 0]),\n",
       " ('907.jpg', [0, 7, 5, 6, 5, 5, 8]),\n",
       " ('908.jpg', [1, 7, 7, 4, 7, 1, 2]),\n",
       " ('909.jpg', [0, 8, 0, 4, 2, 6, 7]),\n",
       " ('910.jpg', [0, 8, 9, 3, 1, 8, 7])]"
      ]
     },
     "execution_count": 13,
     "metadata": {},
     "output_type": "execute_result"
    }
   ],
   "source": [
    "results[:10]"
   ]
  },
  {
   "cell_type": "code",
   "execution_count": 14,
   "metadata": {},
   "outputs": [
    {
     "name": "stdout",
     "output_type": "stream",
     "text": [
      "['img_901_1', 0, 1, 0, 0, 0, 0, 0, 0, 0, 0]\n",
      "['img_901_2', 0, 0, 0, 0, 0, 0, 1, 0, 0, 0]\n",
      "['img_901_3', 0, 0, 0, 0, 0, 0, 0, 0, 0, 1]\n",
      "['img_901_4', 0, 0, 0, 0, 0, 0, 0, 0, 0, 1]\n",
      "['img_901_5', 0, 0, 0, 0, 0, 0, 1, 0, 0, 0]\n",
      "['img_901_6', 0, 0, 0, 0, 0, 0, 0, 0, 1, 0]\n",
      "['img_901_7', 0, 0, 0, 0, 0, 1, 0, 0, 0, 0]\n",
      "['img_902_1', 0, 1, 0, 0, 0, 0, 0, 0, 0, 0]\n",
      "['img_902_2', 0, 0, 1, 0, 0, 0, 0, 0, 0, 0]\n",
      "['img_902_3', 0, 0, 0, 0, 0, 0, 0, 0, 0, 1]\n",
      "['img_902_4', 0, 0, 1, 0, 0, 0, 0, 0, 0, 0]\n",
      "['img_902_5', 0, 0, 1, 0, 0, 0, 0, 0, 0, 0]\n",
      "['img_902_6', 0, 0, 0, 0, 0, 0, 0, 1, 0, 0]\n",
      "['img_902_7', 0, 0, 0, 0, 0, 1, 0, 0, 0, 0]\n"
     ]
    }
   ],
   "source": [
    "# Function to transform data as per sample submission.csv\n",
    "\n",
    "def transform_data(data):\n",
    "    binary = [0]*10\n",
    "    transformed_data = []\n",
    "\n",
    "    for name,values in data:\n",
    "        for i,val in enumerate(values):\n",
    "            image_name = 'img_'+name.split('.')[0]+'_'+str(i+1) #img_901_1\n",
    "            binary[val] = 1\n",
    "            transformed_data.append([image_name] + binary)\n",
    "            binary = [0]*10\n",
    "\n",
    "    return transformed_data\n",
    "\n",
    "# Apply the transformation\n",
    "transformed_data = transform_data(results)\n",
    "\n",
    "# Print the transformed data\n",
    "\n",
    "for i,row in enumerate(transformed_data):\n",
    "    print(row)\n",
    "    if i == 13:\n",
    "        break\n"
   ]
  },
  {
   "cell_type": "code",
   "execution_count": null,
   "metadata": {},
   "outputs": [],
   "source": [
    "# File name to save the transformed data\n",
    "output_file = '/Users/velmurugan/Desktop/@/python_works/License plate detection/Submission.csv'\n",
    "\n",
    "# Write to CSV file\n",
    "with open(output_file, 'w', newline='') as file:\n",
    "    writer = csv.writer(file)\n",
    "    writer.writerow(['id', '0', '1', '2', '3', '4', '5', '6', '7', '8', '9'])  # Header row\n",
    "    writer.writerows(transformed_data)\n",
    "\n",
    "print(f\"Data saved to {output_file}\")\n"
   ]
  },
  {
   "cell_type": "code",
   "execution_count": 48,
   "metadata": {},
   "outputs": [
    {
     "data": {
      "text/html": [
       "<div>\n",
       "<style scoped>\n",
       "    .dataframe tbody tr th:only-of-type {\n",
       "        vertical-align: middle;\n",
       "    }\n",
       "\n",
       "    .dataframe tbody tr th {\n",
       "        vertical-align: top;\n",
       "    }\n",
       "\n",
       "    .dataframe thead th {\n",
       "        text-align: right;\n",
       "    }\n",
       "</style>\n",
       "<table border=\"1\" class=\"dataframe\">\n",
       "  <thead>\n",
       "    <tr style=\"text-align: right;\">\n",
       "      <th></th>\n",
       "      <th>id</th>\n",
       "      <th>0</th>\n",
       "      <th>1</th>\n",
       "      <th>2</th>\n",
       "      <th>3</th>\n",
       "      <th>4</th>\n",
       "      <th>5</th>\n",
       "      <th>6</th>\n",
       "      <th>7</th>\n",
       "      <th>8</th>\n",
       "      <th>9</th>\n",
       "    </tr>\n",
       "  </thead>\n",
       "  <tbody>\n",
       "    <tr>\n",
       "      <th>0</th>\n",
       "      <td>img_901_1</td>\n",
       "      <td>0</td>\n",
       "      <td>1</td>\n",
       "      <td>0</td>\n",
       "      <td>0</td>\n",
       "      <td>0</td>\n",
       "      <td>0</td>\n",
       "      <td>0</td>\n",
       "      <td>0</td>\n",
       "      <td>0</td>\n",
       "      <td>0</td>\n",
       "    </tr>\n",
       "    <tr>\n",
       "      <th>1</th>\n",
       "      <td>img_901_2</td>\n",
       "      <td>0</td>\n",
       "      <td>0</td>\n",
       "      <td>0</td>\n",
       "      <td>0</td>\n",
       "      <td>0</td>\n",
       "      <td>0</td>\n",
       "      <td>1</td>\n",
       "      <td>0</td>\n",
       "      <td>0</td>\n",
       "      <td>0</td>\n",
       "    </tr>\n",
       "    <tr>\n",
       "      <th>2</th>\n",
       "      <td>img_901_3</td>\n",
       "      <td>0</td>\n",
       "      <td>0</td>\n",
       "      <td>0</td>\n",
       "      <td>0</td>\n",
       "      <td>0</td>\n",
       "      <td>0</td>\n",
       "      <td>0</td>\n",
       "      <td>0</td>\n",
       "      <td>0</td>\n",
       "      <td>1</td>\n",
       "    </tr>\n",
       "    <tr>\n",
       "      <th>3</th>\n",
       "      <td>img_901_4</td>\n",
       "      <td>0</td>\n",
       "      <td>0</td>\n",
       "      <td>0</td>\n",
       "      <td>0</td>\n",
       "      <td>0</td>\n",
       "      <td>0</td>\n",
       "      <td>0</td>\n",
       "      <td>0</td>\n",
       "      <td>0</td>\n",
       "      <td>1</td>\n",
       "    </tr>\n",
       "    <tr>\n",
       "      <th>4</th>\n",
       "      <td>img_901_5</td>\n",
       "      <td>0</td>\n",
       "      <td>0</td>\n",
       "      <td>0</td>\n",
       "      <td>0</td>\n",
       "      <td>0</td>\n",
       "      <td>0</td>\n",
       "      <td>1</td>\n",
       "      <td>0</td>\n",
       "      <td>0</td>\n",
       "      <td>0</td>\n",
       "    </tr>\n",
       "    <tr>\n",
       "      <th>...</th>\n",
       "      <td>...</td>\n",
       "      <td>...</td>\n",
       "      <td>...</td>\n",
       "      <td>...</td>\n",
       "      <td>...</td>\n",
       "      <td>...</td>\n",
       "      <td>...</td>\n",
       "      <td>...</td>\n",
       "      <td>...</td>\n",
       "      <td>...</td>\n",
       "      <td>...</td>\n",
       "    </tr>\n",
       "    <tr>\n",
       "      <th>1465</th>\n",
       "      <td>img_1113_3</td>\n",
       "      <td>1</td>\n",
       "      <td>0</td>\n",
       "      <td>0</td>\n",
       "      <td>0</td>\n",
       "      <td>0</td>\n",
       "      <td>0</td>\n",
       "      <td>0</td>\n",
       "      <td>0</td>\n",
       "      <td>0</td>\n",
       "      <td>0</td>\n",
       "    </tr>\n",
       "    <tr>\n",
       "      <th>1466</th>\n",
       "      <td>img_1113_4</td>\n",
       "      <td>0</td>\n",
       "      <td>0</td>\n",
       "      <td>0</td>\n",
       "      <td>0</td>\n",
       "      <td>0</td>\n",
       "      <td>1</td>\n",
       "      <td>0</td>\n",
       "      <td>0</td>\n",
       "      <td>0</td>\n",
       "      <td>0</td>\n",
       "    </tr>\n",
       "    <tr>\n",
       "      <th>1467</th>\n",
       "      <td>img_1113_5</td>\n",
       "      <td>0</td>\n",
       "      <td>0</td>\n",
       "      <td>0</td>\n",
       "      <td>1</td>\n",
       "      <td>0</td>\n",
       "      <td>0</td>\n",
       "      <td>0</td>\n",
       "      <td>0</td>\n",
       "      <td>0</td>\n",
       "      <td>0</td>\n",
       "    </tr>\n",
       "    <tr>\n",
       "      <th>1468</th>\n",
       "      <td>img_1113_6</td>\n",
       "      <td>0</td>\n",
       "      <td>0</td>\n",
       "      <td>0</td>\n",
       "      <td>1</td>\n",
       "      <td>0</td>\n",
       "      <td>0</td>\n",
       "      <td>0</td>\n",
       "      <td>0</td>\n",
       "      <td>0</td>\n",
       "      <td>0</td>\n",
       "    </tr>\n",
       "    <tr>\n",
       "      <th>1469</th>\n",
       "      <td>img_1113_7</td>\n",
       "      <td>0</td>\n",
       "      <td>0</td>\n",
       "      <td>0</td>\n",
       "      <td>1</td>\n",
       "      <td>0</td>\n",
       "      <td>0</td>\n",
       "      <td>0</td>\n",
       "      <td>0</td>\n",
       "      <td>0</td>\n",
       "      <td>0</td>\n",
       "    </tr>\n",
       "  </tbody>\n",
       "</table>\n",
       "<p>1470 rows × 11 columns</p>\n",
       "</div>"
      ],
      "text/plain": [
       "              id  0  1  2  3  4  5  6  7  8  9\n",
       "0      img_901_1  0  1  0  0  0  0  0  0  0  0\n",
       "1      img_901_2  0  0  0  0  0  0  1  0  0  0\n",
       "2      img_901_3  0  0  0  0  0  0  0  0  0  1\n",
       "3      img_901_4  0  0  0  0  0  0  0  0  0  1\n",
       "4      img_901_5  0  0  0  0  0  0  1  0  0  0\n",
       "...          ... .. .. .. .. .. .. .. .. .. ..\n",
       "1465  img_1113_3  1  0  0  0  0  0  0  0  0  0\n",
       "1466  img_1113_4  0  0  0  0  0  1  0  0  0  0\n",
       "1467  img_1113_5  0  0  0  1  0  0  0  0  0  0\n",
       "1468  img_1113_6  0  0  0  1  0  0  0  0  0  0\n",
       "1469  img_1113_7  0  0  0  1  0  0  0  0  0  0\n",
       "\n",
       "[1470 rows x 11 columns]"
      ]
     },
     "execution_count": 48,
     "metadata": {},
     "output_type": "execute_result"
    }
   ],
   "source": [
    "result_df = pd.read_csv(output_file)\n",
    "result_df"
   ]
  }
 ],
 "metadata": {
  "kernelspec": {
   "display_name": "Python 3",
   "language": "python",
   "name": "python3"
  },
  "language_info": {
   "codemirror_mode": {
    "name": "ipython",
    "version": 3
   },
   "file_extension": ".py",
   "mimetype": "text/x-python",
   "name": "python",
   "nbconvert_exporter": "python",
   "pygments_lexer": "ipython3",
   "version": "3.12.0"
  }
 },
 "nbformat": 4,
 "nbformat_minor": 2
}
